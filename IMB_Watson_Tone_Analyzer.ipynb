{
 "cells": [
  {
   "cell_type": "code",
   "execution_count": 22,
   "metadata": {
    "ExecuteTime": {
     "end_time": "2018-09-15T17:41:54.455498Z",
     "start_time": "2018-09-15T17:41:54.427320Z"
    }
   },
   "outputs": [],
   "source": [
    "from hidden import IBM_api"
   ]
  },
  {
   "cell_type": "markdown",
   "metadata": {
    "ExecuteTime": {
     "end_time": "2018-09-15T15:08:48.232585Z",
     "start_time": "2018-09-15T15:08:47.927595Z"
    }
   },
   "source": [
    "# IBM Watson Tone Analyzer\n",
    "\n",
    "To read these notes directly from IBM, please visit this website: https://www.ibm.com/watson/developercloud/tone-analyzer/api/v3/python.html?python#error-handling. Otherwise, most of the notes seen bellow have been taken directly from the website above and placed here to aid the reader.\n",
    "\n",
    "The IBM Watson Tone Analyzer service uses linguistic analysis to detect emotional and language tones in written text. The service can analyze tone at both the **document** and **sentence levels**."
   ]
  },
  {
   "cell_type": "markdown",
   "metadata": {},
   "source": [
    "## Authentication"
   ]
  },
  {
   "cell_type": "markdown",
   "metadata": {
    "ExecuteTime": {
     "end_time": "2018-09-15T15:09:06.778844Z",
     "start_time": "2018-09-15T15:09:06.754257Z"
    }
   },
   "source": [
    "IBM Cloud is migrating to token-based Identity and Access Management (IAM) authentication. With some service instances, you authenticate to the API by using IAM. You can pass either a bearer token in an Authorization header or an API key. If you pass in the API key, the SDK manages the lifecycle of the tokens."
   ]
  },
  {
   "cell_type": "code",
   "execution_count": 3,
   "metadata": {
    "ExecuteTime": {
     "end_time": "2018-09-15T15:53:03.874873Z",
     "start_time": "2018-09-15T15:53:02.988669Z"
    }
   },
   "outputs": [],
   "source": [
    "from watson_developer_cloud import ToneAnalyzerV3"
   ]
  },
  {
   "cell_type": "code",
   "execution_count": 28,
   "metadata": {
    "ExecuteTime": {
     "end_time": "2018-09-15T17:56:14.666093Z",
     "start_time": "2018-09-15T17:56:14.638553Z"
    }
   },
   "outputs": [],
   "source": [
    "tone_analyzer = ToneAnalyzerV3(\n",
    "    version = '2017-09-21',\n",
    "    iam_apikey = IBM_api,\n",
    "    url = 'https://gateway-wdc.watsonplatform.net/tone-analyzer/api'\n",
    ")"
   ]
  },
  {
   "cell_type": "markdown",
   "metadata": {},
   "source": [
    "## Service endpoint"
   ]
  },
  {
   "cell_type": "markdown",
   "metadata": {},
   "source": [
    "The service endpoint is based on the location of the service instance. If your API endpoint URL differs from the default, you must set your endpoint. \n",
    "\n",
    "To find out which URL to use, view the service credentials by clicking the service instance on the Dashboard. Set the correct service ```URL``` by using the url parameter when you create the service instance or by calling the ```set_url()``` method of the service instance."
   ]
  },
  {
   "cell_type": "code",
   "execution_count": 21,
   "metadata": {
    "ExecuteTime": {
     "end_time": "2018-09-15T17:41:01.694431Z",
     "start_time": "2018-09-15T17:41:01.671418Z"
    }
   },
   "outputs": [],
   "source": [
    "url = 'https://gateway-wdc.watsonplatform.net/tone-analyzer/api'"
   ]
  },
  {
   "cell_type": "markdown",
   "metadata": {},
   "source": [
    "## Versioning"
   ]
  },
  {
   "cell_type": "markdown",
   "metadata": {},
   "source": [
    "API requests require a version parameter that takes a date in the format ```version=YYYY-MM-DD```. When IBM changes the API in a **backwards-incompatible** way, they release a new version date.\n",
    "\n",
    "Specify the version to use on API requests with the version parameter when you create the service instance. The service uses the API version for the date you specify, or the most recent version before that date. Don't default to the current date. Instead, specify a date that matches a version that is compatible with your app, and don't change it until your app is ready for a later version."
   ]
  },
  {
   "cell_type": "code",
   "execution_count": 7,
   "metadata": {
    "ExecuteTime": {
     "end_time": "2018-09-15T16:02:24.121225Z",
     "start_time": "2018-09-15T16:02:24.102770Z"
    }
   },
   "outputs": [],
   "source": [
    "version = '2017-09-21'"
   ]
  },
  {
   "cell_type": "markdown",
   "metadata": {},
   "source": [
    "## Data handling"
   ]
  },
  {
   "cell_type": "markdown",
   "metadata": {},
   "source": [
    "#### Data Collection\n",
    "By default, all Watson services log requests and their results. **Logging is done only to improve the services for future users. The logged data is not shared or made public.**\n",
    "\n",
    "To prevent IBM from accessing your data for general service improvements, set the ```X-Watson-Learning-Opt-Out``` header parameter to ```true``` when you create the service instance. (Any value other than false or 0 disables request logging.) You can set the header using the ```set_default_headers``` method of the service object."
   ]
  },
  {
   "cell_type": "code",
   "execution_count": 15,
   "metadata": {
    "ExecuteTime": {
     "end_time": "2018-09-15T17:12:41.526352Z",
     "start_time": "2018-09-15T17:12:41.413176Z"
    }
   },
   "outputs": [],
   "source": [
    "tone_analyzer.set_default_headers({'x-watson-learning-opt-out': \"true\"})"
   ]
  },
  {
   "cell_type": "markdown",
   "metadata": {},
   "source": [
    "## Methods"
   ]
  },
  {
   "cell_type": "markdown",
   "metadata": {},
   "source": [
    "#### Analyze general tone\n",
    "\n",
    "Use the general purpose endpoint to analyze the tone of your input content. **The service analyzes the content for emotional and language tones**. \n",
    "- The method always analyzes the tone of the **full document; by default**, it also analyzes the **tone of each individual sentence of the content**.\n",
    "\n",
    "You can submit no more than 128 KB of total input content and no more than 1000 individual sentences in JSON, plain text, or HTML format. The service analyzes the first 1000 sentences for document-level analysis and only the first 100 sentences for sentence-level analysis.\n",
    "\n",
    "Per the JSON specification, the default character encoding for JSON content is effectively always UTF-8; per the HTTP specification, the default encoding for plain text and HTML is ISO-8859-1 (effectively, the ASCII character set). When specifying a content type of plain text or HTML, include the charset parameter to indicate the character encoding of the input text; for example: Content-Type: text/plain;charset=utf-8. For text/html, the service removes HTML tags and analyzes only the textual content."
   ]
  },
  {
   "cell_type": "markdown",
   "metadata": {},
   "source": [
    "#### Request"
   ]
  },
  {
   "cell_type": "markdown",
   "metadata": {},
   "source": [
    "tone(self, tone_input, content_type, sentences=None, tones=None, content_language=None, accept_language=None, **kwargs)\n",
    "\n",
    "**ToneInput**:\n",
    "\n",
    "| Name        | Description     | \n",
    "| ------------- |:-------------:| \n",
    "| text (str):     | The input content that the service is to analyze. |\n",
    "\n"
   ]
  },
  {
   "cell_type": "code",
   "execution_count": 45,
   "metadata": {
    "ExecuteTime": {
     "end_time": "2018-09-15T18:21:22.663294Z",
     "start_time": "2018-09-15T18:21:21.576112Z"
    }
   },
   "outputs": [
    {
     "name": "stdout",
     "output_type": "stream",
     "text": [
      "{\n",
      "  \"document_tone\": {\n",
      "    \"tones\": [\n",
      "      {\n",
      "        \"score\": 0.6165,\n",
      "        \"tone_id\": \"sadness\",\n",
      "        \"tone_name\": \"Sadness\"\n",
      "      },\n",
      "      {\n",
      "        \"score\": 0.829888,\n",
      "        \"tone_id\": \"analytical\",\n",
      "        \"tone_name\": \"Analytical\"\n",
      "      }\n",
      "    ]\n",
      "  },\n",
      "  \"sentences_tone\": [\n",
      "    {\n",
      "      \"sentence_id\": 0,\n",
      "      \"text\": \"Team, I know that times are tough!\",\n",
      "      \"tones\": [\n",
      "        {\n",
      "          \"score\": 0.801827,\n",
      "          \"tone_id\": \"analytical\",\n",
      "          \"tone_name\": \"Analytical\"\n",
      "        }\n",
      "      ]\n",
      "    },\n",
      "    {\n",
      "      \"sentence_id\": 1,\n",
      "      \"text\": \"Product sales have been disappointing for the past three quarters.\",\n",
      "      \"tones\": [\n",
      "        {\n",
      "          \"score\": 0.771241,\n",
      "          \"tone_id\": \"sadness\",\n",
      "          \"tone_name\": \"Sadness\"\n",
      "        },\n",
      "        {\n",
      "          \"score\": 0.687768,\n",
      "          \"tone_id\": \"analytical\",\n",
      "          \"tone_name\": \"Analytical\"\n",
      "        }\n",
      "      ]\n",
      "    },\n",
      "    {\n",
      "      \"sentence_id\": 2,\n",
      "      \"text\": \"We have a competitive product, but we need to do a better job of selling it!\",\n",
      "      \"tones\": [\n",
      "        {\n",
      "          \"score\": 0.506763,\n",
      "          \"tone_id\": \"analytical\",\n",
      "          \"tone_name\": \"Analytical\"\n",
      "        }\n",
      "      ]\n",
      "    }\n",
      "  ]\n",
      "}\n"
     ]
    }
   ],
   "source": [
    "import json\n",
    "from watson_developer_cloud import ToneAnalyzerV3\n",
    "\n",
    "text = 'Team, I know that times are tough! Product '\\\n",
    "    'sales have been disappointing for the past three '\\\n",
    "    'quarters. We have a competitive product, but we '\\\n",
    "    'need to do a better job of selling it!'\n",
    "\n",
    "tone_analysis = tone_analyzer.tone(\n",
    "    {'text': text},\n",
    "    'application/json').get_result()\n",
    "print(json.dumps(tone_analysis, indent=2))"
   ]
  },
  {
   "cell_type": "markdown",
   "metadata": {},
   "source": [
    "# Function to Distill the Overarching Document Tones Into a Pandas DF"
   ]
  },
  {
   "cell_type": "code",
   "execution_count": 76,
   "metadata": {
    "ExecuteTime": {
     "end_time": "2018-09-15T18:30:52.426949Z",
     "start_time": "2018-09-15T18:30:52.400267Z"
    }
   },
   "outputs": [],
   "source": [
    "def text_analysis_to_pd(tone_analysis):\n",
    "    return pd.DataFrame.from_dict(tone_analysis['document_tone']['tones'])"
   ]
  },
  {
   "cell_type": "markdown",
   "metadata": {},
   "source": [
    "#### example"
   ]
  },
  {
   "cell_type": "code",
   "execution_count": 77,
   "metadata": {
    "ExecuteTime": {
     "end_time": "2018-09-15T18:31:02.197956Z",
     "start_time": "2018-09-15T18:31:02.165428Z"
    }
   },
   "outputs": [
    {
     "data": {
      "text/html": [
       "<div>\n",
       "<style scoped>\n",
       "    .dataframe tbody tr th:only-of-type {\n",
       "        vertical-align: middle;\n",
       "    }\n",
       "\n",
       "    .dataframe tbody tr th {\n",
       "        vertical-align: top;\n",
       "    }\n",
       "\n",
       "    .dataframe thead th {\n",
       "        text-align: right;\n",
       "    }\n",
       "</style>\n",
       "<table border=\"1\" class=\"dataframe\">\n",
       "  <thead>\n",
       "    <tr style=\"text-align: right;\">\n",
       "      <th></th>\n",
       "      <th>score</th>\n",
       "      <th>tone_id</th>\n",
       "      <th>tone_name</th>\n",
       "    </tr>\n",
       "  </thead>\n",
       "  <tbody>\n",
       "    <tr>\n",
       "      <th>0</th>\n",
       "      <td>0.616500</td>\n",
       "      <td>sadness</td>\n",
       "      <td>Sadness</td>\n",
       "    </tr>\n",
       "    <tr>\n",
       "      <th>1</th>\n",
       "      <td>0.829888</td>\n",
       "      <td>analytical</td>\n",
       "      <td>Analytical</td>\n",
       "    </tr>\n",
       "  </tbody>\n",
       "</table>\n",
       "</div>"
      ],
      "text/plain": [
       "      score     tone_id   tone_name\n",
       "0  0.616500     sadness     Sadness\n",
       "1  0.829888  analytical  Analytical"
      ]
     },
     "execution_count": 77,
     "metadata": {},
     "output_type": "execute_result"
    }
   ],
   "source": [
    "text_analysis_to_pd(tone_analysis)"
   ]
  },
  {
   "cell_type": "markdown",
   "metadata": {},
   "source": [
    "# Functions to Distill the Sentence Tones Into a Pandas DF"
   ]
  },
  {
   "cell_type": "code",
   "execution_count": 83,
   "metadata": {
    "ExecuteTime": {
     "end_time": "2018-09-15T18:32:09.646010Z",
     "start_time": "2018-09-15T18:32:09.618422Z"
    }
   },
   "outputs": [],
   "source": [
    "df = pd.DataFrame.from_dict(tone_analysis['sentences_tone'])"
   ]
  },
  {
   "cell_type": "code",
   "execution_count": 209,
   "metadata": {
    "ExecuteTime": {
     "end_time": "2018-09-15T19:03:16.935718Z",
     "start_time": "2018-09-15T19:03:16.906811Z"
    }
   },
   "outputs": [],
   "source": [
    "df['score'] = df['tones'].apply(get_score)\n",
    "df['tone'] = df['tones'].apply(get_tone)"
   ]
  },
  {
   "cell_type": "code",
   "execution_count": 204,
   "metadata": {
    "ExecuteTime": {
     "end_time": "2018-09-15T19:02:23.577249Z",
     "start_time": "2018-09-15T19:02:23.546675Z"
    }
   },
   "outputs": [],
   "source": [
    "def get_score(tones):\n",
    "    output = ''\n",
    "    for idx, score in enumerate(tones, 1):\n",
    "        output += f\"Score {idx}: {score['score']} \"\n",
    "    return output"
   ]
  },
  {
   "cell_type": "code",
   "execution_count": 208,
   "metadata": {
    "ExecuteTime": {
     "end_time": "2018-09-15T19:03:07.235143Z",
     "start_time": "2018-09-15T19:03:07.207479Z"
    }
   },
   "outputs": [],
   "source": [
    "def get_tone(tones):\n",
    "    output = ''\n",
    "    for idx, score in enumerate(tones, 1):\n",
    "        output += f\"Tone {idx}: {score['tone_name']} \"\n",
    "    return output"
   ]
  },
  {
   "cell_type": "code",
   "execution_count": 239,
   "metadata": {
    "ExecuteTime": {
     "end_time": "2018-09-15T19:33:47.025880Z",
     "start_time": "2018-09-15T19:33:46.821409Z"
    }
   },
   "outputs": [],
   "source": [
    "def text_to_doc_analysis(text):\n",
    "    tone_analysis = tone_analyzer.tone(\n",
    "    {'text': text},\n",
    "    'application/json').get_result()\n",
    "    return text_analysis_to_pd(tone_analysis)\n",
    "\n",
    "def text_to_sentence_analysis(text):\n",
    "    tone_analysis = tone_analyzer.tone(\n",
    "    {'text': text},\n",
    "    'application/json').get_result()\n",
    "    df = pd.DataFrame.from_dict(tone_analysis['sentences_tone'])\n",
    "    df['score'] = df['tones'].apply(get_score)\n",
    "    df['tone'] = df['tones'].apply(get_tone)\n",
    "    return df[['sentence_id', 'text', 'score', 'tone']]"
   ]
  },
  {
   "cell_type": "markdown",
   "metadata": {},
   "source": [
    "# Sample Pipeline: MBA student's \"failure\" essay "
   ]
  },
  {
   "cell_type": "markdown",
   "metadata": {},
   "source": [
    "#### Student's Essay"
   ]
  },
  {
   "cell_type": "code",
   "execution_count": 235,
   "metadata": {
    "ExecuteTime": {
     "end_time": "2018-09-15T19:22:04.538782Z",
     "start_time": "2018-09-15T19:22:04.457429Z"
    }
   },
   "outputs": [],
   "source": [
    "t = \"\"\" In my 2nd year in university, my 2 study partners and I were all working for software companies. We frequently discussed ways to make quantum career leaps. One that fascinated us was starting our own company.\n",
    "\n",
    "One day we came up with an idea that would increase sales for consumer goods retailers and simultaneously decrease monthly consumer expenses. Each day, we polished our idea together for a couple hours.\n",
    "\n",
    "After 2 weeks, I decided to get outside feedback. I looked for people who had at least 10 years experience in consumer goods. Finally, I convinced a friend, to connect me with a board member of the 2nd largest consumer goods retailer in my country.\n",
    "\n",
    "I presented our business model to the board member, and he instructed his right-hand to set us meetings with managers who could evaluate our plans. Over the next month, we went to one meeting after another. The responses varied from enthusiasm to skepticism. Each time, we improved our presentation according to the feedback.\n",
    "\n",
    "Finally, I managed to set a meeting with the previous CEO of the largest consumer goods retailer. He concluded our meeting with: “Guys, in my opinion, it’s not going to work”.\n",
    "\n",
    "I couldn’t say if it was the pressure from school and work or the CEO’s negative feedback, but since that meeting, I wasn’t able to motivate the team to go on. We consciously gave up.\n",
    "\n",
    "2 years later, one of my teammates called out of the blue: “check out this link…it works!”. I think he expected me to feel disappointment. Actually, I felt pride – my first business attempt was viable after all.\"\"\""
   ]
  },
  {
   "cell_type": "markdown",
   "metadata": {},
   "source": [
    "#### Overarching Document Tones"
   ]
  },
  {
   "cell_type": "code",
   "execution_count": 236,
   "metadata": {
    "ExecuteTime": {
     "end_time": "2018-09-15T19:22:05.758588Z",
     "start_time": "2018-09-15T19:22:04.909198Z"
    }
   },
   "outputs": [
    {
     "data": {
      "text/html": [
       "<div>\n",
       "<style scoped>\n",
       "    .dataframe tbody tr th:only-of-type {\n",
       "        vertical-align: middle;\n",
       "    }\n",
       "\n",
       "    .dataframe tbody tr th {\n",
       "        vertical-align: top;\n",
       "    }\n",
       "\n",
       "    .dataframe thead th {\n",
       "        text-align: right;\n",
       "    }\n",
       "</style>\n",
       "<table border=\"1\" class=\"dataframe\">\n",
       "  <thead>\n",
       "    <tr style=\"text-align: right;\">\n",
       "      <th></th>\n",
       "      <th>score</th>\n",
       "      <th>tone_id</th>\n",
       "      <th>tone_name</th>\n",
       "    </tr>\n",
       "  </thead>\n",
       "  <tbody>\n",
       "    <tr>\n",
       "      <th>0</th>\n",
       "      <td>0.507810</td>\n",
       "      <td>sadness</td>\n",
       "      <td>Sadness</td>\n",
       "    </tr>\n",
       "    <tr>\n",
       "      <th>1</th>\n",
       "      <td>0.605044</td>\n",
       "      <td>joy</td>\n",
       "      <td>Joy</td>\n",
       "    </tr>\n",
       "    <tr>\n",
       "      <th>2</th>\n",
       "      <td>0.858529</td>\n",
       "      <td>analytical</td>\n",
       "      <td>Analytical</td>\n",
       "    </tr>\n",
       "  </tbody>\n",
       "</table>\n",
       "</div>"
      ],
      "text/plain": [
       "      score     tone_id   tone_name\n",
       "0  0.507810     sadness     Sadness\n",
       "1  0.605044         joy         Joy\n",
       "2  0.858529  analytical  Analytical"
      ]
     },
     "execution_count": 236,
     "metadata": {},
     "output_type": "execute_result"
    }
   ],
   "source": [
    "text_to_doc_analysis(t)"
   ]
  },
  {
   "cell_type": "markdown",
   "metadata": {},
   "source": [
    "#### Sentence Tones"
   ]
  },
  {
   "cell_type": "code",
   "execution_count": 238,
   "metadata": {
    "ExecuteTime": {
     "end_time": "2018-09-15T19:22:13.034746Z",
     "start_time": "2018-09-15T19:22:12.163743Z"
    }
   },
   "outputs": [
    {
     "data": {
      "text/html": [
       "<div>\n",
       "<style scoped>\n",
       "    .dataframe tbody tr th:only-of-type {\n",
       "        vertical-align: middle;\n",
       "    }\n",
       "\n",
       "    .dataframe tbody tr th {\n",
       "        vertical-align: top;\n",
       "    }\n",
       "\n",
       "    .dataframe thead th {\n",
       "        text-align: right;\n",
       "    }\n",
       "</style>\n",
       "<table border=\"1\" class=\"dataframe\">\n",
       "  <thead>\n",
       "    <tr style=\"text-align: right;\">\n",
       "      <th></th>\n",
       "      <th>sentence_id</th>\n",
       "      <th>text</th>\n",
       "      <th>score</th>\n",
       "      <th>tone</th>\n",
       "    </tr>\n",
       "  </thead>\n",
       "  <tbody>\n",
       "    <tr>\n",
       "      <th>0</th>\n",
       "      <td>0</td>\n",
       "      <td>In my 2nd year in university, my 2 study partn...</td>\n",
       "      <td>Score 1: 0.559715 Score 2: 0.660207</td>\n",
       "      <td>Tone 1: Sadness Tone 2: Confident</td>\n",
       "    </tr>\n",
       "    <tr>\n",
       "      <th>1</th>\n",
       "      <td>1</td>\n",
       "      <td>We frequently discussed ways to make quantum c...</td>\n",
       "      <td></td>\n",
       "      <td></td>\n",
       "    </tr>\n",
       "    <tr>\n",
       "      <th>2</th>\n",
       "      <td>2</td>\n",
       "      <td>One that fascinated us was starting our own co...</td>\n",
       "      <td></td>\n",
       "      <td></td>\n",
       "    </tr>\n",
       "    <tr>\n",
       "      <th>3</th>\n",
       "      <td>3</td>\n",
       "      <td>One day we came up with an idea that would inc...</td>\n",
       "      <td>Score 1: 0.541591</td>\n",
       "      <td>Tone 1: Analytical</td>\n",
       "    </tr>\n",
       "    <tr>\n",
       "      <th>4</th>\n",
       "      <td>4</td>\n",
       "      <td>Each day, we polished our idea together for a ...</td>\n",
       "      <td>Score 1: 0.684799</td>\n",
       "      <td>Tone 1: Joy</td>\n",
       "    </tr>\n",
       "    <tr>\n",
       "      <th>5</th>\n",
       "      <td>5</td>\n",
       "      <td>After 2 weeks, I decided to get outside feedback.</td>\n",
       "      <td>Score 1: 0.874372 Score 2: 0.901894</td>\n",
       "      <td>Tone 1: Confident Tone 2: Analytical</td>\n",
       "    </tr>\n",
       "    <tr>\n",
       "      <th>6</th>\n",
       "      <td>6</td>\n",
       "      <td>I looked for people who had at least 10 years ...</td>\n",
       "      <td>Score 1: 0.508012</td>\n",
       "      <td>Tone 1: Joy</td>\n",
       "    </tr>\n",
       "    <tr>\n",
       "      <th>7</th>\n",
       "      <td>7</td>\n",
       "      <td>Finally, I convinced a friend, to connect me w...</td>\n",
       "      <td>Score 1: 0.772407 Score 2: 0.579367</td>\n",
       "      <td>Tone 1: Joy Tone 2: Analytical</td>\n",
       "    </tr>\n",
       "    <tr>\n",
       "      <th>8</th>\n",
       "      <td>8</td>\n",
       "      <td>I presented our business model to the board me...</td>\n",
       "      <td>Score 1: 0.503542</td>\n",
       "      <td>Tone 1: Analytical</td>\n",
       "    </tr>\n",
       "    <tr>\n",
       "      <th>9</th>\n",
       "      <td>9</td>\n",
       "      <td>Over the next month, we went to one meeting af...</td>\n",
       "      <td></td>\n",
       "      <td></td>\n",
       "    </tr>\n",
       "    <tr>\n",
       "      <th>10</th>\n",
       "      <td>10</td>\n",
       "      <td>The responses varied from enthusiasm to skepti...</td>\n",
       "      <td>Score 1: 0.801827</td>\n",
       "      <td>Tone 1: Analytical</td>\n",
       "    </tr>\n",
       "    <tr>\n",
       "      <th>11</th>\n",
       "      <td>11</td>\n",
       "      <td>Each time, we improved our presentation accord...</td>\n",
       "      <td>Score 1: 0.955445</td>\n",
       "      <td>Tone 1: Analytical</td>\n",
       "    </tr>\n",
       "    <tr>\n",
       "      <th>12</th>\n",
       "      <td>12</td>\n",
       "      <td>Finally, I managed to set a meeting with the p...</td>\n",
       "      <td>Score 1: 0.750001</td>\n",
       "      <td>Tone 1: Joy</td>\n",
       "    </tr>\n",
       "    <tr>\n",
       "      <th>13</th>\n",
       "      <td>13</td>\n",
       "      <td>He concluded our meeting with: “Guys, in my op...</td>\n",
       "      <td>Score 1: 0.88939</td>\n",
       "      <td>Tone 1: Tentative</td>\n",
       "    </tr>\n",
       "    <tr>\n",
       "      <th>14</th>\n",
       "      <td>14</td>\n",
       "      <td>I couldn’t say if it was the pressure from sch...</td>\n",
       "      <td>Score 1: 0.516224 Score 2: 0.519491</td>\n",
       "      <td>Tone 1: Sadness Tone 2: Analytical</td>\n",
       "    </tr>\n",
       "    <tr>\n",
       "      <th>15</th>\n",
       "      <td>15</td>\n",
       "      <td>We consciously gave up.</td>\n",
       "      <td>Score 1: 0.920855</td>\n",
       "      <td>Tone 1: Analytical</td>\n",
       "    </tr>\n",
       "    <tr>\n",
       "      <th>16</th>\n",
       "      <td>16</td>\n",
       "      <td></td>\n",
       "      <td></td>\n",
       "      <td></td>\n",
       "    </tr>\n",
       "    <tr>\n",
       "      <th>17</th>\n",
       "      <td>17</td>\n",
       "      <td>2 years later, one of my teammates called out ...</td>\n",
       "      <td>Score 1: 0.968931</td>\n",
       "      <td>Tone 1: Analytical</td>\n",
       "    </tr>\n",
       "    <tr>\n",
       "      <th>18</th>\n",
       "      <td>18</td>\n",
       "      <td>I think he expected me to feel disappointment.</td>\n",
       "      <td>Score 1: 0.67107 Score 2: 0.920855 Score 3: 0....</td>\n",
       "      <td>Tone 1: Sadness Tone 2: Analytical Tone 3: Ten...</td>\n",
       "    </tr>\n",
       "    <tr>\n",
       "      <th>19</th>\n",
       "      <td>19</td>\n",
       "      <td>Actually, I felt pride – my first business att...</td>\n",
       "      <td>Score 1: 0.588658 Score 2: 0.950868</td>\n",
       "      <td>Tone 1: Joy Tone 2: Analytical</td>\n",
       "    </tr>\n",
       "  </tbody>\n",
       "</table>\n",
       "</div>"
      ],
      "text/plain": [
       "    sentence_id                                               text  \\\n",
       "0             0  In my 2nd year in university, my 2 study partn...   \n",
       "1             1  We frequently discussed ways to make quantum c...   \n",
       "2             2  One that fascinated us was starting our own co...   \n",
       "3             3  One day we came up with an idea that would inc...   \n",
       "4             4  Each day, we polished our idea together for a ...   \n",
       "5             5  After 2 weeks, I decided to get outside feedback.   \n",
       "6             6  I looked for people who had at least 10 years ...   \n",
       "7             7  Finally, I convinced a friend, to connect me w...   \n",
       "8             8  I presented our business model to the board me...   \n",
       "9             9  Over the next month, we went to one meeting af...   \n",
       "10           10  The responses varied from enthusiasm to skepti...   \n",
       "11           11  Each time, we improved our presentation accord...   \n",
       "12           12  Finally, I managed to set a meeting with the p...   \n",
       "13           13  He concluded our meeting with: “Guys, in my op...   \n",
       "14           14  I couldn’t say if it was the pressure from sch...   \n",
       "15           15                            We consciously gave up.   \n",
       "16           16                                                      \n",
       "17           17  2 years later, one of my teammates called out ...   \n",
       "18           18     I think he expected me to feel disappointment.   \n",
       "19           19  Actually, I felt pride – my first business att...   \n",
       "\n",
       "                                                score  \\\n",
       "0                Score 1: 0.559715 Score 2: 0.660207    \n",
       "1                                                       \n",
       "2                                                       \n",
       "3                                  Score 1: 0.541591    \n",
       "4                                  Score 1: 0.684799    \n",
       "5                Score 1: 0.874372 Score 2: 0.901894    \n",
       "6                                  Score 1: 0.508012    \n",
       "7                Score 1: 0.772407 Score 2: 0.579367    \n",
       "8                                  Score 1: 0.503542    \n",
       "9                                                       \n",
       "10                                 Score 1: 0.801827    \n",
       "11                                 Score 1: 0.955445    \n",
       "12                                 Score 1: 0.750001    \n",
       "13                                  Score 1: 0.88939    \n",
       "14               Score 1: 0.516224 Score 2: 0.519491    \n",
       "15                                 Score 1: 0.920855    \n",
       "16                                                      \n",
       "17                                 Score 1: 0.968931    \n",
       "18  Score 1: 0.67107 Score 2: 0.920855 Score 3: 0....   \n",
       "19               Score 1: 0.588658 Score 2: 0.950868    \n",
       "\n",
       "                                                 tone  \n",
       "0                  Tone 1: Sadness Tone 2: Confident   \n",
       "1                                                      \n",
       "2                                                      \n",
       "3                                 Tone 1: Analytical   \n",
       "4                                        Tone 1: Joy   \n",
       "5               Tone 1: Confident Tone 2: Analytical   \n",
       "6                                        Tone 1: Joy   \n",
       "7                     Tone 1: Joy Tone 2: Analytical   \n",
       "8                                 Tone 1: Analytical   \n",
       "9                                                      \n",
       "10                                Tone 1: Analytical   \n",
       "11                                Tone 1: Analytical   \n",
       "12                                       Tone 1: Joy   \n",
       "13                                 Tone 1: Tentative   \n",
       "14                Tone 1: Sadness Tone 2: Analytical   \n",
       "15                                Tone 1: Analytical   \n",
       "16                                                     \n",
       "17                                Tone 1: Analytical   \n",
       "18  Tone 1: Sadness Tone 2: Analytical Tone 3: Ten...  \n",
       "19                    Tone 1: Joy Tone 2: Analytical   "
      ]
     },
     "execution_count": 238,
     "metadata": {},
     "output_type": "execute_result"
    }
   ],
   "source": [
    "text_to_sentence_analysis(t)"
   ]
  },
  {
   "cell_type": "code",
   "execution_count": null,
   "metadata": {},
   "outputs": [],
   "source": []
  }
 ],
 "metadata": {
  "kernelspec": {
   "display_name": "Python 3",
   "language": "python",
   "name": "python3"
  },
  "language_info": {
   "codemirror_mode": {
    "name": "ipython",
    "version": 3
   },
   "file_extension": ".py",
   "mimetype": "text/x-python",
   "name": "python",
   "nbconvert_exporter": "python",
   "pygments_lexer": "ipython3",
   "version": "3.6.5"
  }
 },
 "nbformat": 4,
 "nbformat_minor": 2
}

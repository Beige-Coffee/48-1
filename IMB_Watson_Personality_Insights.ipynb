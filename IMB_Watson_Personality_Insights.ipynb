{
 "cells": [
  {
   "cell_type": "code",
   "execution_count": 5,
   "metadata": {
    "ExecuteTime": {
     "end_time": "2018-09-16T19:27:09.898701Z",
     "start_time": "2018-09-16T19:27:09.879511Z"
    }
   },
   "outputs": [],
   "source": [
    "from hidden import IBM_personality_insights_api"
   ]
  },
  {
   "cell_type": "markdown",
   "metadata": {
    "ExecuteTime": {
     "end_time": "2018-09-15T15:08:48.232585Z",
     "start_time": "2018-09-15T15:08:47.927595Z"
    }
   },
   "source": [
    "# IBM Watson Personality Insights\n",
    "\n",
    "To read these notes directly from IBM, please visit this website: https://www.ibm.com/watson/developercloud/tone-analyzer/api/v3/python.html?python#error-handling. Otherwise, most of the notes seen bellow have been taken directly from the website above and placed here to aid the reader.\n",
    "\n",
    "The IBM Watson Personality Insights service enables applications to derive insights from social media, enterprise data, or other digital communications. The service uses linguistic analytics to infer individuals' intrinsic personality characteristics, including Big Five, Needs, and Values, from digital communications such as email, text messages, tweets, and forum posts.\n",
    "\n",
    "The service can automatically infer, from potentially noisy social media, portraits of individuals that reflect their personality characteristics. The service can infer consumption preferences based on the results of its analysis and, for JSON content that is timestamped, can report temporal behavior."
   ]
  },
  {
   "cell_type": "markdown",
   "metadata": {},
   "source": [
    "## Authentication"
   ]
  },
  {
   "cell_type": "markdown",
   "metadata": {
    "ExecuteTime": {
     "end_time": "2018-09-15T15:09:06.778844Z",
     "start_time": "2018-09-15T15:09:06.754257Z"
    }
   },
   "source": [
    "IBM Cloud is migrating to token-based Identity and Access Management (IAM) authentication. With some service instances, you authenticate to the API by using IAM. You can pass either a bearer token in an Authorization header or an API key. If you pass in the API key, the SDK manages the lifecycle of the tokens."
   ]
  },
  {
   "cell_type": "code",
   "execution_count": 6,
   "metadata": {
    "ExecuteTime": {
     "end_time": "2018-09-16T19:27:13.316190Z",
     "start_time": "2018-09-16T19:27:12.412396Z"
    }
   },
   "outputs": [],
   "source": [
    "from watson_developer_cloud import PersonalityInsightsV3"
   ]
  },
  {
   "cell_type": "code",
   "execution_count": 7,
   "metadata": {
    "ExecuteTime": {
     "end_time": "2018-09-16T19:27:13.336033Z",
     "start_time": "2018-09-16T19:27:13.318503Z"
    }
   },
   "outputs": [],
   "source": [
    "personality_insights = PersonalityInsightsV3(\n",
    "    version = '2017-09-21',\n",
    "    iam_apikey = IBM_personality_insights_api,\n",
    "    url = 'https://gateway-wdc.watsonplatform.net/personality-insights/api'\n",
    ")"
   ]
  },
  {
   "cell_type": "markdown",
   "metadata": {},
   "source": [
    "## Service endpoint"
   ]
  },
  {
   "cell_type": "markdown",
   "metadata": {},
   "source": [
    "The service endpoint is based on the location of the service instance. If your API endpoint URL differs from the default, you must set your endpoint. \n",
    "\n",
    "To find out which URL to use, view the service credentials by clicking the service instance on the Dashboard. Set the correct service ```URL``` by using the url parameter when you create the service instance or by calling the ```set_url()``` method of the service instance."
   ]
  },
  {
   "cell_type": "code",
   "execution_count": 21,
   "metadata": {
    "ExecuteTime": {
     "end_time": "2018-09-15T17:41:01.694431Z",
     "start_time": "2018-09-15T17:41:01.671418Z"
    }
   },
   "outputs": [],
   "source": [
    "url = 'https://gateway-wdc.watsonplatform.net/personality-insights/api'"
   ]
  },
  {
   "cell_type": "markdown",
   "metadata": {},
   "source": [
    "## Versioning"
   ]
  },
  {
   "cell_type": "markdown",
   "metadata": {},
   "source": [
    "API requests require a version parameter that takes a date in the format ```version=YYYY-MM-DD```. When IBM changes the API in a **backwards-incompatible** way, they release a new version date.\n",
    "\n",
    "Specify the version to use on API requests with the version parameter when you create the service instance. The service uses the API version for the date you specify, or the most recent version before that date. Don't default to the current date. Instead, specify a date that matches a version that is compatible with your app, and don't change it until your app is ready for a later version."
   ]
  },
  {
   "cell_type": "code",
   "execution_count": 7,
   "metadata": {
    "ExecuteTime": {
     "end_time": "2018-09-15T16:02:24.121225Z",
     "start_time": "2018-09-15T16:02:24.102770Z"
    }
   },
   "outputs": [],
   "source": [
    "version = '2017-09-21'"
   ]
  },
  {
   "cell_type": "markdown",
   "metadata": {},
   "source": [
    "## Data handling"
   ]
  },
  {
   "cell_type": "markdown",
   "metadata": {},
   "source": [
    "#### Data Collection\n",
    "By default, all Watson services log requests and their results. **Logging is done only to improve the services for future users. The logged data is not shared or made public.**\n",
    "\n",
    "To prevent IBM from accessing your data for general service improvements, set the ```X-Watson-Learning-Opt-Out``` header parameter to ```true``` when you create the service instance. (Any value other than false or 0 disables request logging.) You can set the header using the ```set_default_headers``` method of the service object."
   ]
  },
  {
   "cell_type": "code",
   "execution_count": 8,
   "metadata": {
    "ExecuteTime": {
     "end_time": "2018-09-16T19:27:16.917172Z",
     "start_time": "2018-09-16T19:27:16.897281Z"
    }
   },
   "outputs": [],
   "source": [
    "personality_insights.set_default_headers({'x-watson-learning-opt-out': \"true\"})"
   ]
  },
  {
   "cell_type": "markdown",
   "metadata": {},
   "source": [
    "## Methods"
   ]
  },
  {
   "cell_type": "markdown",
   "metadata": {},
   "source": [
    "#### Personality Profile\n",
    "\n",
    "Get profile Generates a personality profile for the author of the input text. The service accepts a maximum of 20 MB of input content, but it requires much less text to produce an accurate profile; for more information, see Providing sufficient input. The service analyzes text in Arabic, English, Japanese, Korean, or Spanish and returns its results in a variety of languages. You can provide plain text, HTML, or JSON input by specifying the Content-Type parameter; the default is text/plain. Request a JSON or comma-separated values (CSV) response by specifying the Accept parameter; CSV output includes a fixed number of columns and optional headers.\n",
    "\n",
    "Per the JSON specification, the default character encoding for JSON content is effectively always UTF-8; per the HTTP specification, the default encoding for plain text and HTML is ISO-8859-1 (effectively, the ASCII character set). When specifying a content type of plain text or HTML, include the charset parameter to indicate the character encoding of the input text; for example: Content-Type: text/plain;charset=utf-8. For text/html, the service removes HTML tags and analyzes only the textual content."
   ]
  },
  {
   "cell_type": "markdown",
   "metadata": {},
   "source": [
    "#### Request"
   ]
  },
  {
   "cell_type": "markdown",
   "metadata": {},
   "source": [
    "profile(self, content, content_type, accept=None, content_language=None, accept_language=None, raw_scores=None, csv_headers=None, consumption_preferences=None, **kwargs)\n",
    "\n",
    "**Input**:\n",
    "\n",
    "| Name        | Description     | \n",
    "| ------------- |:-------------:| \n",
    "| content (str):     | A maximum of 20 MB of content to analyze, though the service requires much less text |\n",
    "\n"
   ]
  },
  {
   "cell_type": "code",
   "execution_count": 9,
   "metadata": {
    "ExecuteTime": {
     "end_time": "2018-09-16T19:27:21.090646Z",
     "start_time": "2018-09-16T19:27:19.356745Z"
    },
    "scrolled": true
   },
   "outputs": [],
   "source": [
    "import json\n",
    "profile = personality_insights.profile(content = t, content_type='text/plain').get_result()"
   ]
  },
  {
   "cell_type": "code",
   "execution_count": 11,
   "metadata": {
    "ExecuteTime": {
     "end_time": "2018-09-16T19:27:23.865352Z",
     "start_time": "2018-09-16T19:27:23.840369Z"
    }
   },
   "outputs": [
    {
     "data": {
      "text/plain": [
       "dict_keys(['word_count', 'word_count_message', 'processed_language', 'personality', 'needs', 'values', 'warnings'])"
      ]
     },
     "execution_count": 11,
     "metadata": {},
     "output_type": "execute_result"
    }
   ],
   "source": [
    "import pandas as pd\n",
    "profile.keys()"
   ]
  },
  {
   "cell_type": "markdown",
   "metadata": {},
   "source": [
    "# Function to Distill the Big5 Personality Traits into DF"
   ]
  },
  {
   "cell_type": "code",
   "execution_count": 36,
   "metadata": {
    "ExecuteTime": {
     "end_time": "2018-09-16T19:37:18.366807Z",
     "start_time": "2018-09-16T19:37:18.340965Z"
    }
   },
   "outputs": [],
   "source": [
    "def text_to_big5_personality_pd(profile):\n",
    "    df = pd.DataFrame(profile['personality'])\n",
    "    df['trait'] = 'Big5'\n",
    "    df['name'][4] = 'Neuroticism'\n",
    "    return df[['trait','name', 'percentile']]"
   ]
  },
  {
   "cell_type": "markdown",
   "metadata": {},
   "source": [
    "#### example"
   ]
  },
  {
   "cell_type": "code",
   "execution_count": 37,
   "metadata": {
    "ExecuteTime": {
     "end_time": "2018-09-16T19:37:20.803713Z",
     "start_time": "2018-09-16T19:37:20.737911Z"
    }
   },
   "outputs": [
    {
     "name": "stderr",
     "output_type": "stream",
     "text": [
      "/Users/austin/anaconda3/lib/python3.6/site-packages/ipykernel_launcher.py:4: SettingWithCopyWarning: \n",
      "A value is trying to be set on a copy of a slice from a DataFrame\n",
      "\n",
      "See the caveats in the documentation: http://pandas.pydata.org/pandas-docs/stable/indexing.html#indexing-view-versus-copy\n",
      "  after removing the cwd from sys.path.\n"
     ]
    },
    {
     "data": {
      "text/html": [
       "<div>\n",
       "<style scoped>\n",
       "    .dataframe tbody tr th:only-of-type {\n",
       "        vertical-align: middle;\n",
       "    }\n",
       "\n",
       "    .dataframe tbody tr th {\n",
       "        vertical-align: top;\n",
       "    }\n",
       "\n",
       "    .dataframe thead th {\n",
       "        text-align: right;\n",
       "    }\n",
       "</style>\n",
       "<table border=\"1\" class=\"dataframe\">\n",
       "  <thead>\n",
       "    <tr style=\"text-align: right;\">\n",
       "      <th></th>\n",
       "      <th>trait</th>\n",
       "      <th>name</th>\n",
       "      <th>percentile</th>\n",
       "    </tr>\n",
       "  </thead>\n",
       "  <tbody>\n",
       "    <tr>\n",
       "      <th>0</th>\n",
       "      <td>Big5</td>\n",
       "      <td>Openness</td>\n",
       "      <td>0.764243</td>\n",
       "    </tr>\n",
       "    <tr>\n",
       "      <th>1</th>\n",
       "      <td>Big5</td>\n",
       "      <td>Conscientiousness</td>\n",
       "      <td>0.978601</td>\n",
       "    </tr>\n",
       "    <tr>\n",
       "      <th>2</th>\n",
       "      <td>Big5</td>\n",
       "      <td>Extraversion</td>\n",
       "      <td>0.418330</td>\n",
       "    </tr>\n",
       "    <tr>\n",
       "      <th>3</th>\n",
       "      <td>Big5</td>\n",
       "      <td>Agreeableness</td>\n",
       "      <td>0.349961</td>\n",
       "    </tr>\n",
       "    <tr>\n",
       "      <th>4</th>\n",
       "      <td>Big5</td>\n",
       "      <td>Neuroticism</td>\n",
       "      <td>0.907286</td>\n",
       "    </tr>\n",
       "  </tbody>\n",
       "</table>\n",
       "</div>"
      ],
      "text/plain": [
       "  trait               name  percentile\n",
       "0  Big5           Openness    0.764243\n",
       "1  Big5  Conscientiousness    0.978601\n",
       "2  Big5       Extraversion    0.418330\n",
       "3  Big5      Agreeableness    0.349961\n",
       "4  Big5        Neuroticism    0.907286"
      ]
     },
     "execution_count": 37,
     "metadata": {},
     "output_type": "execute_result"
    }
   ],
   "source": [
    "text_to_big5_personality_pd(profile)"
   ]
  },
  {
   "cell_type": "markdown",
   "metadata": {},
   "source": [
    "# Functions to Distill \"Openness\" Sub-Categories Into a Pandas DF"
   ]
  },
  {
   "cell_type": "code",
   "execution_count": 40,
   "metadata": {
    "ExecuteTime": {
     "end_time": "2018-09-16T19:38:21.509090Z",
     "start_time": "2018-09-16T19:38:21.482893Z"
    }
   },
   "outputs": [],
   "source": [
    "def text_to_openness_sub_personality_pd(profile):\n",
    "    df = pd.DataFrame(profile['personality'])\n",
    "    df = pd.DataFrame(df[df['name'] == 'Openness']['children'][0])\n",
    "    df['trait'] = 'Openness'\n",
    "    return df[['trait','name', 'percentile']]"
   ]
  },
  {
   "cell_type": "code",
   "execution_count": 41,
   "metadata": {
    "ExecuteTime": {
     "end_time": "2018-09-16T19:38:21.717267Z",
     "start_time": "2018-09-16T19:38:21.677956Z"
    }
   },
   "outputs": [
    {
     "data": {
      "text/html": [
       "<div>\n",
       "<style scoped>\n",
       "    .dataframe tbody tr th:only-of-type {\n",
       "        vertical-align: middle;\n",
       "    }\n",
       "\n",
       "    .dataframe tbody tr th {\n",
       "        vertical-align: top;\n",
       "    }\n",
       "\n",
       "    .dataframe thead th {\n",
       "        text-align: right;\n",
       "    }\n",
       "</style>\n",
       "<table border=\"1\" class=\"dataframe\">\n",
       "  <thead>\n",
       "    <tr style=\"text-align: right;\">\n",
       "      <th></th>\n",
       "      <th>trait</th>\n",
       "      <th>name</th>\n",
       "      <th>percentile</th>\n",
       "    </tr>\n",
       "  </thead>\n",
       "  <tbody>\n",
       "    <tr>\n",
       "      <th>0</th>\n",
       "      <td>Openness</td>\n",
       "      <td>Adventurousness</td>\n",
       "      <td>0.961168</td>\n",
       "    </tr>\n",
       "    <tr>\n",
       "      <th>1</th>\n",
       "      <td>Openness</td>\n",
       "      <td>Artistic interests</td>\n",
       "      <td>0.075603</td>\n",
       "    </tr>\n",
       "    <tr>\n",
       "      <th>2</th>\n",
       "      <td>Openness</td>\n",
       "      <td>Emotionality</td>\n",
       "      <td>0.241334</td>\n",
       "    </tr>\n",
       "    <tr>\n",
       "      <th>3</th>\n",
       "      <td>Openness</td>\n",
       "      <td>Imagination</td>\n",
       "      <td>0.012605</td>\n",
       "    </tr>\n",
       "    <tr>\n",
       "      <th>4</th>\n",
       "      <td>Openness</td>\n",
       "      <td>Intellect</td>\n",
       "      <td>0.929353</td>\n",
       "    </tr>\n",
       "    <tr>\n",
       "      <th>5</th>\n",
       "      <td>Openness</td>\n",
       "      <td>Authority-challenging</td>\n",
       "      <td>0.844719</td>\n",
       "    </tr>\n",
       "  </tbody>\n",
       "</table>\n",
       "</div>"
      ],
      "text/plain": [
       "      trait                   name  percentile\n",
       "0  Openness        Adventurousness    0.961168\n",
       "1  Openness     Artistic interests    0.075603\n",
       "2  Openness           Emotionality    0.241334\n",
       "3  Openness            Imagination    0.012605\n",
       "4  Openness              Intellect    0.929353\n",
       "5  Openness  Authority-challenging    0.844719"
      ]
     },
     "execution_count": 41,
     "metadata": {},
     "output_type": "execute_result"
    }
   ],
   "source": [
    "text_to_openness_sub_personality_pd(profile)"
   ]
  },
  {
   "cell_type": "markdown",
   "metadata": {},
   "source": [
    "# Functions to Distill \"Conscientiousness\" Sub-Categories Into a Pandas DF"
   ]
  },
  {
   "cell_type": "code",
   "execution_count": 42,
   "metadata": {
    "ExecuteTime": {
     "end_time": "2018-09-16T19:38:22.091570Z",
     "start_time": "2018-09-16T19:38:22.066964Z"
    }
   },
   "outputs": [],
   "source": [
    "def text_to_conscientiousness_sub_personality_pd(profile):\n",
    "    df = pd.DataFrame(profile['personality'])\n",
    "    df = pd.DataFrame(df[df['name'] == 'Conscientiousness']['children'][1])\n",
    "    df['trait'] = 'Conscientiousness'\n",
    "    return df[['trait','name', 'percentile']]"
   ]
  },
  {
   "cell_type": "code",
   "execution_count": 43,
   "metadata": {
    "ExecuteTime": {
     "end_time": "2018-09-16T19:38:22.293770Z",
     "start_time": "2018-09-16T19:38:22.258340Z"
    }
   },
   "outputs": [
    {
     "data": {
      "text/html": [
       "<div>\n",
       "<style scoped>\n",
       "    .dataframe tbody tr th:only-of-type {\n",
       "        vertical-align: middle;\n",
       "    }\n",
       "\n",
       "    .dataframe tbody tr th {\n",
       "        vertical-align: top;\n",
       "    }\n",
       "\n",
       "    .dataframe thead th {\n",
       "        text-align: right;\n",
       "    }\n",
       "</style>\n",
       "<table border=\"1\" class=\"dataframe\">\n",
       "  <thead>\n",
       "    <tr style=\"text-align: right;\">\n",
       "      <th></th>\n",
       "      <th>trait</th>\n",
       "      <th>name</th>\n",
       "      <th>percentile</th>\n",
       "    </tr>\n",
       "  </thead>\n",
       "  <tbody>\n",
       "    <tr>\n",
       "      <th>0</th>\n",
       "      <td>Conscientiousness</td>\n",
       "      <td>Achievement striving</td>\n",
       "      <td>0.974528</td>\n",
       "    </tr>\n",
       "    <tr>\n",
       "      <th>1</th>\n",
       "      <td>Conscientiousness</td>\n",
       "      <td>Cautiousness</td>\n",
       "      <td>0.978012</td>\n",
       "    </tr>\n",
       "    <tr>\n",
       "      <th>2</th>\n",
       "      <td>Conscientiousness</td>\n",
       "      <td>Dutifulness</td>\n",
       "      <td>0.966628</td>\n",
       "    </tr>\n",
       "    <tr>\n",
       "      <th>3</th>\n",
       "      <td>Conscientiousness</td>\n",
       "      <td>Orderliness</td>\n",
       "      <td>0.117107</td>\n",
       "    </tr>\n",
       "    <tr>\n",
       "      <th>4</th>\n",
       "      <td>Conscientiousness</td>\n",
       "      <td>Self-discipline</td>\n",
       "      <td>0.884116</td>\n",
       "    </tr>\n",
       "    <tr>\n",
       "      <th>5</th>\n",
       "      <td>Conscientiousness</td>\n",
       "      <td>Self-efficacy</td>\n",
       "      <td>0.897544</td>\n",
       "    </tr>\n",
       "  </tbody>\n",
       "</table>\n",
       "</div>"
      ],
      "text/plain": [
       "               trait                  name  percentile\n",
       "0  Conscientiousness  Achievement striving    0.974528\n",
       "1  Conscientiousness          Cautiousness    0.978012\n",
       "2  Conscientiousness           Dutifulness    0.966628\n",
       "3  Conscientiousness           Orderliness    0.117107\n",
       "4  Conscientiousness       Self-discipline    0.884116\n",
       "5  Conscientiousness         Self-efficacy    0.897544"
      ]
     },
     "execution_count": 43,
     "metadata": {},
     "output_type": "execute_result"
    }
   ],
   "source": [
    "text_to_conscientiousness_sub_personality_pd(profile)"
   ]
  },
  {
   "cell_type": "markdown",
   "metadata": {},
   "source": [
    "# Functions to Distill \"Extraversion\" Sub-Categories Into a Pandas DF"
   ]
  },
  {
   "cell_type": "code",
   "execution_count": 44,
   "metadata": {
    "ExecuteTime": {
     "end_time": "2018-09-16T19:38:22.651546Z",
     "start_time": "2018-09-16T19:38:22.624779Z"
    }
   },
   "outputs": [],
   "source": [
    "def text_to_extraversion_sub_personality_pd(profile):\n",
    "    df = pd.DataFrame(profile['personality'])\n",
    "    df = pd.DataFrame(df[df['name'] == 'Extraversion']['children'][2])\n",
    "    df['trait'] = 'Extraversion'\n",
    "    return df[['trait','name', 'percentile']]"
   ]
  },
  {
   "cell_type": "code",
   "execution_count": 45,
   "metadata": {
    "ExecuteTime": {
     "end_time": "2018-09-16T19:38:22.839281Z",
     "start_time": "2018-09-16T19:38:22.806143Z"
    }
   },
   "outputs": [
    {
     "data": {
      "text/html": [
       "<div>\n",
       "<style scoped>\n",
       "    .dataframe tbody tr th:only-of-type {\n",
       "        vertical-align: middle;\n",
       "    }\n",
       "\n",
       "    .dataframe tbody tr th {\n",
       "        vertical-align: top;\n",
       "    }\n",
       "\n",
       "    .dataframe thead th {\n",
       "        text-align: right;\n",
       "    }\n",
       "</style>\n",
       "<table border=\"1\" class=\"dataframe\">\n",
       "  <thead>\n",
       "    <tr style=\"text-align: right;\">\n",
       "      <th></th>\n",
       "      <th>trait</th>\n",
       "      <th>name</th>\n",
       "      <th>percentile</th>\n",
       "    </tr>\n",
       "  </thead>\n",
       "  <tbody>\n",
       "    <tr>\n",
       "      <th>0</th>\n",
       "      <td>Extraversion</td>\n",
       "      <td>Activity level</td>\n",
       "      <td>0.996005</td>\n",
       "    </tr>\n",
       "    <tr>\n",
       "      <th>1</th>\n",
       "      <td>Extraversion</td>\n",
       "      <td>Assertiveness</td>\n",
       "      <td>0.995737</td>\n",
       "    </tr>\n",
       "    <tr>\n",
       "      <th>2</th>\n",
       "      <td>Extraversion</td>\n",
       "      <td>Cheerfulness</td>\n",
       "      <td>0.431066</td>\n",
       "    </tr>\n",
       "    <tr>\n",
       "      <th>3</th>\n",
       "      <td>Extraversion</td>\n",
       "      <td>Excitement-seeking</td>\n",
       "      <td>0.067695</td>\n",
       "    </tr>\n",
       "    <tr>\n",
       "      <th>4</th>\n",
       "      <td>Extraversion</td>\n",
       "      <td>Outgoing</td>\n",
       "      <td>0.899447</td>\n",
       "    </tr>\n",
       "    <tr>\n",
       "      <th>5</th>\n",
       "      <td>Extraversion</td>\n",
       "      <td>Gregariousness</td>\n",
       "      <td>0.572762</td>\n",
       "    </tr>\n",
       "  </tbody>\n",
       "</table>\n",
       "</div>"
      ],
      "text/plain": [
       "          trait                name  percentile\n",
       "0  Extraversion      Activity level    0.996005\n",
       "1  Extraversion       Assertiveness    0.995737\n",
       "2  Extraversion        Cheerfulness    0.431066\n",
       "3  Extraversion  Excitement-seeking    0.067695\n",
       "4  Extraversion            Outgoing    0.899447\n",
       "5  Extraversion      Gregariousness    0.572762"
      ]
     },
     "execution_count": 45,
     "metadata": {},
     "output_type": "execute_result"
    }
   ],
   "source": [
    "text_to_extraversion_sub_personality_pd(profile)"
   ]
  },
  {
   "cell_type": "markdown",
   "metadata": {},
   "source": [
    "# Functions to Distill \"Agreeableness\" Sub-Categories Into a Pandas DF"
   ]
  },
  {
   "cell_type": "code",
   "execution_count": 46,
   "metadata": {
    "ExecuteTime": {
     "end_time": "2018-09-16T19:38:23.199276Z",
     "start_time": "2018-09-16T19:38:23.171726Z"
    }
   },
   "outputs": [],
   "source": [
    "def text_to_agreeableness_sub_personality_pd(profile):\n",
    "    df = pd.DataFrame(profile['personality'])\n",
    "    df = pd.DataFrame(df[df['name'] == 'Agreeableness']['children'][3])\n",
    "    df['trait'] = 'Agreeableness'\n",
    "    return df[['trait','name', 'percentile']]"
   ]
  },
  {
   "cell_type": "code",
   "execution_count": 47,
   "metadata": {
    "ExecuteTime": {
     "end_time": "2018-09-16T19:38:23.366493Z",
     "start_time": "2018-09-16T19:38:23.335006Z"
    }
   },
   "outputs": [
    {
     "data": {
      "text/html": [
       "<div>\n",
       "<style scoped>\n",
       "    .dataframe tbody tr th:only-of-type {\n",
       "        vertical-align: middle;\n",
       "    }\n",
       "\n",
       "    .dataframe tbody tr th {\n",
       "        vertical-align: top;\n",
       "    }\n",
       "\n",
       "    .dataframe thead th {\n",
       "        text-align: right;\n",
       "    }\n",
       "</style>\n",
       "<table border=\"1\" class=\"dataframe\">\n",
       "  <thead>\n",
       "    <tr style=\"text-align: right;\">\n",
       "      <th></th>\n",
       "      <th>trait</th>\n",
       "      <th>name</th>\n",
       "      <th>percentile</th>\n",
       "    </tr>\n",
       "  </thead>\n",
       "  <tbody>\n",
       "    <tr>\n",
       "      <th>0</th>\n",
       "      <td>Agreeableness</td>\n",
       "      <td>Altruism</td>\n",
       "      <td>0.903803</td>\n",
       "    </tr>\n",
       "    <tr>\n",
       "      <th>1</th>\n",
       "      <td>Agreeableness</td>\n",
       "      <td>Cooperation</td>\n",
       "      <td>0.919365</td>\n",
       "    </tr>\n",
       "    <tr>\n",
       "      <th>2</th>\n",
       "      <td>Agreeableness</td>\n",
       "      <td>Modesty</td>\n",
       "      <td>0.324203</td>\n",
       "    </tr>\n",
       "    <tr>\n",
       "      <th>3</th>\n",
       "      <td>Agreeableness</td>\n",
       "      <td>Uncompromising</td>\n",
       "      <td>0.864552</td>\n",
       "    </tr>\n",
       "    <tr>\n",
       "      <th>4</th>\n",
       "      <td>Agreeableness</td>\n",
       "      <td>Sympathy</td>\n",
       "      <td>0.937290</td>\n",
       "    </tr>\n",
       "    <tr>\n",
       "      <th>5</th>\n",
       "      <td>Agreeableness</td>\n",
       "      <td>Trust</td>\n",
       "      <td>0.989904</td>\n",
       "    </tr>\n",
       "  </tbody>\n",
       "</table>\n",
       "</div>"
      ],
      "text/plain": [
       "           trait            name  percentile\n",
       "0  Agreeableness        Altruism    0.903803\n",
       "1  Agreeableness     Cooperation    0.919365\n",
       "2  Agreeableness         Modesty    0.324203\n",
       "3  Agreeableness  Uncompromising    0.864552\n",
       "4  Agreeableness        Sympathy    0.937290\n",
       "5  Agreeableness           Trust    0.989904"
      ]
     },
     "execution_count": 47,
     "metadata": {},
     "output_type": "execute_result"
    }
   ],
   "source": [
    "text_to_agreeableness_sub_personality_pd(profile)"
   ]
  },
  {
   "cell_type": "markdown",
   "metadata": {},
   "source": [
    "# Functions to Distill \"Emotional range/Neuroticism\" Sub-Categories Into a Pandas DF"
   ]
  },
  {
   "cell_type": "code",
   "execution_count": 48,
   "metadata": {
    "ExecuteTime": {
     "end_time": "2018-09-16T19:38:23.731647Z",
     "start_time": "2018-09-16T19:38:23.705523Z"
    }
   },
   "outputs": [],
   "source": [
    "def text_to_neuroticism_sub_personality_pd(profile):\n",
    "    df = pd.DataFrame(profile['personality'])\n",
    "    df = pd.DataFrame(df[df['name'] == 'Emotional range']['children'][4])\n",
    "    df['trait'] = 'Neuroticism'\n",
    "    return df[['trait','name', 'percentile']]"
   ]
  },
  {
   "cell_type": "code",
   "execution_count": 49,
   "metadata": {
    "ExecuteTime": {
     "end_time": "2018-09-16T19:38:24.201956Z",
     "start_time": "2018-09-16T19:38:24.170300Z"
    }
   },
   "outputs": [
    {
     "data": {
      "text/html": [
       "<div>\n",
       "<style scoped>\n",
       "    .dataframe tbody tr th:only-of-type {\n",
       "        vertical-align: middle;\n",
       "    }\n",
       "\n",
       "    .dataframe tbody tr th {\n",
       "        vertical-align: top;\n",
       "    }\n",
       "\n",
       "    .dataframe thead th {\n",
       "        text-align: right;\n",
       "    }\n",
       "</style>\n",
       "<table border=\"1\" class=\"dataframe\">\n",
       "  <thead>\n",
       "    <tr style=\"text-align: right;\">\n",
       "      <th></th>\n",
       "      <th>trait</th>\n",
       "      <th>name</th>\n",
       "      <th>percentile</th>\n",
       "    </tr>\n",
       "  </thead>\n",
       "  <tbody>\n",
       "    <tr>\n",
       "      <th>0</th>\n",
       "      <td>Neuroticism</td>\n",
       "      <td>Fiery</td>\n",
       "      <td>0.022531</td>\n",
       "    </tr>\n",
       "    <tr>\n",
       "      <th>1</th>\n",
       "      <td>Neuroticism</td>\n",
       "      <td>Prone to worry</td>\n",
       "      <td>0.059867</td>\n",
       "    </tr>\n",
       "    <tr>\n",
       "      <th>2</th>\n",
       "      <td>Neuroticism</td>\n",
       "      <td>Melancholy</td>\n",
       "      <td>0.185419</td>\n",
       "    </tr>\n",
       "    <tr>\n",
       "      <th>3</th>\n",
       "      <td>Neuroticism</td>\n",
       "      <td>Immoderation</td>\n",
       "      <td>0.112079</td>\n",
       "    </tr>\n",
       "    <tr>\n",
       "      <th>4</th>\n",
       "      <td>Neuroticism</td>\n",
       "      <td>Self-consciousness</td>\n",
       "      <td>0.035895</td>\n",
       "    </tr>\n",
       "    <tr>\n",
       "      <th>5</th>\n",
       "      <td>Neuroticism</td>\n",
       "      <td>Susceptible to stress</td>\n",
       "      <td>0.079114</td>\n",
       "    </tr>\n",
       "  </tbody>\n",
       "</table>\n",
       "</div>"
      ],
      "text/plain": [
       "         trait                   name  percentile\n",
       "0  Neuroticism                  Fiery    0.022531\n",
       "1  Neuroticism         Prone to worry    0.059867\n",
       "2  Neuroticism             Melancholy    0.185419\n",
       "3  Neuroticism           Immoderation    0.112079\n",
       "4  Neuroticism     Self-consciousness    0.035895\n",
       "5  Neuroticism  Susceptible to stress    0.079114"
      ]
     },
     "execution_count": 49,
     "metadata": {},
     "output_type": "execute_result"
    }
   ],
   "source": [
    "text_to_neuroticism_sub_personality_pd(profile)"
   ]
  },
  {
   "cell_type": "markdown",
   "metadata": {},
   "source": [
    "# Function to Distill \"Needs\" Into DF"
   ]
  },
  {
   "cell_type": "code",
   "execution_count": 56,
   "metadata": {
    "ExecuteTime": {
     "end_time": "2018-09-16T19:39:21.179451Z",
     "start_time": "2018-09-16T19:39:21.152522Z"
    }
   },
   "outputs": [],
   "source": [
    "def profile_to_needs_df(profile):\n",
    "    df = pd.DataFrame(profile['needs'])\n",
    "    df['trait'] = 'Needs'\n",
    "    return df[['trait','name', 'percentile']]"
   ]
  },
  {
   "cell_type": "markdown",
   "metadata": {},
   "source": [
    "# Function to Distill \"Values\" Into DF"
   ]
  },
  {
   "cell_type": "code",
   "execution_count": 57,
   "metadata": {
    "ExecuteTime": {
     "end_time": "2018-09-16T19:39:21.651252Z",
     "start_time": "2018-09-16T19:39:21.624325Z"
    }
   },
   "outputs": [],
   "source": [
    "def profile_to_values_df(profile):\n",
    "    df = pd.DataFrame(profile['values'])\n",
    "    df['trait'] = 'Values'\n",
    "    return df[['trait','name', 'percentile']]"
   ]
  },
  {
   "cell_type": "markdown",
   "metadata": {},
   "source": [
    "# Function to Concatenate all Sub-Personality Traits Into One DF"
   ]
  },
  {
   "cell_type": "code",
   "execution_count": 60,
   "metadata": {
    "ExecuteTime": {
     "end_time": "2018-09-16T19:40:09.179824Z",
     "start_time": "2018-09-16T19:40:09.152777Z"
    }
   },
   "outputs": [],
   "source": [
    "def all_personality_info_to_df(text):\n",
    "    profile = personality_insights.profile(content = text, content_type='text/plain').get_result()\n",
    "    frames = [text_to_big5_personality_pd(profile),\n",
    "              text_to_openness_sub_personality_pd(profile),\n",
    "              text_to_conscientiousness_sub_personality_pd(profile),\n",
    "              text_to_extraversion_sub_personality_pd(profile),\n",
    "              text_to_agreeableness_sub_personality_pd(profile),\n",
    "              text_to_neuroticism_sub_personality_pd(profile),\n",
    "              profile_to_needs_df(profile),\n",
    "              profile_to_values_df(profile)\n",
    "             ]\n",
    "    return pd.concat(frames, ignore_index = True)"
   ]
  },
  {
   "cell_type": "markdown",
   "metadata": {},
   "source": [
    "# Sample Pipeline: MBA student's \"failure\" essay "
   ]
  },
  {
   "cell_type": "markdown",
   "metadata": {},
   "source": [
    "#### Student's Essay"
   ]
  },
  {
   "cell_type": "code",
   "execution_count": 58,
   "metadata": {
    "ExecuteTime": {
     "end_time": "2018-09-16T19:39:23.547877Z",
     "start_time": "2018-09-16T19:39:23.517637Z"
    }
   },
   "outputs": [],
   "source": [
    "t = \"\"\" In my 2nd year in university, my 2 study partners and I were all working for software companies. We frequently discussed ways to make quantum career leaps. One that fascinated us was starting our own company.\n",
    "\n",
    "One day we came up with an idea that would increase sales for consumer goods retailers and simultaneously decrease monthly consumer expenses. Each day, we polished our idea together for a couple hours.\n",
    "\n",
    "After 2 weeks, I decided to get outside feedback. I looked for people who had at least 10 years experience in consumer goods. Finally, I convinced a friend, to connect me with a board member of the 2nd largest consumer goods retailer in my country.\n",
    "\n",
    "I presented our business model to the board member, and he instructed his right-hand to set us meetings with managers who could evaluate our plans. Over the next month, we went to one meeting after another. The responses varied from enthusiasm to skepticism. Each time, we improved our presentation according to the feedback.\n",
    "\n",
    "Finally, I managed to set a meeting with the previous CEO of the largest consumer goods retailer. He concluded our meeting with: “Guys, in my opinion, it’s not going to work”.\n",
    "\n",
    "I couldn’t say if it was the pressure from school and work or the CEO’s negative feedback, but since that meeting, I wasn’t able to motivate the team to go on. We consciously gave up.\n",
    "\n",
    "2 years later, one of my teammates called out of the blue: “check out this link…it works!”. I think he expected me to feel disappointment. Actually, I felt pride – my first business attempt was viable after all.\"\"\""
   ]
  },
  {
   "cell_type": "markdown",
   "metadata": {},
   "source": [
    "#### Get all personality info"
   ]
  },
  {
   "cell_type": "code",
   "execution_count": 63,
   "metadata": {
    "ExecuteTime": {
     "end_time": "2018-09-17T19:21:40.690375Z",
     "start_time": "2018-09-17T19:21:38.039588Z"
    }
   },
   "outputs": [
    {
     "name": "stderr",
     "output_type": "stream",
     "text": [
      "/Users/austin/anaconda3/lib/python3.6/site-packages/ipykernel_launcher.py:4: SettingWithCopyWarning: \n",
      "A value is trying to be set on a copy of a slice from a DataFrame\n",
      "\n",
      "See the caveats in the documentation: http://pandas.pydata.org/pandas-docs/stable/indexing.html#indexing-view-versus-copy\n",
      "  after removing the cwd from sys.path.\n"
     ]
    },
    {
     "data": {
      "text/html": [
       "<div>\n",
       "<style scoped>\n",
       "    .dataframe tbody tr th:only-of-type {\n",
       "        vertical-align: middle;\n",
       "    }\n",
       "\n",
       "    .dataframe tbody tr th {\n",
       "        vertical-align: top;\n",
       "    }\n",
       "\n",
       "    .dataframe thead th {\n",
       "        text-align: right;\n",
       "    }\n",
       "</style>\n",
       "<table border=\"1\" class=\"dataframe\">\n",
       "  <thead>\n",
       "    <tr style=\"text-align: right;\">\n",
       "      <th></th>\n",
       "      <th>trait</th>\n",
       "      <th>name</th>\n",
       "      <th>percentile</th>\n",
       "    </tr>\n",
       "  </thead>\n",
       "  <tbody>\n",
       "    <tr>\n",
       "      <th>0</th>\n",
       "      <td>Big5</td>\n",
       "      <td>Openness</td>\n",
       "      <td>0.764243</td>\n",
       "    </tr>\n",
       "    <tr>\n",
       "      <th>1</th>\n",
       "      <td>Big5</td>\n",
       "      <td>Conscientiousness</td>\n",
       "      <td>0.978601</td>\n",
       "    </tr>\n",
       "    <tr>\n",
       "      <th>2</th>\n",
       "      <td>Big5</td>\n",
       "      <td>Extraversion</td>\n",
       "      <td>0.418330</td>\n",
       "    </tr>\n",
       "    <tr>\n",
       "      <th>3</th>\n",
       "      <td>Big5</td>\n",
       "      <td>Agreeableness</td>\n",
       "      <td>0.349961</td>\n",
       "    </tr>\n",
       "    <tr>\n",
       "      <th>4</th>\n",
       "      <td>Big5</td>\n",
       "      <td>Neuroticism</td>\n",
       "      <td>0.907286</td>\n",
       "    </tr>\n",
       "    <tr>\n",
       "      <th>5</th>\n",
       "      <td>Openness</td>\n",
       "      <td>Adventurousness</td>\n",
       "      <td>0.961168</td>\n",
       "    </tr>\n",
       "    <tr>\n",
       "      <th>6</th>\n",
       "      <td>Openness</td>\n",
       "      <td>Artistic interests</td>\n",
       "      <td>0.075603</td>\n",
       "    </tr>\n",
       "    <tr>\n",
       "      <th>7</th>\n",
       "      <td>Openness</td>\n",
       "      <td>Emotionality</td>\n",
       "      <td>0.241334</td>\n",
       "    </tr>\n",
       "    <tr>\n",
       "      <th>8</th>\n",
       "      <td>Openness</td>\n",
       "      <td>Imagination</td>\n",
       "      <td>0.012605</td>\n",
       "    </tr>\n",
       "    <tr>\n",
       "      <th>9</th>\n",
       "      <td>Openness</td>\n",
       "      <td>Intellect</td>\n",
       "      <td>0.929353</td>\n",
       "    </tr>\n",
       "    <tr>\n",
       "      <th>10</th>\n",
       "      <td>Openness</td>\n",
       "      <td>Authority-challenging</td>\n",
       "      <td>0.844719</td>\n",
       "    </tr>\n",
       "    <tr>\n",
       "      <th>11</th>\n",
       "      <td>Conscientiousness</td>\n",
       "      <td>Achievement striving</td>\n",
       "      <td>0.974528</td>\n",
       "    </tr>\n",
       "    <tr>\n",
       "      <th>12</th>\n",
       "      <td>Conscientiousness</td>\n",
       "      <td>Cautiousness</td>\n",
       "      <td>0.978012</td>\n",
       "    </tr>\n",
       "    <tr>\n",
       "      <th>13</th>\n",
       "      <td>Conscientiousness</td>\n",
       "      <td>Dutifulness</td>\n",
       "      <td>0.966628</td>\n",
       "    </tr>\n",
       "    <tr>\n",
       "      <th>14</th>\n",
       "      <td>Conscientiousness</td>\n",
       "      <td>Orderliness</td>\n",
       "      <td>0.117107</td>\n",
       "    </tr>\n",
       "    <tr>\n",
       "      <th>15</th>\n",
       "      <td>Conscientiousness</td>\n",
       "      <td>Self-discipline</td>\n",
       "      <td>0.884116</td>\n",
       "    </tr>\n",
       "    <tr>\n",
       "      <th>16</th>\n",
       "      <td>Conscientiousness</td>\n",
       "      <td>Self-efficacy</td>\n",
       "      <td>0.897544</td>\n",
       "    </tr>\n",
       "    <tr>\n",
       "      <th>17</th>\n",
       "      <td>Extraversion</td>\n",
       "      <td>Activity level</td>\n",
       "      <td>0.996005</td>\n",
       "    </tr>\n",
       "    <tr>\n",
       "      <th>18</th>\n",
       "      <td>Extraversion</td>\n",
       "      <td>Assertiveness</td>\n",
       "      <td>0.995737</td>\n",
       "    </tr>\n",
       "    <tr>\n",
       "      <th>19</th>\n",
       "      <td>Extraversion</td>\n",
       "      <td>Cheerfulness</td>\n",
       "      <td>0.431066</td>\n",
       "    </tr>\n",
       "    <tr>\n",
       "      <th>20</th>\n",
       "      <td>Extraversion</td>\n",
       "      <td>Excitement-seeking</td>\n",
       "      <td>0.067695</td>\n",
       "    </tr>\n",
       "    <tr>\n",
       "      <th>21</th>\n",
       "      <td>Extraversion</td>\n",
       "      <td>Outgoing</td>\n",
       "      <td>0.899447</td>\n",
       "    </tr>\n",
       "    <tr>\n",
       "      <th>22</th>\n",
       "      <td>Extraversion</td>\n",
       "      <td>Gregariousness</td>\n",
       "      <td>0.572762</td>\n",
       "    </tr>\n",
       "    <tr>\n",
       "      <th>23</th>\n",
       "      <td>Agreeableness</td>\n",
       "      <td>Altruism</td>\n",
       "      <td>0.903803</td>\n",
       "    </tr>\n",
       "    <tr>\n",
       "      <th>24</th>\n",
       "      <td>Agreeableness</td>\n",
       "      <td>Cooperation</td>\n",
       "      <td>0.919365</td>\n",
       "    </tr>\n",
       "    <tr>\n",
       "      <th>25</th>\n",
       "      <td>Agreeableness</td>\n",
       "      <td>Modesty</td>\n",
       "      <td>0.324203</td>\n",
       "    </tr>\n",
       "    <tr>\n",
       "      <th>26</th>\n",
       "      <td>Agreeableness</td>\n",
       "      <td>Uncompromising</td>\n",
       "      <td>0.864552</td>\n",
       "    </tr>\n",
       "    <tr>\n",
       "      <th>27</th>\n",
       "      <td>Agreeableness</td>\n",
       "      <td>Sympathy</td>\n",
       "      <td>0.937290</td>\n",
       "    </tr>\n",
       "    <tr>\n",
       "      <th>28</th>\n",
       "      <td>Agreeableness</td>\n",
       "      <td>Trust</td>\n",
       "      <td>0.989904</td>\n",
       "    </tr>\n",
       "    <tr>\n",
       "      <th>29</th>\n",
       "      <td>Neuroticism</td>\n",
       "      <td>Fiery</td>\n",
       "      <td>0.022531</td>\n",
       "    </tr>\n",
       "    <tr>\n",
       "      <th>30</th>\n",
       "      <td>Neuroticism</td>\n",
       "      <td>Prone to worry</td>\n",
       "      <td>0.059867</td>\n",
       "    </tr>\n",
       "    <tr>\n",
       "      <th>31</th>\n",
       "      <td>Neuroticism</td>\n",
       "      <td>Melancholy</td>\n",
       "      <td>0.185419</td>\n",
       "    </tr>\n",
       "    <tr>\n",
       "      <th>32</th>\n",
       "      <td>Neuroticism</td>\n",
       "      <td>Immoderation</td>\n",
       "      <td>0.112079</td>\n",
       "    </tr>\n",
       "    <tr>\n",
       "      <th>33</th>\n",
       "      <td>Neuroticism</td>\n",
       "      <td>Self-consciousness</td>\n",
       "      <td>0.035895</td>\n",
       "    </tr>\n",
       "    <tr>\n",
       "      <th>34</th>\n",
       "      <td>Neuroticism</td>\n",
       "      <td>Susceptible to stress</td>\n",
       "      <td>0.079114</td>\n",
       "    </tr>\n",
       "    <tr>\n",
       "      <th>35</th>\n",
       "      <td>Needs</td>\n",
       "      <td>Challenge</td>\n",
       "      <td>0.724671</td>\n",
       "    </tr>\n",
       "    <tr>\n",
       "      <th>36</th>\n",
       "      <td>Needs</td>\n",
       "      <td>Closeness</td>\n",
       "      <td>0.298610</td>\n",
       "    </tr>\n",
       "    <tr>\n",
       "      <th>37</th>\n",
       "      <td>Needs</td>\n",
       "      <td>Curiosity</td>\n",
       "      <td>0.375804</td>\n",
       "    </tr>\n",
       "    <tr>\n",
       "      <th>38</th>\n",
       "      <td>Needs</td>\n",
       "      <td>Excitement</td>\n",
       "      <td>0.082851</td>\n",
       "    </tr>\n",
       "    <tr>\n",
       "      <th>39</th>\n",
       "      <td>Needs</td>\n",
       "      <td>Harmony</td>\n",
       "      <td>0.152852</td>\n",
       "    </tr>\n",
       "    <tr>\n",
       "      <th>40</th>\n",
       "      <td>Needs</td>\n",
       "      <td>Ideal</td>\n",
       "      <td>0.261916</td>\n",
       "    </tr>\n",
       "    <tr>\n",
       "      <th>41</th>\n",
       "      <td>Needs</td>\n",
       "      <td>Liberty</td>\n",
       "      <td>0.234780</td>\n",
       "    </tr>\n",
       "    <tr>\n",
       "      <th>42</th>\n",
       "      <td>Needs</td>\n",
       "      <td>Love</td>\n",
       "      <td>0.211896</td>\n",
       "    </tr>\n",
       "    <tr>\n",
       "      <th>43</th>\n",
       "      <td>Needs</td>\n",
       "      <td>Practicality</td>\n",
       "      <td>0.159580</td>\n",
       "    </tr>\n",
       "    <tr>\n",
       "      <th>44</th>\n",
       "      <td>Needs</td>\n",
       "      <td>Self-expression</td>\n",
       "      <td>0.015138</td>\n",
       "    </tr>\n",
       "    <tr>\n",
       "      <th>45</th>\n",
       "      <td>Needs</td>\n",
       "      <td>Stability</td>\n",
       "      <td>0.625051</td>\n",
       "    </tr>\n",
       "    <tr>\n",
       "      <th>46</th>\n",
       "      <td>Needs</td>\n",
       "      <td>Structure</td>\n",
       "      <td>0.943269</td>\n",
       "    </tr>\n",
       "    <tr>\n",
       "      <th>47</th>\n",
       "      <td>Values</td>\n",
       "      <td>Conservation</td>\n",
       "      <td>0.393652</td>\n",
       "    </tr>\n",
       "    <tr>\n",
       "      <th>48</th>\n",
       "      <td>Values</td>\n",
       "      <td>Openness to change</td>\n",
       "      <td>0.357234</td>\n",
       "    </tr>\n",
       "    <tr>\n",
       "      <th>49</th>\n",
       "      <td>Values</td>\n",
       "      <td>Hedonism</td>\n",
       "      <td>0.027644</td>\n",
       "    </tr>\n",
       "    <tr>\n",
       "      <th>50</th>\n",
       "      <td>Values</td>\n",
       "      <td>Self-enhancement</td>\n",
       "      <td>0.205660</td>\n",
       "    </tr>\n",
       "    <tr>\n",
       "      <th>51</th>\n",
       "      <td>Values</td>\n",
       "      <td>Self-transcendence</td>\n",
       "      <td>0.345274</td>\n",
       "    </tr>\n",
       "  </tbody>\n",
       "</table>\n",
       "</div>"
      ],
      "text/plain": [
       "                trait                   name  percentile\n",
       "0                Big5               Openness    0.764243\n",
       "1                Big5      Conscientiousness    0.978601\n",
       "2                Big5           Extraversion    0.418330\n",
       "3                Big5          Agreeableness    0.349961\n",
       "4                Big5            Neuroticism    0.907286\n",
       "5            Openness        Adventurousness    0.961168\n",
       "6            Openness     Artistic interests    0.075603\n",
       "7            Openness           Emotionality    0.241334\n",
       "8            Openness            Imagination    0.012605\n",
       "9            Openness              Intellect    0.929353\n",
       "10           Openness  Authority-challenging    0.844719\n",
       "11  Conscientiousness   Achievement striving    0.974528\n",
       "12  Conscientiousness           Cautiousness    0.978012\n",
       "13  Conscientiousness            Dutifulness    0.966628\n",
       "14  Conscientiousness            Orderliness    0.117107\n",
       "15  Conscientiousness        Self-discipline    0.884116\n",
       "16  Conscientiousness          Self-efficacy    0.897544\n",
       "17       Extraversion         Activity level    0.996005\n",
       "18       Extraversion          Assertiveness    0.995737\n",
       "19       Extraversion           Cheerfulness    0.431066\n",
       "20       Extraversion     Excitement-seeking    0.067695\n",
       "21       Extraversion               Outgoing    0.899447\n",
       "22       Extraversion         Gregariousness    0.572762\n",
       "23      Agreeableness               Altruism    0.903803\n",
       "24      Agreeableness            Cooperation    0.919365\n",
       "25      Agreeableness                Modesty    0.324203\n",
       "26      Agreeableness         Uncompromising    0.864552\n",
       "27      Agreeableness               Sympathy    0.937290\n",
       "28      Agreeableness                  Trust    0.989904\n",
       "29        Neuroticism                  Fiery    0.022531\n",
       "30        Neuroticism         Prone to worry    0.059867\n",
       "31        Neuroticism             Melancholy    0.185419\n",
       "32        Neuroticism           Immoderation    0.112079\n",
       "33        Neuroticism     Self-consciousness    0.035895\n",
       "34        Neuroticism  Susceptible to stress    0.079114\n",
       "35              Needs              Challenge    0.724671\n",
       "36              Needs              Closeness    0.298610\n",
       "37              Needs              Curiosity    0.375804\n",
       "38              Needs             Excitement    0.082851\n",
       "39              Needs                Harmony    0.152852\n",
       "40              Needs                  Ideal    0.261916\n",
       "41              Needs                Liberty    0.234780\n",
       "42              Needs                   Love    0.211896\n",
       "43              Needs           Practicality    0.159580\n",
       "44              Needs        Self-expression    0.015138\n",
       "45              Needs              Stability    0.625051\n",
       "46              Needs              Structure    0.943269\n",
       "47             Values           Conservation    0.393652\n",
       "48             Values     Openness to change    0.357234\n",
       "49             Values               Hedonism    0.027644\n",
       "50             Values       Self-enhancement    0.205660\n",
       "51             Values     Self-transcendence    0.345274"
      ]
     },
     "execution_count": 63,
     "metadata": {},
     "output_type": "execute_result"
    }
   ],
   "source": [
    "all_personality_info_to_df(t)"
   ]
  },
  {
   "cell_type": "code",
   "execution_count": 64,
   "metadata": {
    "ExecuteTime": {
     "end_time": "2018-09-18T22:49:09.774765Z",
     "start_time": "2018-09-18T22:49:09.401826Z"
    }
   },
   "outputs": [],
   "source": [
    "def df_to_d3(df):\n",
    "    data = []\n",
    "    keys, labels = df.index, df.columns\n",
    "    for key in keys:\n",
    "        values = [{'label': l, 'value': df[l][key]} for l in labels]\n",
    "        data.append({'values': values, 'key': key})\n",
    "    return data"
   ]
  },
  {
   "cell_type": "code",
   "execution_count": 65,
   "metadata": {
    "ExecuteTime": {
     "end_time": "2018-09-18T22:49:30.299955Z",
     "start_time": "2018-09-18T22:49:28.073245Z"
    }
   },
   "outputs": [
    {
     "name": "stderr",
     "output_type": "stream",
     "text": [
      "/Users/austin/anaconda3/lib/python3.6/site-packages/ipykernel_launcher.py:4: SettingWithCopyWarning: \n",
      "A value is trying to be set on a copy of a slice from a DataFrame\n",
      "\n",
      "See the caveats in the documentation: http://pandas.pydata.org/pandas-docs/stable/indexing.html#indexing-view-versus-copy\n",
      "  after removing the cwd from sys.path.\n"
     ]
    },
    {
     "data": {
      "text/plain": [
       "[{'values': [{'label': 'trait', 'value': 'Big5'},\n",
       "   {'label': 'name', 'value': 'Openness'},\n",
       "   {'label': 'percentile', 'value': 0.7642428287455869}],\n",
       "  'key': 0},\n",
       " {'values': [{'label': 'trait', 'value': 'Big5'},\n",
       "   {'label': 'name', 'value': 'Conscientiousness'},\n",
       "   {'label': 'percentile', 'value': 0.9786011328046709}],\n",
       "  'key': 1},\n",
       " {'values': [{'label': 'trait', 'value': 'Big5'},\n",
       "   {'label': 'name', 'value': 'Extraversion'},\n",
       "   {'label': 'percentile', 'value': 0.41832957186732167}],\n",
       "  'key': 2},\n",
       " {'values': [{'label': 'trait', 'value': 'Big5'},\n",
       "   {'label': 'name', 'value': 'Agreeableness'},\n",
       "   {'label': 'percentile', 'value': 0.3499606189760974}],\n",
       "  'key': 3},\n",
       " {'values': [{'label': 'trait', 'value': 'Big5'},\n",
       "   {'label': 'name', 'value': 'Neuroticism'},\n",
       "   {'label': 'percentile', 'value': 0.9072861854188683}],\n",
       "  'key': 4},\n",
       " {'values': [{'label': 'trait', 'value': 'Openness'},\n",
       "   {'label': 'name', 'value': 'Adventurousness'},\n",
       "   {'label': 'percentile', 'value': 0.9611676782299261}],\n",
       "  'key': 5},\n",
       " {'values': [{'label': 'trait', 'value': 'Openness'},\n",
       "   {'label': 'name', 'value': 'Artistic interests'},\n",
       "   {'label': 'percentile', 'value': 0.07560257357387051}],\n",
       "  'key': 6},\n",
       " {'values': [{'label': 'trait', 'value': 'Openness'},\n",
       "   {'label': 'name', 'value': 'Emotionality'},\n",
       "   {'label': 'percentile', 'value': 0.24133379019026346}],\n",
       "  'key': 7},\n",
       " {'values': [{'label': 'trait', 'value': 'Openness'},\n",
       "   {'label': 'name', 'value': 'Imagination'},\n",
       "   {'label': 'percentile', 'value': 0.01260463767315595}],\n",
       "  'key': 8},\n",
       " {'values': [{'label': 'trait', 'value': 'Openness'},\n",
       "   {'label': 'name', 'value': 'Intellect'},\n",
       "   {'label': 'percentile', 'value': 0.9293531751130377}],\n",
       "  'key': 9},\n",
       " {'values': [{'label': 'trait', 'value': 'Openness'},\n",
       "   {'label': 'name', 'value': 'Authority-challenging'},\n",
       "   {'label': 'percentile', 'value': 0.8447186122496054}],\n",
       "  'key': 10},\n",
       " {'values': [{'label': 'trait', 'value': 'Conscientiousness'},\n",
       "   {'label': 'name', 'value': 'Achievement striving'},\n",
       "   {'label': 'percentile', 'value': 0.9745276582706603}],\n",
       "  'key': 11},\n",
       " {'values': [{'label': 'trait', 'value': 'Conscientiousness'},\n",
       "   {'label': 'name', 'value': 'Cautiousness'},\n",
       "   {'label': 'percentile', 'value': 0.978012389531308}],\n",
       "  'key': 12},\n",
       " {'values': [{'label': 'trait', 'value': 'Conscientiousness'},\n",
       "   {'label': 'name', 'value': 'Dutifulness'},\n",
       "   {'label': 'percentile', 'value': 0.9666284389676436}],\n",
       "  'key': 13},\n",
       " {'values': [{'label': 'trait', 'value': 'Conscientiousness'},\n",
       "   {'label': 'name', 'value': 'Orderliness'},\n",
       "   {'label': 'percentile', 'value': 0.11710656418650889}],\n",
       "  'key': 14},\n",
       " {'values': [{'label': 'trait', 'value': 'Conscientiousness'},\n",
       "   {'label': 'name', 'value': 'Self-discipline'},\n",
       "   {'label': 'percentile', 'value': 0.8841157947528362}],\n",
       "  'key': 15},\n",
       " {'values': [{'label': 'trait', 'value': 'Conscientiousness'},\n",
       "   {'label': 'name', 'value': 'Self-efficacy'},\n",
       "   {'label': 'percentile', 'value': 0.8975438307293342}],\n",
       "  'key': 16},\n",
       " {'values': [{'label': 'trait', 'value': 'Extraversion'},\n",
       "   {'label': 'name', 'value': 'Activity level'},\n",
       "   {'label': 'percentile', 'value': 0.9960052001635067}],\n",
       "  'key': 17},\n",
       " {'values': [{'label': 'trait', 'value': 'Extraversion'},\n",
       "   {'label': 'name', 'value': 'Assertiveness'},\n",
       "   {'label': 'percentile', 'value': 0.9957366228910034}],\n",
       "  'key': 18},\n",
       " {'values': [{'label': 'trait', 'value': 'Extraversion'},\n",
       "   {'label': 'name', 'value': 'Cheerfulness'},\n",
       "   {'label': 'percentile', 'value': 0.43106567025198}],\n",
       "  'key': 19},\n",
       " {'values': [{'label': 'trait', 'value': 'Extraversion'},\n",
       "   {'label': 'name', 'value': 'Excitement-seeking'},\n",
       "   {'label': 'percentile', 'value': 0.06769549045096812}],\n",
       "  'key': 20},\n",
       " {'values': [{'label': 'trait', 'value': 'Extraversion'},\n",
       "   {'label': 'name', 'value': 'Outgoing'},\n",
       "   {'label': 'percentile', 'value': 0.8994465269965511}],\n",
       "  'key': 21},\n",
       " {'values': [{'label': 'trait', 'value': 'Extraversion'},\n",
       "   {'label': 'name', 'value': 'Gregariousness'},\n",
       "   {'label': 'percentile', 'value': 0.5727615679376875}],\n",
       "  'key': 22},\n",
       " {'values': [{'label': 'trait', 'value': 'Agreeableness'},\n",
       "   {'label': 'name', 'value': 'Altruism'},\n",
       "   {'label': 'percentile', 'value': 0.9038027482444171}],\n",
       "  'key': 23},\n",
       " {'values': [{'label': 'trait', 'value': 'Agreeableness'},\n",
       "   {'label': 'name', 'value': 'Cooperation'},\n",
       "   {'label': 'percentile', 'value': 0.9193646140425962}],\n",
       "  'key': 24},\n",
       " {'values': [{'label': 'trait', 'value': 'Agreeableness'},\n",
       "   {'label': 'name', 'value': 'Modesty'},\n",
       "   {'label': 'percentile', 'value': 0.3242031627385682}],\n",
       "  'key': 25},\n",
       " {'values': [{'label': 'trait', 'value': 'Agreeableness'},\n",
       "   {'label': 'name', 'value': 'Uncompromising'},\n",
       "   {'label': 'percentile', 'value': 0.8645523462088154}],\n",
       "  'key': 26},\n",
       " {'values': [{'label': 'trait', 'value': 'Agreeableness'},\n",
       "   {'label': 'name', 'value': 'Sympathy'},\n",
       "   {'label': 'percentile', 'value': 0.9372902314646563}],\n",
       "  'key': 27},\n",
       " {'values': [{'label': 'trait', 'value': 'Agreeableness'},\n",
       "   {'label': 'name', 'value': 'Trust'},\n",
       "   {'label': 'percentile', 'value': 0.9899041841415194}],\n",
       "  'key': 28},\n",
       " {'values': [{'label': 'trait', 'value': 'Neuroticism'},\n",
       "   {'label': 'name', 'value': 'Fiery'},\n",
       "   {'label': 'percentile', 'value': 0.022531420500933375}],\n",
       "  'key': 29},\n",
       " {'values': [{'label': 'trait', 'value': 'Neuroticism'},\n",
       "   {'label': 'name', 'value': 'Prone to worry'},\n",
       "   {'label': 'percentile', 'value': 0.059867087183626655}],\n",
       "  'key': 30},\n",
       " {'values': [{'label': 'trait', 'value': 'Neuroticism'},\n",
       "   {'label': 'name', 'value': 'Melancholy'},\n",
       "   {'label': 'percentile', 'value': 0.18541887620814174}],\n",
       "  'key': 31},\n",
       " {'values': [{'label': 'trait', 'value': 'Neuroticism'},\n",
       "   {'label': 'name', 'value': 'Immoderation'},\n",
       "   {'label': 'percentile', 'value': 0.11207899119984849}],\n",
       "  'key': 32},\n",
       " {'values': [{'label': 'trait', 'value': 'Neuroticism'},\n",
       "   {'label': 'name', 'value': 'Self-consciousness'},\n",
       "   {'label': 'percentile', 'value': 0.03589515607358834}],\n",
       "  'key': 33},\n",
       " {'values': [{'label': 'trait', 'value': 'Neuroticism'},\n",
       "   {'label': 'name', 'value': 'Susceptible to stress'},\n",
       "   {'label': 'percentile', 'value': 0.0791139499938675}],\n",
       "  'key': 34},\n",
       " {'values': [{'label': 'trait', 'value': 'Needs'},\n",
       "   {'label': 'name', 'value': 'Challenge'},\n",
       "   {'label': 'percentile', 'value': 0.7246707055503321}],\n",
       "  'key': 35},\n",
       " {'values': [{'label': 'trait', 'value': 'Needs'},\n",
       "   {'label': 'name', 'value': 'Closeness'},\n",
       "   {'label': 'percentile', 'value': 0.298610429381698}],\n",
       "  'key': 36},\n",
       " {'values': [{'label': 'trait', 'value': 'Needs'},\n",
       "   {'label': 'name', 'value': 'Curiosity'},\n",
       "   {'label': 'percentile', 'value': 0.3758043760967884}],\n",
       "  'key': 37},\n",
       " {'values': [{'label': 'trait', 'value': 'Needs'},\n",
       "   {'label': 'name', 'value': 'Excitement'},\n",
       "   {'label': 'percentile', 'value': 0.08285080345564977}],\n",
       "  'key': 38},\n",
       " {'values': [{'label': 'trait', 'value': 'Needs'},\n",
       "   {'label': 'name', 'value': 'Harmony'},\n",
       "   {'label': 'percentile', 'value': 0.15285241818755857}],\n",
       "  'key': 39},\n",
       " {'values': [{'label': 'trait', 'value': 'Needs'},\n",
       "   {'label': 'name', 'value': 'Ideal'},\n",
       "   {'label': 'percentile', 'value': 0.26191611735836196}],\n",
       "  'key': 40},\n",
       " {'values': [{'label': 'trait', 'value': 'Needs'},\n",
       "   {'label': 'name', 'value': 'Liberty'},\n",
       "   {'label': 'percentile', 'value': 0.2347800975919247}],\n",
       "  'key': 41},\n",
       " {'values': [{'label': 'trait', 'value': 'Needs'},\n",
       "   {'label': 'name', 'value': 'Love'},\n",
       "   {'label': 'percentile', 'value': 0.21189648972905517}],\n",
       "  'key': 42},\n",
       " {'values': [{'label': 'trait', 'value': 'Needs'},\n",
       "   {'label': 'name', 'value': 'Practicality'},\n",
       "   {'label': 'percentile', 'value': 0.15958022951148987}],\n",
       "  'key': 43},\n",
       " {'values': [{'label': 'trait', 'value': 'Needs'},\n",
       "   {'label': 'name', 'value': 'Self-expression'},\n",
       "   {'label': 'percentile', 'value': 0.015138385532043441}],\n",
       "  'key': 44},\n",
       " {'values': [{'label': 'trait', 'value': 'Needs'},\n",
       "   {'label': 'name', 'value': 'Stability'},\n",
       "   {'label': 'percentile', 'value': 0.6250508519033402}],\n",
       "  'key': 45},\n",
       " {'values': [{'label': 'trait', 'value': 'Needs'},\n",
       "   {'label': 'name', 'value': 'Structure'},\n",
       "   {'label': 'percentile', 'value': 0.9432692531196856}],\n",
       "  'key': 46},\n",
       " {'values': [{'label': 'trait', 'value': 'Values'},\n",
       "   {'label': 'name', 'value': 'Conservation'},\n",
       "   {'label': 'percentile', 'value': 0.3936516721728892}],\n",
       "  'key': 47},\n",
       " {'values': [{'label': 'trait', 'value': 'Values'},\n",
       "   {'label': 'name', 'value': 'Openness to change'},\n",
       "   {'label': 'percentile', 'value': 0.3572335550583824}],\n",
       "  'key': 48},\n",
       " {'values': [{'label': 'trait', 'value': 'Values'},\n",
       "   {'label': 'name', 'value': 'Hedonism'},\n",
       "   {'label': 'percentile', 'value': 0.027644384699663793}],\n",
       "  'key': 49},\n",
       " {'values': [{'label': 'trait', 'value': 'Values'},\n",
       "   {'label': 'name', 'value': 'Self-enhancement'},\n",
       "   {'label': 'percentile', 'value': 0.20565959753541468}],\n",
       "  'key': 50},\n",
       " {'values': [{'label': 'trait', 'value': 'Values'},\n",
       "   {'label': 'name', 'value': 'Self-transcendence'},\n",
       "   {'label': 'percentile', 'value': 0.3452741617386685}],\n",
       "  'key': 51}]"
      ]
     },
     "execution_count": 65,
     "metadata": {},
     "output_type": "execute_result"
    }
   ],
   "source": [
    "df_to_d3(all_personality_info_to_df(t))"
   ]
  },
  {
   "cell_type": "code",
   "execution_count": null,
   "metadata": {},
   "outputs": [],
   "source": []
  }
 ],
 "metadata": {
  "kernelspec": {
   "display_name": "Python 3",
   "language": "python",
   "name": "python3"
  },
  "language_info": {
   "codemirror_mode": {
    "name": "ipython",
    "version": 3
   },
   "file_extension": ".py",
   "mimetype": "text/x-python",
   "name": "python",
   "nbconvert_exporter": "python",
   "pygments_lexer": "ipython3",
   "version": "3.6.5"
  }
 },
 "nbformat": 4,
 "nbformat_minor": 2
}

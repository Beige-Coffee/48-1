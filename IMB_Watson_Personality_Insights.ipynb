{
 "cells": [
  {
   "cell_type": "code",
   "execution_count": 151,
   "metadata": {
    "ExecuteTime": {
     "end_time": "2018-09-16T16:50:58.883920Z",
     "start_time": "2018-09-16T16:50:58.769825Z"
    }
   },
   "outputs": [],
   "source": [
    "from hidden import IBM_personality_insights_api"
   ]
  },
  {
   "cell_type": "markdown",
   "metadata": {
    "ExecuteTime": {
     "end_time": "2018-09-15T15:08:48.232585Z",
     "start_time": "2018-09-15T15:08:47.927595Z"
    }
   },
   "source": [
    "# IBM Watson Personality Insights\n",
    "\n",
    "To read these notes directly from IBM, please visit this website: https://www.ibm.com/watson/developercloud/tone-analyzer/api/v3/python.html?python#error-handling. Otherwise, most of the notes seen bellow have been taken directly from the website above and placed here to aid the reader.\n",
    "\n",
    "The IBM Watson Personality Insights service enables applications to derive insights from social media, enterprise data, or other digital communications. The service uses linguistic analytics to infer individuals' intrinsic personality characteristics, including Big Five, Needs, and Values, from digital communications such as email, text messages, tweets, and forum posts.\n",
    "\n",
    "The service can automatically infer, from potentially noisy social media, portraits of individuals that reflect their personality characteristics. The service can infer consumption preferences based on the results of its analysis and, for JSON content that is timestamped, can report temporal behavior."
   ]
  },
  {
   "cell_type": "markdown",
   "metadata": {},
   "source": [
    "## Authentication"
   ]
  },
  {
   "cell_type": "markdown",
   "metadata": {
    "ExecuteTime": {
     "end_time": "2018-09-15T15:09:06.778844Z",
     "start_time": "2018-09-15T15:09:06.754257Z"
    }
   },
   "source": [
    "IBM Cloud is migrating to token-based Identity and Access Management (IAM) authentication. With some service instances, you authenticate to the API by using IAM. You can pass either a bearer token in an Authorization header or an API key. If you pass in the API key, the SDK manages the lifecycle of the tokens."
   ]
  },
  {
   "cell_type": "code",
   "execution_count": 3,
   "metadata": {
    "ExecuteTime": {
     "end_time": "2018-09-16T01:20:19.125428Z",
     "start_time": "2018-09-16T01:20:17.659946Z"
    }
   },
   "outputs": [],
   "source": [
    "from watson_developer_cloud import PersonalityInsightsV3"
   ]
  },
  {
   "cell_type": "code",
   "execution_count": 4,
   "metadata": {
    "ExecuteTime": {
     "end_time": "2018-09-16T01:20:19.153078Z",
     "start_time": "2018-09-16T01:20:19.127888Z"
    }
   },
   "outputs": [],
   "source": [
    "personality_insights = PersonalityInsightsV3(\n",
    "    version = '2017-09-21',\n",
    "    iam_apikey = IBM_personality_insights_api,\n",
    "    url = 'https://gateway-wdc.watsonplatform.net/personality-insights/api'\n",
    ")"
   ]
  },
  {
   "cell_type": "markdown",
   "metadata": {},
   "source": [
    "## Service endpoint"
   ]
  },
  {
   "cell_type": "markdown",
   "metadata": {},
   "source": [
    "The service endpoint is based on the location of the service instance. If your API endpoint URL differs from the default, you must set your endpoint. \n",
    "\n",
    "To find out which URL to use, view the service credentials by clicking the service instance on the Dashboard. Set the correct service ```URL``` by using the url parameter when you create the service instance or by calling the ```set_url()``` method of the service instance."
   ]
  },
  {
   "cell_type": "code",
   "execution_count": 21,
   "metadata": {
    "ExecuteTime": {
     "end_time": "2018-09-15T17:41:01.694431Z",
     "start_time": "2018-09-15T17:41:01.671418Z"
    }
   },
   "outputs": [],
   "source": [
    "url = 'https://gateway-wdc.watsonplatform.net/personality-insights/api'"
   ]
  },
  {
   "cell_type": "markdown",
   "metadata": {},
   "source": [
    "## Versioning"
   ]
  },
  {
   "cell_type": "markdown",
   "metadata": {},
   "source": [
    "API requests require a version parameter that takes a date in the format ```version=YYYY-MM-DD```. When IBM changes the API in a **backwards-incompatible** way, they release a new version date.\n",
    "\n",
    "Specify the version to use on API requests with the version parameter when you create the service instance. The service uses the API version for the date you specify, or the most recent version before that date. Don't default to the current date. Instead, specify a date that matches a version that is compatible with your app, and don't change it until your app is ready for a later version."
   ]
  },
  {
   "cell_type": "code",
   "execution_count": 7,
   "metadata": {
    "ExecuteTime": {
     "end_time": "2018-09-15T16:02:24.121225Z",
     "start_time": "2018-09-15T16:02:24.102770Z"
    }
   },
   "outputs": [],
   "source": [
    "version = '2017-09-21'"
   ]
  },
  {
   "cell_type": "markdown",
   "metadata": {},
   "source": [
    "## Data handling"
   ]
  },
  {
   "cell_type": "markdown",
   "metadata": {},
   "source": [
    "#### Data Collection\n",
    "By default, all Watson services log requests and their results. **Logging is done only to improve the services for future users. The logged data is not shared or made public.**\n",
    "\n",
    "To prevent IBM from accessing your data for general service improvements, set the ```X-Watson-Learning-Opt-Out``` header parameter to ```true``` when you create the service instance. (Any value other than false or 0 disables request logging.) You can set the header using the ```set_default_headers``` method of the service object."
   ]
  },
  {
   "cell_type": "code",
   "execution_count": 5,
   "metadata": {
    "ExecuteTime": {
     "end_time": "2018-09-16T01:22:07.283235Z",
     "start_time": "2018-09-16T01:22:07.262121Z"
    }
   },
   "outputs": [],
   "source": [
    "personality_insights.set_default_headers({'x-watson-learning-opt-out': \"true\"})"
   ]
  },
  {
   "cell_type": "markdown",
   "metadata": {},
   "source": [
    "## Methods"
   ]
  },
  {
   "cell_type": "markdown",
   "metadata": {},
   "source": [
    "#### Personality Profile\n",
    "\n",
    "Get profile Generates a personality profile for the author of the input text. The service accepts a maximum of 20 MB of input content, but it requires much less text to produce an accurate profile; for more information, see Providing sufficient input. The service analyzes text in Arabic, English, Japanese, Korean, or Spanish and returns its results in a variety of languages. You can provide plain text, HTML, or JSON input by specifying the Content-Type parameter; the default is text/plain. Request a JSON or comma-separated values (CSV) response by specifying the Accept parameter; CSV output includes a fixed number of columns and optional headers.\n",
    "\n",
    "Per the JSON specification, the default character encoding for JSON content is effectively always UTF-8; per the HTTP specification, the default encoding for plain text and HTML is ISO-8859-1 (effectively, the ASCII character set). When specifying a content type of plain text or HTML, include the charset parameter to indicate the character encoding of the input text; for example: Content-Type: text/plain;charset=utf-8. For text/html, the service removes HTML tags and analyzes only the textual content."
   ]
  },
  {
   "cell_type": "markdown",
   "metadata": {},
   "source": [
    "#### Request"
   ]
  },
  {
   "cell_type": "markdown",
   "metadata": {},
   "source": [
    "profile(self, content, content_type, accept=None, content_language=None, accept_language=None, raw_scores=None, csv_headers=None, consumption_preferences=None, **kwargs)\n",
    "\n",
    "**Input**:\n",
    "\n",
    "| Name        | Description     | \n",
    "| ------------- |:-------------:| \n",
    "| content (str):     | A maximum of 20 MB of content to analyze, though the service requires much less text |\n",
    "\n"
   ]
  },
  {
   "cell_type": "code",
   "execution_count": 41,
   "metadata": {
    "ExecuteTime": {
     "end_time": "2018-09-16T01:45:42.082719Z",
     "start_time": "2018-09-16T01:45:40.634409Z"
    },
    "scrolled": true
   },
   "outputs": [],
   "source": [
    "import json\n",
    "profile = personality_insights.profile(content = t, content_type='text/plain').get_result()"
   ]
  },
  {
   "cell_type": "code",
   "execution_count": 42,
   "metadata": {
    "ExecuteTime": {
     "end_time": "2018-09-16T01:45:44.632018Z",
     "start_time": "2018-09-16T01:45:44.601644Z"
    }
   },
   "outputs": [
    {
     "data": {
      "text/plain": [
       "dict_keys(['word_count', 'word_count_message', 'processed_language', 'personality', 'needs', 'values', 'warnings'])"
      ]
     },
     "execution_count": 42,
     "metadata": {},
     "output_type": "execute_result"
    }
   ],
   "source": [
    "import pandas as pd\n",
    "profile.keys()"
   ]
  },
  {
   "cell_type": "markdown",
   "metadata": {},
   "source": [
    "# Function to Distill the Big5 Personality Traits into DF"
   ]
  },
  {
   "cell_type": "code",
   "execution_count": 149,
   "metadata": {
    "ExecuteTime": {
     "end_time": "2018-09-16T16:48:50.857455Z",
     "start_time": "2018-09-16T16:48:50.832031Z"
    }
   },
   "outputs": [],
   "source": [
    "def text_to_big5_personality_pd(text):\n",
    "    profile = personality_insights.profile(content = text, content_type='text/plain').get_result()\n",
    "    df = pd.DataFrame(profile['personality'])\n",
    "    df['name'][4] = 'Neuroticism'\n",
    "    return df[['name', 'percentile']]"
   ]
  },
  {
   "cell_type": "markdown",
   "metadata": {},
   "source": [
    "#### example"
   ]
  },
  {
   "cell_type": "code",
   "execution_count": 164,
   "metadata": {
    "ExecuteTime": {
     "end_time": "2018-09-16T16:56:29.264259Z",
     "start_time": "2018-09-16T16:56:27.915911Z"
    }
   },
   "outputs": [
    {
     "data": {
      "text/html": [
       "<div>\n",
       "<style scoped>\n",
       "    .dataframe tbody tr th:only-of-type {\n",
       "        vertical-align: middle;\n",
       "    }\n",
       "\n",
       "    .dataframe tbody tr th {\n",
       "        vertical-align: top;\n",
       "    }\n",
       "\n",
       "    .dataframe thead th {\n",
       "        text-align: right;\n",
       "    }\n",
       "</style>\n",
       "<table border=\"1\" class=\"dataframe\">\n",
       "  <thead>\n",
       "    <tr style=\"text-align: right;\">\n",
       "      <th></th>\n",
       "      <th>name</th>\n",
       "      <th>percentile</th>\n",
       "    </tr>\n",
       "  </thead>\n",
       "  <tbody>\n",
       "    <tr>\n",
       "      <th>0</th>\n",
       "      <td>Openness</td>\n",
       "      <td>0.999510</td>\n",
       "    </tr>\n",
       "    <tr>\n",
       "      <th>1</th>\n",
       "      <td>Conscientiousness</td>\n",
       "      <td>0.153333</td>\n",
       "    </tr>\n",
       "    <tr>\n",
       "      <th>2</th>\n",
       "      <td>Extraversion</td>\n",
       "      <td>0.433102</td>\n",
       "    </tr>\n",
       "    <tr>\n",
       "      <th>3</th>\n",
       "      <td>Agreeableness</td>\n",
       "      <td>0.169136</td>\n",
       "    </tr>\n",
       "    <tr>\n",
       "      <th>4</th>\n",
       "      <td>Neuroticism</td>\n",
       "      <td>0.144892</td>\n",
       "    </tr>\n",
       "  </tbody>\n",
       "</table>\n",
       "</div>"
      ],
      "text/plain": [
       "                name  percentile\n",
       "0           Openness    0.999510\n",
       "1  Conscientiousness    0.153333\n",
       "2       Extraversion    0.433102\n",
       "3      Agreeableness    0.169136\n",
       "4        Neuroticism    0.144892"
      ]
     },
     "execution_count": 164,
     "metadata": {},
     "output_type": "execute_result"
    }
   ],
   "source": [
    "text_to_big5_personality_pd(profile)"
   ]
  },
  {
   "cell_type": "markdown",
   "metadata": {},
   "source": [
    "# Functions to \"Openness\" Sub-Categories Into a Pandas DF"
   ]
  },
  {
   "cell_type": "code",
   "execution_count": 118,
   "metadata": {
    "ExecuteTime": {
     "end_time": "2018-09-16T16:37:02.481926Z",
     "start_time": "2018-09-16T16:37:02.456026Z"
    }
   },
   "outputs": [],
   "source": [
    "def text_to_openness_sub_personality_pd(profile):\n",
    "    df = pd.DataFrame(profile['personality'])\n",
    "    df = pd.DataFrame(df[df['name'] == 'Openness']['children'][0])\n",
    "    df['trait'] = 'Openness'\n",
    "    return df[['trait','name', 'percentile']]"
   ]
  },
  {
   "cell_type": "code",
   "execution_count": 165,
   "metadata": {
    "ExecuteTime": {
     "end_time": "2018-09-16T16:57:12.157691Z",
     "start_time": "2018-09-16T16:57:12.117142Z"
    }
   },
   "outputs": [
    {
     "data": {
      "text/html": [
       "<div>\n",
       "<style scoped>\n",
       "    .dataframe tbody tr th:only-of-type {\n",
       "        vertical-align: middle;\n",
       "    }\n",
       "\n",
       "    .dataframe tbody tr th {\n",
       "        vertical-align: top;\n",
       "    }\n",
       "\n",
       "    .dataframe thead th {\n",
       "        text-align: right;\n",
       "    }\n",
       "</style>\n",
       "<table border=\"1\" class=\"dataframe\">\n",
       "  <thead>\n",
       "    <tr style=\"text-align: right;\">\n",
       "      <th></th>\n",
       "      <th>trait</th>\n",
       "      <th>name</th>\n",
       "      <th>percentile</th>\n",
       "    </tr>\n",
       "  </thead>\n",
       "  <tbody>\n",
       "    <tr>\n",
       "      <th>0</th>\n",
       "      <td>Openness</td>\n",
       "      <td>Adventurousness</td>\n",
       "      <td>0.961168</td>\n",
       "    </tr>\n",
       "    <tr>\n",
       "      <th>1</th>\n",
       "      <td>Openness</td>\n",
       "      <td>Artistic interests</td>\n",
       "      <td>0.075603</td>\n",
       "    </tr>\n",
       "    <tr>\n",
       "      <th>2</th>\n",
       "      <td>Openness</td>\n",
       "      <td>Emotionality</td>\n",
       "      <td>0.241334</td>\n",
       "    </tr>\n",
       "    <tr>\n",
       "      <th>3</th>\n",
       "      <td>Openness</td>\n",
       "      <td>Imagination</td>\n",
       "      <td>0.012605</td>\n",
       "    </tr>\n",
       "    <tr>\n",
       "      <th>4</th>\n",
       "      <td>Openness</td>\n",
       "      <td>Intellect</td>\n",
       "      <td>0.929353</td>\n",
       "    </tr>\n",
       "    <tr>\n",
       "      <th>5</th>\n",
       "      <td>Openness</td>\n",
       "      <td>Authority-challenging</td>\n",
       "      <td>0.844719</td>\n",
       "    </tr>\n",
       "  </tbody>\n",
       "</table>\n",
       "</div>"
      ],
      "text/plain": [
       "      trait                   name  percentile\n",
       "0  Openness        Adventurousness    0.961168\n",
       "1  Openness     Artistic interests    0.075603\n",
       "2  Openness           Emotionality    0.241334\n",
       "3  Openness            Imagination    0.012605\n",
       "4  Openness              Intellect    0.929353\n",
       "5  Openness  Authority-challenging    0.844719"
      ]
     },
     "execution_count": 165,
     "metadata": {},
     "output_type": "execute_result"
    }
   ],
   "source": [
    "text_to_openness_sub_personality_pd(profile)"
   ]
  },
  {
   "cell_type": "markdown",
   "metadata": {},
   "source": [
    "# Functions to \"Conscientiousness\" Sub-Categories Into a Pandas DF"
   ]
  },
  {
   "cell_type": "code",
   "execution_count": 146,
   "metadata": {
    "ExecuteTime": {
     "end_time": "2018-09-16T16:48:21.934515Z",
     "start_time": "2018-09-16T16:48:21.906507Z"
    }
   },
   "outputs": [],
   "source": [
    "def text_to_conscientiousness_sub_personality_pd(profile):\n",
    "    df = pd.DataFrame(profile['personality'])\n",
    "    df = pd.DataFrame(df[df['name'] == 'Conscientiousness']['children'][1])\n",
    "    df['trait'] = 'Conscientiousness'\n",
    "    return df[['trait','name', 'percentile']]"
   ]
  },
  {
   "cell_type": "code",
   "execution_count": 166,
   "metadata": {
    "ExecuteTime": {
     "end_time": "2018-09-16T16:57:15.129910Z",
     "start_time": "2018-09-16T16:57:15.089351Z"
    }
   },
   "outputs": [
    {
     "data": {
      "text/html": [
       "<div>\n",
       "<style scoped>\n",
       "    .dataframe tbody tr th:only-of-type {\n",
       "        vertical-align: middle;\n",
       "    }\n",
       "\n",
       "    .dataframe tbody tr th {\n",
       "        vertical-align: top;\n",
       "    }\n",
       "\n",
       "    .dataframe thead th {\n",
       "        text-align: right;\n",
       "    }\n",
       "</style>\n",
       "<table border=\"1\" class=\"dataframe\">\n",
       "  <thead>\n",
       "    <tr style=\"text-align: right;\">\n",
       "      <th></th>\n",
       "      <th>trait</th>\n",
       "      <th>name</th>\n",
       "      <th>percentile</th>\n",
       "    </tr>\n",
       "  </thead>\n",
       "  <tbody>\n",
       "    <tr>\n",
       "      <th>0</th>\n",
       "      <td>Conscientiousness</td>\n",
       "      <td>Achievement striving</td>\n",
       "      <td>0.974528</td>\n",
       "    </tr>\n",
       "    <tr>\n",
       "      <th>1</th>\n",
       "      <td>Conscientiousness</td>\n",
       "      <td>Cautiousness</td>\n",
       "      <td>0.978012</td>\n",
       "    </tr>\n",
       "    <tr>\n",
       "      <th>2</th>\n",
       "      <td>Conscientiousness</td>\n",
       "      <td>Dutifulness</td>\n",
       "      <td>0.966628</td>\n",
       "    </tr>\n",
       "    <tr>\n",
       "      <th>3</th>\n",
       "      <td>Conscientiousness</td>\n",
       "      <td>Orderliness</td>\n",
       "      <td>0.117107</td>\n",
       "    </tr>\n",
       "    <tr>\n",
       "      <th>4</th>\n",
       "      <td>Conscientiousness</td>\n",
       "      <td>Self-discipline</td>\n",
       "      <td>0.884116</td>\n",
       "    </tr>\n",
       "    <tr>\n",
       "      <th>5</th>\n",
       "      <td>Conscientiousness</td>\n",
       "      <td>Self-efficacy</td>\n",
       "      <td>0.897544</td>\n",
       "    </tr>\n",
       "  </tbody>\n",
       "</table>\n",
       "</div>"
      ],
      "text/plain": [
       "               trait                  name  percentile\n",
       "0  Conscientiousness  Achievement striving    0.974528\n",
       "1  Conscientiousness          Cautiousness    0.978012\n",
       "2  Conscientiousness           Dutifulness    0.966628\n",
       "3  Conscientiousness           Orderliness    0.117107\n",
       "4  Conscientiousness       Self-discipline    0.884116\n",
       "5  Conscientiousness         Self-efficacy    0.897544"
      ]
     },
     "execution_count": 166,
     "metadata": {},
     "output_type": "execute_result"
    }
   ],
   "source": [
    "text_to_conscientiousness_sub_personality_pd(profile)"
   ]
  },
  {
   "cell_type": "markdown",
   "metadata": {},
   "source": [
    "# Functions to \"Extraversion\" Sub-Categories Into a Pandas DF"
   ]
  },
  {
   "cell_type": "code",
   "execution_count": 127,
   "metadata": {
    "ExecuteTime": {
     "end_time": "2018-09-16T16:39:03.212892Z",
     "start_time": "2018-09-16T16:39:03.157608Z"
    }
   },
   "outputs": [],
   "source": [
    "def text_to_extraversion_sub_personality_pd(profile):\n",
    "    df = pd.DataFrame(profile['personality'])\n",
    "    df = pd.DataFrame(df[df['name'] == 'Extraversion']['children'][2])\n",
    "    df['trait'] = 'Extraversion'\n",
    "    return df[['trait','name', 'percentile']]"
   ]
  },
  {
   "cell_type": "code",
   "execution_count": 167,
   "metadata": {
    "ExecuteTime": {
     "end_time": "2018-09-16T16:57:17.673907Z",
     "start_time": "2018-09-16T16:57:17.632111Z"
    }
   },
   "outputs": [
    {
     "data": {
      "text/html": [
       "<div>\n",
       "<style scoped>\n",
       "    .dataframe tbody tr th:only-of-type {\n",
       "        vertical-align: middle;\n",
       "    }\n",
       "\n",
       "    .dataframe tbody tr th {\n",
       "        vertical-align: top;\n",
       "    }\n",
       "\n",
       "    .dataframe thead th {\n",
       "        text-align: right;\n",
       "    }\n",
       "</style>\n",
       "<table border=\"1\" class=\"dataframe\">\n",
       "  <thead>\n",
       "    <tr style=\"text-align: right;\">\n",
       "      <th></th>\n",
       "      <th>trait</th>\n",
       "      <th>name</th>\n",
       "      <th>percentile</th>\n",
       "    </tr>\n",
       "  </thead>\n",
       "  <tbody>\n",
       "    <tr>\n",
       "      <th>0</th>\n",
       "      <td>Extraversion</td>\n",
       "      <td>Activity level</td>\n",
       "      <td>0.996005</td>\n",
       "    </tr>\n",
       "    <tr>\n",
       "      <th>1</th>\n",
       "      <td>Extraversion</td>\n",
       "      <td>Assertiveness</td>\n",
       "      <td>0.995737</td>\n",
       "    </tr>\n",
       "    <tr>\n",
       "      <th>2</th>\n",
       "      <td>Extraversion</td>\n",
       "      <td>Cheerfulness</td>\n",
       "      <td>0.431066</td>\n",
       "    </tr>\n",
       "    <tr>\n",
       "      <th>3</th>\n",
       "      <td>Extraversion</td>\n",
       "      <td>Excitement-seeking</td>\n",
       "      <td>0.067695</td>\n",
       "    </tr>\n",
       "    <tr>\n",
       "      <th>4</th>\n",
       "      <td>Extraversion</td>\n",
       "      <td>Outgoing</td>\n",
       "      <td>0.899447</td>\n",
       "    </tr>\n",
       "    <tr>\n",
       "      <th>5</th>\n",
       "      <td>Extraversion</td>\n",
       "      <td>Gregariousness</td>\n",
       "      <td>0.572762</td>\n",
       "    </tr>\n",
       "  </tbody>\n",
       "</table>\n",
       "</div>"
      ],
      "text/plain": [
       "          trait                name  percentile\n",
       "0  Extraversion      Activity level    0.996005\n",
       "1  Extraversion       Assertiveness    0.995737\n",
       "2  Extraversion        Cheerfulness    0.431066\n",
       "3  Extraversion  Excitement-seeking    0.067695\n",
       "4  Extraversion            Outgoing    0.899447\n",
       "5  Extraversion      Gregariousness    0.572762"
      ]
     },
     "execution_count": 167,
     "metadata": {},
     "output_type": "execute_result"
    }
   ],
   "source": [
    "text_to_extraversion_sub_personality_pd(profile)"
   ]
  },
  {
   "cell_type": "markdown",
   "metadata": {},
   "source": [
    "# Functions to \"Agreeableness\" Sub-Categories Into a Pandas DF"
   ]
  },
  {
   "cell_type": "code",
   "execution_count": 112,
   "metadata": {
    "ExecuteTime": {
     "end_time": "2018-09-16T16:32:27.580764Z",
     "start_time": "2018-09-16T16:32:27.552877Z"
    }
   },
   "outputs": [],
   "source": [
    "def text_to_agreeableness_sub_personality_pd(profile):\n",
    "    df = pd.DataFrame(profile['personality'])\n",
    "    df = pd.DataFrame(df[df['name'] == 'Agreeableness']['children'][3])\n",
    "    df['trait'] = 'Agreeableness'\n",
    "    return df[['trait','name', 'percentile']]"
   ]
  },
  {
   "cell_type": "code",
   "execution_count": 168,
   "metadata": {
    "ExecuteTime": {
     "end_time": "2018-09-16T16:57:20.176872Z",
     "start_time": "2018-09-16T16:57:20.138619Z"
    }
   },
   "outputs": [
    {
     "data": {
      "text/html": [
       "<div>\n",
       "<style scoped>\n",
       "    .dataframe tbody tr th:only-of-type {\n",
       "        vertical-align: middle;\n",
       "    }\n",
       "\n",
       "    .dataframe tbody tr th {\n",
       "        vertical-align: top;\n",
       "    }\n",
       "\n",
       "    .dataframe thead th {\n",
       "        text-align: right;\n",
       "    }\n",
       "</style>\n",
       "<table border=\"1\" class=\"dataframe\">\n",
       "  <thead>\n",
       "    <tr style=\"text-align: right;\">\n",
       "      <th></th>\n",
       "      <th>trait</th>\n",
       "      <th>name</th>\n",
       "      <th>percentile</th>\n",
       "    </tr>\n",
       "  </thead>\n",
       "  <tbody>\n",
       "    <tr>\n",
       "      <th>0</th>\n",
       "      <td>Agreeableness</td>\n",
       "      <td>Altruism</td>\n",
       "      <td>0.903803</td>\n",
       "    </tr>\n",
       "    <tr>\n",
       "      <th>1</th>\n",
       "      <td>Agreeableness</td>\n",
       "      <td>Cooperation</td>\n",
       "      <td>0.919365</td>\n",
       "    </tr>\n",
       "    <tr>\n",
       "      <th>2</th>\n",
       "      <td>Agreeableness</td>\n",
       "      <td>Modesty</td>\n",
       "      <td>0.324203</td>\n",
       "    </tr>\n",
       "    <tr>\n",
       "      <th>3</th>\n",
       "      <td>Agreeableness</td>\n",
       "      <td>Uncompromising</td>\n",
       "      <td>0.864552</td>\n",
       "    </tr>\n",
       "    <tr>\n",
       "      <th>4</th>\n",
       "      <td>Agreeableness</td>\n",
       "      <td>Sympathy</td>\n",
       "      <td>0.937290</td>\n",
       "    </tr>\n",
       "    <tr>\n",
       "      <th>5</th>\n",
       "      <td>Agreeableness</td>\n",
       "      <td>Trust</td>\n",
       "      <td>0.989904</td>\n",
       "    </tr>\n",
       "  </tbody>\n",
       "</table>\n",
       "</div>"
      ],
      "text/plain": [
       "           trait            name  percentile\n",
       "0  Agreeableness        Altruism    0.903803\n",
       "1  Agreeableness     Cooperation    0.919365\n",
       "2  Agreeableness         Modesty    0.324203\n",
       "3  Agreeableness  Uncompromising    0.864552\n",
       "4  Agreeableness        Sympathy    0.937290\n",
       "5  Agreeableness           Trust    0.989904"
      ]
     },
     "execution_count": 168,
     "metadata": {},
     "output_type": "execute_result"
    }
   ],
   "source": [
    "text_to_agreeableness_sub_personality_pd(profile)"
   ]
  },
  {
   "cell_type": "markdown",
   "metadata": {},
   "source": [
    "# Functions to \"Emotional range/Neuroticism\" Sub-Categories Into a Pandas DF"
   ]
  },
  {
   "cell_type": "code",
   "execution_count": 114,
   "metadata": {
    "ExecuteTime": {
     "end_time": "2018-09-16T16:34:01.011613Z",
     "start_time": "2018-09-16T16:34:00.956781Z"
    }
   },
   "outputs": [],
   "source": [
    "def text_to_neuroticism_sub_personality_pd(profile):\n",
    "    df = pd.DataFrame(profile['personality'])\n",
    "    df = pd.DataFrame(df[df['name'] == 'Emotional range']['children'][4])\n",
    "    df['trait'] = 'Neuroticism'\n",
    "    return df[['trait','name', 'percentile']]"
   ]
  },
  {
   "cell_type": "code",
   "execution_count": 169,
   "metadata": {
    "ExecuteTime": {
     "end_time": "2018-09-16T16:57:22.875269Z",
     "start_time": "2018-09-16T16:57:22.837710Z"
    }
   },
   "outputs": [
    {
     "data": {
      "text/html": [
       "<div>\n",
       "<style scoped>\n",
       "    .dataframe tbody tr th:only-of-type {\n",
       "        vertical-align: middle;\n",
       "    }\n",
       "\n",
       "    .dataframe tbody tr th {\n",
       "        vertical-align: top;\n",
       "    }\n",
       "\n",
       "    .dataframe thead th {\n",
       "        text-align: right;\n",
       "    }\n",
       "</style>\n",
       "<table border=\"1\" class=\"dataframe\">\n",
       "  <thead>\n",
       "    <tr style=\"text-align: right;\">\n",
       "      <th></th>\n",
       "      <th>trait</th>\n",
       "      <th>name</th>\n",
       "      <th>percentile</th>\n",
       "    </tr>\n",
       "  </thead>\n",
       "  <tbody>\n",
       "    <tr>\n",
       "      <th>0</th>\n",
       "      <td>Neuroticism</td>\n",
       "      <td>Fiery</td>\n",
       "      <td>0.022531</td>\n",
       "    </tr>\n",
       "    <tr>\n",
       "      <th>1</th>\n",
       "      <td>Neuroticism</td>\n",
       "      <td>Prone to worry</td>\n",
       "      <td>0.059867</td>\n",
       "    </tr>\n",
       "    <tr>\n",
       "      <th>2</th>\n",
       "      <td>Neuroticism</td>\n",
       "      <td>Melancholy</td>\n",
       "      <td>0.185419</td>\n",
       "    </tr>\n",
       "    <tr>\n",
       "      <th>3</th>\n",
       "      <td>Neuroticism</td>\n",
       "      <td>Immoderation</td>\n",
       "      <td>0.112079</td>\n",
       "    </tr>\n",
       "    <tr>\n",
       "      <th>4</th>\n",
       "      <td>Neuroticism</td>\n",
       "      <td>Self-consciousness</td>\n",
       "      <td>0.035895</td>\n",
       "    </tr>\n",
       "    <tr>\n",
       "      <th>5</th>\n",
       "      <td>Neuroticism</td>\n",
       "      <td>Susceptible to stress</td>\n",
       "      <td>0.079114</td>\n",
       "    </tr>\n",
       "  </tbody>\n",
       "</table>\n",
       "</div>"
      ],
      "text/plain": [
       "         trait                   name  percentile\n",
       "0  Neuroticism                  Fiery    0.022531\n",
       "1  Neuroticism         Prone to worry    0.059867\n",
       "2  Neuroticism             Melancholy    0.185419\n",
       "3  Neuroticism           Immoderation    0.112079\n",
       "4  Neuroticism     Self-consciousness    0.035895\n",
       "5  Neuroticism  Susceptible to stress    0.079114"
      ]
     },
     "execution_count": 169,
     "metadata": {},
     "output_type": "execute_result"
    }
   ],
   "source": [
    "text_to_neuroticism_sub_personality_pd(profile)"
   ]
  },
  {
   "cell_type": "markdown",
   "metadata": {
    "ExecuteTime": {
     "end_time": "2018-09-16T16:34:52.383053Z",
     "start_time": "2018-09-16T16:34:52.355780Z"
    }
   },
   "source": [
    "# Function to Concatenate all Sub-Personality Traits Into One DF"
   ]
  },
  {
   "cell_type": "code",
   "execution_count": 141,
   "metadata": {
    "ExecuteTime": {
     "end_time": "2018-09-16T16:45:05.559571Z",
     "start_time": "2018-09-16T16:45:05.434777Z"
    }
   },
   "outputs": [],
   "source": [
    "def all_sub_personalities_to_df(text):\n",
    "    profile = personality_insights.profile(content = text, content_type='text/plain').get_result()\n",
    "    frames = [text_to_openness_sub_personality_pd(profile),\n",
    "              text_to_conscientiousness_sub_personality_pd(profile),\n",
    "              text_to_extraversion_sub_personality_pd(profile),\n",
    "              text_to_agreeableness_sub_personality_pd(profile),\n",
    "              text_to_neuroticism_sub_personality_pd(profile)]\n",
    "    return pd.concat(frames, ignore_index = True)"
   ]
  },
  {
   "cell_type": "markdown",
   "metadata": {},
   "source": [
    "# Sample Pipeline: MBA student's \"failure\" essay "
   ]
  },
  {
   "cell_type": "markdown",
   "metadata": {},
   "source": [
    "#### Student's Essay"
   ]
  },
  {
   "cell_type": "code",
   "execution_count": 40,
   "metadata": {
    "ExecuteTime": {
     "end_time": "2018-09-16T01:45:29.014504Z",
     "start_time": "2018-09-16T01:45:28.847545Z"
    }
   },
   "outputs": [],
   "source": [
    "t = \"\"\" In my 2nd year in university, my 2 study partners and I were all working for software companies. We frequently discussed ways to make quantum career leaps. One that fascinated us was starting our own company.\n",
    "\n",
    "One day we came up with an idea that would increase sales for consumer goods retailers and simultaneously decrease monthly consumer expenses. Each day, we polished our idea together for a couple hours.\n",
    "\n",
    "After 2 weeks, I decided to get outside feedback. I looked for people who had at least 10 years experience in consumer goods. Finally, I convinced a friend, to connect me with a board member of the 2nd largest consumer goods retailer in my country.\n",
    "\n",
    "I presented our business model to the board member, and he instructed his right-hand to set us meetings with managers who could evaluate our plans. Over the next month, we went to one meeting after another. The responses varied from enthusiasm to skepticism. Each time, we improved our presentation according to the feedback.\n",
    "\n",
    "Finally, I managed to set a meeting with the previous CEO of the largest consumer goods retailer. He concluded our meeting with: “Guys, in my opinion, it’s not going to work”.\n",
    "\n",
    "I couldn’t say if it was the pressure from school and work or the CEO’s negative feedback, but since that meeting, I wasn’t able to motivate the team to go on. We consciously gave up.\n",
    "\n",
    "2 years later, one of my teammates called out of the blue: “check out this link…it works!”. I think he expected me to feel disappointment. Actually, I felt pride – my first business attempt was viable after all.\"\"\""
   ]
  },
  {
   "cell_type": "markdown",
   "metadata": {},
   "source": [
    "#### Overarching Big 5 Personality Traits"
   ]
  },
  {
   "cell_type": "code",
   "execution_count": 163,
   "metadata": {
    "ExecuteTime": {
     "end_time": "2018-09-16T16:56:19.777194Z",
     "start_time": "2018-09-16T16:56:18.617074Z"
    }
   },
   "outputs": [
    {
     "data": {
      "text/html": [
       "<div>\n",
       "<style scoped>\n",
       "    .dataframe tbody tr th:only-of-type {\n",
       "        vertical-align: middle;\n",
       "    }\n",
       "\n",
       "    .dataframe tbody tr th {\n",
       "        vertical-align: top;\n",
       "    }\n",
       "\n",
       "    .dataframe thead th {\n",
       "        text-align: right;\n",
       "    }\n",
       "</style>\n",
       "<table border=\"1\" class=\"dataframe\">\n",
       "  <thead>\n",
       "    <tr style=\"text-align: right;\">\n",
       "      <th></th>\n",
       "      <th>name</th>\n",
       "      <th>percentile</th>\n",
       "    </tr>\n",
       "  </thead>\n",
       "  <tbody>\n",
       "    <tr>\n",
       "      <th>0</th>\n",
       "      <td>Openness</td>\n",
       "      <td>0.998386</td>\n",
       "    </tr>\n",
       "    <tr>\n",
       "      <th>1</th>\n",
       "      <td>Conscientiousness</td>\n",
       "      <td>0.114844</td>\n",
       "    </tr>\n",
       "    <tr>\n",
       "      <th>2</th>\n",
       "      <td>Extraversion</td>\n",
       "      <td>0.032597</td>\n",
       "    </tr>\n",
       "    <tr>\n",
       "      <th>3</th>\n",
       "      <td>Agreeableness</td>\n",
       "      <td>0.231184</td>\n",
       "    </tr>\n",
       "    <tr>\n",
       "      <th>4</th>\n",
       "      <td>Neuroticism</td>\n",
       "      <td>0.039525</td>\n",
       "    </tr>\n",
       "  </tbody>\n",
       "</table>\n",
       "</div>"
      ],
      "text/plain": [
       "                name  percentile\n",
       "0           Openness    0.998386\n",
       "1  Conscientiousness    0.114844\n",
       "2       Extraversion    0.032597\n",
       "3      Agreeableness    0.231184\n",
       "4        Neuroticism    0.039525"
      ]
     },
     "execution_count": 163,
     "metadata": {},
     "output_type": "execute_result"
    }
   ],
   "source": [
    "text_to_big5_personality_pd(text)"
   ]
  },
  {
   "cell_type": "markdown",
   "metadata": {},
   "source": [
    "#### Sub-Personality Traits"
   ]
  },
  {
   "cell_type": "code",
   "execution_count": 142,
   "metadata": {
    "ExecuteTime": {
     "end_time": "2018-09-16T16:45:31.707989Z",
     "start_time": "2018-09-16T16:45:29.188041Z"
    }
   },
   "outputs": [
    {
     "data": {
      "text/html": [
       "<div>\n",
       "<style scoped>\n",
       "    .dataframe tbody tr th:only-of-type {\n",
       "        vertical-align: middle;\n",
       "    }\n",
       "\n",
       "    .dataframe tbody tr th {\n",
       "        vertical-align: top;\n",
       "    }\n",
       "\n",
       "    .dataframe thead th {\n",
       "        text-align: right;\n",
       "    }\n",
       "</style>\n",
       "<table border=\"1\" class=\"dataframe\">\n",
       "  <thead>\n",
       "    <tr style=\"text-align: right;\">\n",
       "      <th></th>\n",
       "      <th>trait</th>\n",
       "      <th>name</th>\n",
       "      <th>percentile</th>\n",
       "    </tr>\n",
       "  </thead>\n",
       "  <tbody>\n",
       "    <tr>\n",
       "      <th>0</th>\n",
       "      <td>Openness</td>\n",
       "      <td>Adventurousness</td>\n",
       "      <td>0.961168</td>\n",
       "    </tr>\n",
       "    <tr>\n",
       "      <th>1</th>\n",
       "      <td>Openness</td>\n",
       "      <td>Artistic interests</td>\n",
       "      <td>0.075603</td>\n",
       "    </tr>\n",
       "    <tr>\n",
       "      <th>2</th>\n",
       "      <td>Openness</td>\n",
       "      <td>Emotionality</td>\n",
       "      <td>0.241334</td>\n",
       "    </tr>\n",
       "    <tr>\n",
       "      <th>3</th>\n",
       "      <td>Openness</td>\n",
       "      <td>Imagination</td>\n",
       "      <td>0.012605</td>\n",
       "    </tr>\n",
       "    <tr>\n",
       "      <th>4</th>\n",
       "      <td>Openness</td>\n",
       "      <td>Intellect</td>\n",
       "      <td>0.929353</td>\n",
       "    </tr>\n",
       "    <tr>\n",
       "      <th>5</th>\n",
       "      <td>Openness</td>\n",
       "      <td>Authority-challenging</td>\n",
       "      <td>0.844719</td>\n",
       "    </tr>\n",
       "    <tr>\n",
       "      <th>6</th>\n",
       "      <td>Conscientiousness</td>\n",
       "      <td>Achievement striving</td>\n",
       "      <td>0.974528</td>\n",
       "    </tr>\n",
       "    <tr>\n",
       "      <th>7</th>\n",
       "      <td>Conscientiousness</td>\n",
       "      <td>Cautiousness</td>\n",
       "      <td>0.978012</td>\n",
       "    </tr>\n",
       "    <tr>\n",
       "      <th>8</th>\n",
       "      <td>Conscientiousness</td>\n",
       "      <td>Dutifulness</td>\n",
       "      <td>0.966628</td>\n",
       "    </tr>\n",
       "    <tr>\n",
       "      <th>9</th>\n",
       "      <td>Conscientiousness</td>\n",
       "      <td>Orderliness</td>\n",
       "      <td>0.117107</td>\n",
       "    </tr>\n",
       "    <tr>\n",
       "      <th>10</th>\n",
       "      <td>Conscientiousness</td>\n",
       "      <td>Self-discipline</td>\n",
       "      <td>0.884116</td>\n",
       "    </tr>\n",
       "    <tr>\n",
       "      <th>11</th>\n",
       "      <td>Conscientiousness</td>\n",
       "      <td>Self-efficacy</td>\n",
       "      <td>0.897544</td>\n",
       "    </tr>\n",
       "    <tr>\n",
       "      <th>12</th>\n",
       "      <td>Extraversion</td>\n",
       "      <td>Activity level</td>\n",
       "      <td>0.996005</td>\n",
       "    </tr>\n",
       "    <tr>\n",
       "      <th>13</th>\n",
       "      <td>Extraversion</td>\n",
       "      <td>Assertiveness</td>\n",
       "      <td>0.995737</td>\n",
       "    </tr>\n",
       "    <tr>\n",
       "      <th>14</th>\n",
       "      <td>Extraversion</td>\n",
       "      <td>Cheerfulness</td>\n",
       "      <td>0.431066</td>\n",
       "    </tr>\n",
       "    <tr>\n",
       "      <th>15</th>\n",
       "      <td>Extraversion</td>\n",
       "      <td>Excitement-seeking</td>\n",
       "      <td>0.067695</td>\n",
       "    </tr>\n",
       "    <tr>\n",
       "      <th>16</th>\n",
       "      <td>Extraversion</td>\n",
       "      <td>Outgoing</td>\n",
       "      <td>0.899447</td>\n",
       "    </tr>\n",
       "    <tr>\n",
       "      <th>17</th>\n",
       "      <td>Extraversion</td>\n",
       "      <td>Gregariousness</td>\n",
       "      <td>0.572762</td>\n",
       "    </tr>\n",
       "    <tr>\n",
       "      <th>18</th>\n",
       "      <td>Agreeableness</td>\n",
       "      <td>Altruism</td>\n",
       "      <td>0.903803</td>\n",
       "    </tr>\n",
       "    <tr>\n",
       "      <th>19</th>\n",
       "      <td>Agreeableness</td>\n",
       "      <td>Cooperation</td>\n",
       "      <td>0.919365</td>\n",
       "    </tr>\n",
       "    <tr>\n",
       "      <th>20</th>\n",
       "      <td>Agreeableness</td>\n",
       "      <td>Modesty</td>\n",
       "      <td>0.324203</td>\n",
       "    </tr>\n",
       "    <tr>\n",
       "      <th>21</th>\n",
       "      <td>Agreeableness</td>\n",
       "      <td>Uncompromising</td>\n",
       "      <td>0.864552</td>\n",
       "    </tr>\n",
       "    <tr>\n",
       "      <th>22</th>\n",
       "      <td>Agreeableness</td>\n",
       "      <td>Sympathy</td>\n",
       "      <td>0.937290</td>\n",
       "    </tr>\n",
       "    <tr>\n",
       "      <th>23</th>\n",
       "      <td>Agreeableness</td>\n",
       "      <td>Trust</td>\n",
       "      <td>0.989904</td>\n",
       "    </tr>\n",
       "    <tr>\n",
       "      <th>24</th>\n",
       "      <td>Neuroticism</td>\n",
       "      <td>Fiery</td>\n",
       "      <td>0.022531</td>\n",
       "    </tr>\n",
       "    <tr>\n",
       "      <th>25</th>\n",
       "      <td>Neuroticism</td>\n",
       "      <td>Prone to worry</td>\n",
       "      <td>0.059867</td>\n",
       "    </tr>\n",
       "    <tr>\n",
       "      <th>26</th>\n",
       "      <td>Neuroticism</td>\n",
       "      <td>Melancholy</td>\n",
       "      <td>0.185419</td>\n",
       "    </tr>\n",
       "    <tr>\n",
       "      <th>27</th>\n",
       "      <td>Neuroticism</td>\n",
       "      <td>Immoderation</td>\n",
       "      <td>0.112079</td>\n",
       "    </tr>\n",
       "    <tr>\n",
       "      <th>28</th>\n",
       "      <td>Neuroticism</td>\n",
       "      <td>Self-consciousness</td>\n",
       "      <td>0.035895</td>\n",
       "    </tr>\n",
       "    <tr>\n",
       "      <th>29</th>\n",
       "      <td>Neuroticism</td>\n",
       "      <td>Susceptible to stress</td>\n",
       "      <td>0.079114</td>\n",
       "    </tr>\n",
       "  </tbody>\n",
       "</table>\n",
       "</div>"
      ],
      "text/plain": [
       "                trait                   name  percentile\n",
       "0            Openness        Adventurousness    0.961168\n",
       "1            Openness     Artistic interests    0.075603\n",
       "2            Openness           Emotionality    0.241334\n",
       "3            Openness            Imagination    0.012605\n",
       "4            Openness              Intellect    0.929353\n",
       "5            Openness  Authority-challenging    0.844719\n",
       "6   Conscientiousness   Achievement striving    0.974528\n",
       "7   Conscientiousness           Cautiousness    0.978012\n",
       "8   Conscientiousness            Dutifulness    0.966628\n",
       "9   Conscientiousness            Orderliness    0.117107\n",
       "10  Conscientiousness        Self-discipline    0.884116\n",
       "11  Conscientiousness          Self-efficacy    0.897544\n",
       "12       Extraversion         Activity level    0.996005\n",
       "13       Extraversion          Assertiveness    0.995737\n",
       "14       Extraversion           Cheerfulness    0.431066\n",
       "15       Extraversion     Excitement-seeking    0.067695\n",
       "16       Extraversion               Outgoing    0.899447\n",
       "17       Extraversion         Gregariousness    0.572762\n",
       "18      Agreeableness               Altruism    0.903803\n",
       "19      Agreeableness            Cooperation    0.919365\n",
       "20      Agreeableness                Modesty    0.324203\n",
       "21      Agreeableness         Uncompromising    0.864552\n",
       "22      Agreeableness               Sympathy    0.937290\n",
       "23      Agreeableness                  Trust    0.989904\n",
       "24        Neuroticism                  Fiery    0.022531\n",
       "25        Neuroticism         Prone to worry    0.059867\n",
       "26        Neuroticism             Melancholy    0.185419\n",
       "27        Neuroticism           Immoderation    0.112079\n",
       "28        Neuroticism     Self-consciousness    0.035895\n",
       "29        Neuroticism  Susceptible to stress    0.079114"
      ]
     },
     "execution_count": 142,
     "metadata": {},
     "output_type": "execute_result"
    }
   ],
   "source": [
    "all_sub_personalities_to_df(t)"
   ]
  },
  {
   "cell_type": "code",
   "execution_count": null,
   "metadata": {},
   "outputs": [],
   "source": []
  }
 ],
 "metadata": {
  "kernelspec": {
   "display_name": "Python 3",
   "language": "python",
   "name": "python3"
  },
  "language_info": {
   "codemirror_mode": {
    "name": "ipython",
    "version": 3
   },
   "file_extension": ".py",
   "mimetype": "text/x-python",
   "name": "python",
   "nbconvert_exporter": "python",
   "pygments_lexer": "ipython3",
   "version": "3.6.5"
  }
 },
 "nbformat": 4,
 "nbformat_minor": 2
}

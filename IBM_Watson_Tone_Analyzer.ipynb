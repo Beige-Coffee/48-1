{
 "cells": [
  {
   "cell_type": "code",
   "execution_count": 19,
   "metadata": {
    "ExecuteTime": {
     "end_time": "2018-09-19T18:36:15.207598Z",
     "start_time": "2018-09-19T18:36:15.185728Z"
    }
   },
   "outputs": [],
   "source": [
    "from hidden import IBM_tone_analyzer_api\n",
    "import pandas as pd"
   ]
  },
  {
   "cell_type": "markdown",
   "metadata": {
    "ExecuteTime": {
     "end_time": "2018-09-15T15:08:48.232585Z",
     "start_time": "2018-09-15T15:08:47.927595Z"
    }
   },
   "source": [
    "# IBM Watson Tone Analyzer\n",
    "\n",
    "To read these notes directly from IBM, please visit this website: https://www.ibm.com/watson/developercloud/tone-analyzer/api/v3/python.html?python#error-handling. Otherwise, most of the notes seen bellow have been taken directly from the website above and placed here to aid the reader.\n",
    "\n",
    "The IBM Watson Tone Analyzer service uses linguistic analysis to detect emotional and language tones in written text. The service can analyze tone at both the **document** and **sentence levels**."
   ]
  },
  {
   "cell_type": "markdown",
   "metadata": {},
   "source": [
    "## Authentication"
   ]
  },
  {
   "cell_type": "markdown",
   "metadata": {
    "ExecuteTime": {
     "end_time": "2018-09-15T15:09:06.778844Z",
     "start_time": "2018-09-15T15:09:06.754257Z"
    }
   },
   "source": [
    "IBM Cloud is migrating to token-based Identity and Access Management (IAM) authentication. With some service instances, you authenticate to the API by using IAM. You can pass either a bearer token in an Authorization header or an API key. If you pass in the API key, the SDK manages the lifecycle of the tokens."
   ]
  },
  {
   "cell_type": "code",
   "execution_count": 8,
   "metadata": {
    "ExecuteTime": {
     "end_time": "2018-09-19T18:35:48.302084Z",
     "start_time": "2018-09-19T18:35:47.819475Z"
    }
   },
   "outputs": [],
   "source": [
    "from watson_developer_cloud import ToneAnalyzerV3"
   ]
  },
  {
   "cell_type": "code",
   "execution_count": 11,
   "metadata": {
    "ExecuteTime": {
     "end_time": "2018-09-19T18:35:57.945106Z",
     "start_time": "2018-09-19T18:35:57.920261Z"
    }
   },
   "outputs": [],
   "source": [
    "tone_analyzer = ToneAnalyzerV3(\n",
    "    version = '2017-09-21',\n",
    "    iam_apikey = IBM_tone_analyzer_api,\n",
    "    url = 'https://gateway-wdc.watsonplatform.net/tone-analyzer/api'\n",
    ")"
   ]
  },
  {
   "cell_type": "markdown",
   "metadata": {},
   "source": [
    "## Service endpoint"
   ]
  },
  {
   "cell_type": "markdown",
   "metadata": {},
   "source": [
    "The service endpoint is based on the location of the service instance. If your API endpoint URL differs from the default, you must set your endpoint. \n",
    "\n",
    "To find out which URL to use, view the service credentials by clicking the service instance on the Dashboard. Set the correct service ```URL``` by using the url parameter when you create the service instance or by calling the ```set_url()``` method of the service instance."
   ]
  },
  {
   "cell_type": "code",
   "execution_count": 12,
   "metadata": {
    "ExecuteTime": {
     "end_time": "2018-09-19T18:35:58.952483Z",
     "start_time": "2018-09-19T18:35:58.929232Z"
    }
   },
   "outputs": [],
   "source": [
    "url = 'https://gateway-wdc.watsonplatform.net/tone-analyzer/api'"
   ]
  },
  {
   "cell_type": "markdown",
   "metadata": {},
   "source": [
    "## Versioning"
   ]
  },
  {
   "cell_type": "markdown",
   "metadata": {},
   "source": [
    "API requests require a version parameter that takes a date in the format ```version=YYYY-MM-DD```. When IBM changes the API in a **backwards-incompatible** way, they release a new version date.\n",
    "\n",
    "Specify the version to use on API requests with the version parameter when you create the service instance. The service uses the API version for the date you specify, or the most recent version before that date. Don't default to the current date. Instead, specify a date that matches a version that is compatible with your app, and don't change it until your app is ready for a later version."
   ]
  },
  {
   "cell_type": "code",
   "execution_count": 13,
   "metadata": {
    "ExecuteTime": {
     "end_time": "2018-09-19T18:35:59.665805Z",
     "start_time": "2018-09-19T18:35:59.641822Z"
    }
   },
   "outputs": [],
   "source": [
    "version = '2017-09-21'"
   ]
  },
  {
   "cell_type": "markdown",
   "metadata": {},
   "source": [
    "## Data handling"
   ]
  },
  {
   "cell_type": "markdown",
   "metadata": {},
   "source": [
    "#### Data Collection\n",
    "By default, all Watson services log requests and their results. **Logging is done only to improve the services for future users. The logged data is not shared or made public.**\n",
    "\n",
    "To prevent IBM from accessing your data for general service improvements, set the ```X-Watson-Learning-Opt-Out``` header parameter to ```true``` when you create the service instance. (Any value other than false or 0 disables request logging.) You can set the header using the ```set_default_headers``` method of the service object."
   ]
  },
  {
   "cell_type": "code",
   "execution_count": 14,
   "metadata": {
    "ExecuteTime": {
     "end_time": "2018-09-19T18:36:00.414327Z",
     "start_time": "2018-09-19T18:36:00.390434Z"
    }
   },
   "outputs": [],
   "source": [
    "tone_analyzer.set_default_headers({'x-watson-learning-opt-out': \"true\"})"
   ]
  },
  {
   "cell_type": "markdown",
   "metadata": {},
   "source": [
    "## Methods"
   ]
  },
  {
   "cell_type": "markdown",
   "metadata": {},
   "source": [
    "#### Analyze general tone\n",
    "\n",
    "Use the general purpose endpoint to analyze the tone of your input content. **The service analyzes the content for emotional and language tones**. \n",
    "- The method always analyzes the tone of the **full document; by default**, it also analyzes the **tone of each individual sentence of the content**.\n",
    "\n",
    "You can submit no more than 128 KB of total input content and no more than 1000 individual sentences in JSON, plain text, or HTML format. The service analyzes the first 1000 sentences for document-level analysis and only the first 100 sentences for sentence-level analysis.\n",
    "\n",
    "Per the JSON specification, the default character encoding for JSON content is effectively always UTF-8; per the HTTP specification, the default encoding for plain text and HTML is ISO-8859-1 (effectively, the ASCII character set). When specifying a content type of plain text or HTML, include the charset parameter to indicate the character encoding of the input text; for example: Content-Type: text/plain;charset=utf-8. For text/html, the service removes HTML tags and analyzes only the textual content."
   ]
  },
  {
   "cell_type": "markdown",
   "metadata": {},
   "source": [
    "#### Request"
   ]
  },
  {
   "cell_type": "markdown",
   "metadata": {},
   "source": [
    "tone(self, tone_input, content_type, sentences=None, tones=None, content_language=None, accept_language=None, **kwargs)\n",
    "\n",
    "**ToneInput**:\n",
    "\n",
    "| Name        | Description     | \n",
    "| ------------- |:-------------:| \n",
    "| text (str):     | The input content that the service is to analyze. |\n",
    "\n"
   ]
  },
  {
   "cell_type": "code",
   "execution_count": 30,
   "metadata": {
    "ExecuteTime": {
     "end_time": "2018-09-19T18:37:50.474275Z",
     "start_time": "2018-09-19T18:37:49.793427Z"
    }
   },
   "outputs": [],
   "source": [
    "import json\n",
    "from watson_developer_cloud import ToneAnalyzerV3\n",
    "\n",
    "text = 'Team, I know that times are tough! Product '\\\n",
    "    'sales have been disappointing for the past three '\\\n",
    "    'quarters. We have a competitive product, but we '\\\n",
    "    'need to do a better job of selling it!'\n",
    "\n",
    "tone_analysis = tone_analyzer.tone(\n",
    "    {'text': text},\n",
    "    'application/json').get_result()\n",
    "j =(json.dumps(tone_analysis, indent=2))"
   ]
  },
  {
   "cell_type": "markdown",
   "metadata": {},
   "source": [
    "# Function to Distill the Overarching Document Tones Into a Pandas DF"
   ]
  },
  {
   "cell_type": "code",
   "execution_count": 16,
   "metadata": {
    "ExecuteTime": {
     "end_time": "2018-09-19T18:36:05.075567Z",
     "start_time": "2018-09-19T18:36:05.050270Z"
    }
   },
   "outputs": [],
   "source": [
    "def text_analysis_to_pd(tone_analysis):\n",
    "    return pd.DataFrame.from_dict(tone_analysis['document_tone']['tones'])"
   ]
  },
  {
   "cell_type": "markdown",
   "metadata": {},
   "source": [
    "#### example"
   ]
  },
  {
   "cell_type": "code",
   "execution_count": 20,
   "metadata": {
    "ExecuteTime": {
     "end_time": "2018-09-19T18:36:21.523579Z",
     "start_time": "2018-09-19T18:36:21.124257Z"
    }
   },
   "outputs": [
    {
     "data": {
      "text/html": [
       "<div>\n",
       "<style scoped>\n",
       "    .dataframe tbody tr th:only-of-type {\n",
       "        vertical-align: middle;\n",
       "    }\n",
       "\n",
       "    .dataframe tbody tr th {\n",
       "        vertical-align: top;\n",
       "    }\n",
       "\n",
       "    .dataframe thead th {\n",
       "        text-align: right;\n",
       "    }\n",
       "</style>\n",
       "<table border=\"1\" class=\"dataframe\">\n",
       "  <thead>\n",
       "    <tr style=\"text-align: right;\">\n",
       "      <th></th>\n",
       "      <th>score</th>\n",
       "      <th>tone_id</th>\n",
       "      <th>tone_name</th>\n",
       "    </tr>\n",
       "  </thead>\n",
       "  <tbody>\n",
       "    <tr>\n",
       "      <th>0</th>\n",
       "      <td>0.616500</td>\n",
       "      <td>sadness</td>\n",
       "      <td>Sadness</td>\n",
       "    </tr>\n",
       "    <tr>\n",
       "      <th>1</th>\n",
       "      <td>0.829888</td>\n",
       "      <td>analytical</td>\n",
       "      <td>Analytical</td>\n",
       "    </tr>\n",
       "  </tbody>\n",
       "</table>\n",
       "</div>"
      ],
      "text/plain": [
       "      score     tone_id   tone_name\n",
       "0  0.616500     sadness     Sadness\n",
       "1  0.829888  analytical  Analytical"
      ]
     },
     "execution_count": 20,
     "metadata": {},
     "output_type": "execute_result"
    }
   ],
   "source": [
    "text_analysis_to_pd(tone_analysis)"
   ]
  },
  {
   "cell_type": "markdown",
   "metadata": {},
   "source": [
    "# Functions to Distill the Sentence Tones Into a Pandas DF"
   ]
  },
  {
   "cell_type": "code",
   "execution_count": 23,
   "metadata": {
    "ExecuteTime": {
     "end_time": "2018-09-19T18:36:22.225459Z",
     "start_time": "2018-09-19T18:36:22.198074Z"
    }
   },
   "outputs": [],
   "source": [
    "def get_score(tones):\n",
    "    output = ''\n",
    "    for idx, score in enumerate(tones, 1):\n",
    "        output += f\"Score {idx}: {score['score']} \"\n",
    "    return output"
   ]
  },
  {
   "cell_type": "code",
   "execution_count": 24,
   "metadata": {
    "ExecuteTime": {
     "end_time": "2018-09-19T18:36:25.429971Z",
     "start_time": "2018-09-19T18:36:25.403693Z"
    }
   },
   "outputs": [],
   "source": [
    "def get_tone(tones):\n",
    "    output = ''\n",
    "    for idx, score in enumerate(tones, 1):\n",
    "        output += f\"Tone {idx}: {score['tone_name']} \"\n",
    "    return output"
   ]
  },
  {
   "cell_type": "code",
   "execution_count": 25,
   "metadata": {
    "ExecuteTime": {
     "end_time": "2018-09-19T18:36:26.131034Z",
     "start_time": "2018-09-19T18:36:26.102439Z"
    }
   },
   "outputs": [],
   "source": [
    "def text_to_doc_analysis(text):\n",
    "    tone_analysis = tone_analyzer.tone(\n",
    "    {'text': text},\n",
    "    'application/json').get_result()\n",
    "    return text_analysis_to_pd(tone_analysis)\n",
    "\n",
    "def text_to_sentence_analysis(text):\n",
    "    tone_analysis = tone_analyzer.tone(\n",
    "    {'text': text},\n",
    "    'application/json').get_result()\n",
    "    df = pd.DataFrame.from_dict(tone_analysis['sentences_tone'])\n",
    "    df['score'] = df['tones'].apply(get_score)\n",
    "    df['tone'] = df['tones'].apply(get_tone)\n",
    "    return df[['sentence_id', 'text', 'score', 'tone']]"
   ]
  },
  {
   "cell_type": "code",
   "execution_count": 21,
   "metadata": {
    "ExecuteTime": {
     "end_time": "2018-09-19T18:36:21.682494Z",
     "start_time": "2018-09-19T18:36:21.653267Z"
    }
   },
   "outputs": [],
   "source": [
    "df = pd.DataFrame.from_dict(tone_analysis['sentences_tone'])"
   ]
  },
  {
   "cell_type": "code",
   "execution_count": 26,
   "metadata": {
    "ExecuteTime": {
     "end_time": "2018-09-19T18:36:50.098722Z",
     "start_time": "2018-09-19T18:36:50.070707Z"
    }
   },
   "outputs": [],
   "source": [
    "df['score'] = df['tones'].apply(get_score)\n",
    "df['tone'] = df['tones'].apply(get_tone)"
   ]
  },
  {
   "cell_type": "markdown",
   "metadata": {},
   "source": [
    "# Sample Pipeline: MBA student's \"failure\" essay "
   ]
  },
  {
   "cell_type": "markdown",
   "metadata": {},
   "source": [
    "#### Student's Essay"
   ]
  },
  {
   "cell_type": "code",
   "execution_count": 98,
   "metadata": {
    "ExecuteTime": {
     "end_time": "2018-09-19T19:36:44.671615Z",
     "start_time": "2018-09-19T19:36:44.636731Z"
    }
   },
   "outputs": [],
   "source": [
    "t = \"\"\" In my 2nd year in university, my 2 study partners and I were all working for software companies. We frequently discussed ways to make quantum career leaps. One that fascinated us was starting our own company.\n",
    "\n",
    "One day we came up with an idea that would increase sales for consumer goods retailers and simultaneously decrease monthly consumer expenses. Each day, we polished our idea together for a couple hours.\n",
    "\n",
    "After 2 weeks, I decided to get outside feedback. I looked for people who had at least 10 years experience in consumer goods. Finally, I convinced a friend, to connect me with a board member of the 2nd largest consumer goods retailer in my country.\n",
    "\n",
    "I presented our business model to the board member, and he instructed his right-hand to set us meetings with managers who could evaluate our plans. Over the next month, we went to one meeting after another. The responses varied from enthusiasm to skepticism. Each time, we improved our presentation according to the feedback.\n",
    "\n",
    "Finally, I managed to set a meeting with the previous CEO of the largest consumer goods retailer. He concluded our meeting with: “Guys, in my opinion, it’s not going to work”.\n",
    "\n",
    "I couldn’t say if it was the pressure from school and work or the CEO’s negative feedback, but since that meeting, I wasn’t able to motivate the team to go on. We consciously gave up. 2 years later, one of my teammates called out of the blue: “check out this link…it works!”. I think he expected me to feel disappointment. Actually, I felt pride – my first business attempt was viable after all.\"\"\""
   ]
  },
  {
   "cell_type": "markdown",
   "metadata": {},
   "source": [
    "#### Overarching Document Tones"
   ]
  },
  {
   "cell_type": "code",
   "execution_count": 28,
   "metadata": {
    "ExecuteTime": {
     "end_time": "2018-09-19T18:36:53.842217Z",
     "start_time": "2018-09-19T18:36:52.933801Z"
    }
   },
   "outputs": [
    {
     "data": {
      "text/html": [
       "<div>\n",
       "<style scoped>\n",
       "    .dataframe tbody tr th:only-of-type {\n",
       "        vertical-align: middle;\n",
       "    }\n",
       "\n",
       "    .dataframe tbody tr th {\n",
       "        vertical-align: top;\n",
       "    }\n",
       "\n",
       "    .dataframe thead th {\n",
       "        text-align: right;\n",
       "    }\n",
       "</style>\n",
       "<table border=\"1\" class=\"dataframe\">\n",
       "  <thead>\n",
       "    <tr style=\"text-align: right;\">\n",
       "      <th></th>\n",
       "      <th>score</th>\n",
       "      <th>tone_id</th>\n",
       "      <th>tone_name</th>\n",
       "    </tr>\n",
       "  </thead>\n",
       "  <tbody>\n",
       "    <tr>\n",
       "      <th>0</th>\n",
       "      <td>0.605044</td>\n",
       "      <td>joy</td>\n",
       "      <td>Joy</td>\n",
       "    </tr>\n",
       "    <tr>\n",
       "      <th>1</th>\n",
       "      <td>0.507810</td>\n",
       "      <td>sadness</td>\n",
       "      <td>Sadness</td>\n",
       "    </tr>\n",
       "    <tr>\n",
       "      <th>2</th>\n",
       "      <td>0.858529</td>\n",
       "      <td>analytical</td>\n",
       "      <td>Analytical</td>\n",
       "    </tr>\n",
       "  </tbody>\n",
       "</table>\n",
       "</div>"
      ],
      "text/plain": [
       "      score     tone_id   tone_name\n",
       "0  0.605044         joy         Joy\n",
       "1  0.507810     sadness     Sadness\n",
       "2  0.858529  analytical  Analytical"
      ]
     },
     "execution_count": 28,
     "metadata": {},
     "output_type": "execute_result"
    }
   ],
   "source": [
    "text_to_doc_analysis(t)"
   ]
  },
  {
   "cell_type": "markdown",
   "metadata": {},
   "source": [
    "#### Sentence Tones"
   ]
  },
  {
   "cell_type": "code",
   "execution_count": 99,
   "metadata": {
    "ExecuteTime": {
     "end_time": "2018-09-19T19:36:54.899925Z",
     "start_time": "2018-09-19T19:36:49.767450Z"
    }
   },
   "outputs": [
    {
     "data": {
      "text/html": [
       "<div>\n",
       "<style scoped>\n",
       "    .dataframe tbody tr th:only-of-type {\n",
       "        vertical-align: middle;\n",
       "    }\n",
       "\n",
       "    .dataframe tbody tr th {\n",
       "        vertical-align: top;\n",
       "    }\n",
       "\n",
       "    .dataframe thead th {\n",
       "        text-align: right;\n",
       "    }\n",
       "</style>\n",
       "<table border=\"1\" class=\"dataframe\">\n",
       "  <thead>\n",
       "    <tr style=\"text-align: right;\">\n",
       "      <th></th>\n",
       "      <th>sentence_id</th>\n",
       "      <th>text</th>\n",
       "      <th>score</th>\n",
       "      <th>tone</th>\n",
       "    </tr>\n",
       "  </thead>\n",
       "  <tbody>\n",
       "    <tr>\n",
       "      <th>0</th>\n",
       "      <td>0</td>\n",
       "      <td>In my 2nd year in university, my 2 study partn...</td>\n",
       "      <td>Score 1: 0.559715 Score 2: 0.660207</td>\n",
       "      <td>Tone 1: Sadness Tone 2: Confident</td>\n",
       "    </tr>\n",
       "    <tr>\n",
       "      <th>1</th>\n",
       "      <td>1</td>\n",
       "      <td>We frequently discussed ways to make quantum c...</td>\n",
       "      <td></td>\n",
       "      <td></td>\n",
       "    </tr>\n",
       "    <tr>\n",
       "      <th>2</th>\n",
       "      <td>2</td>\n",
       "      <td>One that fascinated us was starting our own co...</td>\n",
       "      <td></td>\n",
       "      <td></td>\n",
       "    </tr>\n",
       "    <tr>\n",
       "      <th>3</th>\n",
       "      <td>3</td>\n",
       "      <td>One day we came up with an idea that would inc...</td>\n",
       "      <td>Score 1: 0.541591</td>\n",
       "      <td>Tone 1: Analytical</td>\n",
       "    </tr>\n",
       "    <tr>\n",
       "      <th>4</th>\n",
       "      <td>4</td>\n",
       "      <td>Each day, we polished our idea together for a ...</td>\n",
       "      <td>Score 1: 0.684799</td>\n",
       "      <td>Tone 1: Joy</td>\n",
       "    </tr>\n",
       "    <tr>\n",
       "      <th>5</th>\n",
       "      <td>5</td>\n",
       "      <td>After 2 weeks, I decided to get outside feedback.</td>\n",
       "      <td>Score 1: 0.901894 Score 2: 0.874372</td>\n",
       "      <td>Tone 1: Analytical Tone 2: Confident</td>\n",
       "    </tr>\n",
       "    <tr>\n",
       "      <th>6</th>\n",
       "      <td>6</td>\n",
       "      <td>I looked for people who had at least 10 years ...</td>\n",
       "      <td>Score 1: 0.508012</td>\n",
       "      <td>Tone 1: Joy</td>\n",
       "    </tr>\n",
       "    <tr>\n",
       "      <th>7</th>\n",
       "      <td>7</td>\n",
       "      <td>Finally, I convinced a friend, to connect me w...</td>\n",
       "      <td>Score 1: 0.772407 Score 2: 0.579367</td>\n",
       "      <td>Tone 1: Joy Tone 2: Analytical</td>\n",
       "    </tr>\n",
       "    <tr>\n",
       "      <th>8</th>\n",
       "      <td>8</td>\n",
       "      <td>I presented our business model to the board me...</td>\n",
       "      <td>Score 1: 0.503542</td>\n",
       "      <td>Tone 1: Analytical</td>\n",
       "    </tr>\n",
       "    <tr>\n",
       "      <th>9</th>\n",
       "      <td>9</td>\n",
       "      <td>Over the next month, we went to one meeting af...</td>\n",
       "      <td></td>\n",
       "      <td></td>\n",
       "    </tr>\n",
       "    <tr>\n",
       "      <th>10</th>\n",
       "      <td>10</td>\n",
       "      <td>The responses varied from enthusiasm to skepti...</td>\n",
       "      <td>Score 1: 0.801827</td>\n",
       "      <td>Tone 1: Analytical</td>\n",
       "    </tr>\n",
       "    <tr>\n",
       "      <th>11</th>\n",
       "      <td>11</td>\n",
       "      <td>Each time, we improved our presentation accord...</td>\n",
       "      <td>Score 1: 0.955445</td>\n",
       "      <td>Tone 1: Analytical</td>\n",
       "    </tr>\n",
       "    <tr>\n",
       "      <th>12</th>\n",
       "      <td>12</td>\n",
       "      <td>Finally, I managed to set a meeting with the p...</td>\n",
       "      <td>Score 1: 0.750001</td>\n",
       "      <td>Tone 1: Joy</td>\n",
       "    </tr>\n",
       "    <tr>\n",
       "      <th>13</th>\n",
       "      <td>13</td>\n",
       "      <td>He concluded our meeting with: “Guys, in my op...</td>\n",
       "      <td>Score 1: 0.88939</td>\n",
       "      <td>Tone 1: Tentative</td>\n",
       "    </tr>\n",
       "    <tr>\n",
       "      <th>14</th>\n",
       "      <td>14</td>\n",
       "      <td>I couldn’t say if it was the pressure from sch...</td>\n",
       "      <td>Score 1: 0.516224 Score 2: 0.519491</td>\n",
       "      <td>Tone 1: Sadness Tone 2: Analytical</td>\n",
       "    </tr>\n",
       "    <tr>\n",
       "      <th>15</th>\n",
       "      <td>15</td>\n",
       "      <td>We consciously gave up. 2 years later, one of ...</td>\n",
       "      <td>Score 1: 0.96251</td>\n",
       "      <td>Tone 1: Analytical</td>\n",
       "    </tr>\n",
       "    <tr>\n",
       "      <th>16</th>\n",
       "      <td>16</td>\n",
       "      <td>I think he expected me to feel disappointment.</td>\n",
       "      <td>Score 1: 0.67107 Score 2: 0.920855 Score 3: 0....</td>\n",
       "      <td>Tone 1: Sadness Tone 2: Analytical Tone 3: Ten...</td>\n",
       "    </tr>\n",
       "    <tr>\n",
       "      <th>17</th>\n",
       "      <td>17</td>\n",
       "      <td>Actually, I felt pride – my first business att...</td>\n",
       "      <td>Score 1: 0.588658 Score 2: 0.950868</td>\n",
       "      <td>Tone 1: Joy Tone 2: Analytical</td>\n",
       "    </tr>\n",
       "  </tbody>\n",
       "</table>\n",
       "</div>"
      ],
      "text/plain": [
       "    sentence_id                                               text  \\\n",
       "0             0  In my 2nd year in university, my 2 study partn...   \n",
       "1             1  We frequently discussed ways to make quantum c...   \n",
       "2             2  One that fascinated us was starting our own co...   \n",
       "3             3  One day we came up with an idea that would inc...   \n",
       "4             4  Each day, we polished our idea together for a ...   \n",
       "5             5  After 2 weeks, I decided to get outside feedback.   \n",
       "6             6  I looked for people who had at least 10 years ...   \n",
       "7             7  Finally, I convinced a friend, to connect me w...   \n",
       "8             8  I presented our business model to the board me...   \n",
       "9             9  Over the next month, we went to one meeting af...   \n",
       "10           10  The responses varied from enthusiasm to skepti...   \n",
       "11           11  Each time, we improved our presentation accord...   \n",
       "12           12  Finally, I managed to set a meeting with the p...   \n",
       "13           13  He concluded our meeting with: “Guys, in my op...   \n",
       "14           14  I couldn’t say if it was the pressure from sch...   \n",
       "15           15  We consciously gave up. 2 years later, one of ...   \n",
       "16           16     I think he expected me to feel disappointment.   \n",
       "17           17  Actually, I felt pride – my first business att...   \n",
       "\n",
       "                                                score  \\\n",
       "0                Score 1: 0.559715 Score 2: 0.660207    \n",
       "1                                                       \n",
       "2                                                       \n",
       "3                                  Score 1: 0.541591    \n",
       "4                                  Score 1: 0.684799    \n",
       "5                Score 1: 0.901894 Score 2: 0.874372    \n",
       "6                                  Score 1: 0.508012    \n",
       "7                Score 1: 0.772407 Score 2: 0.579367    \n",
       "8                                  Score 1: 0.503542    \n",
       "9                                                       \n",
       "10                                 Score 1: 0.801827    \n",
       "11                                 Score 1: 0.955445    \n",
       "12                                 Score 1: 0.750001    \n",
       "13                                  Score 1: 0.88939    \n",
       "14               Score 1: 0.516224 Score 2: 0.519491    \n",
       "15                                  Score 1: 0.96251    \n",
       "16  Score 1: 0.67107 Score 2: 0.920855 Score 3: 0....   \n",
       "17               Score 1: 0.588658 Score 2: 0.950868    \n",
       "\n",
       "                                                 tone  \n",
       "0                  Tone 1: Sadness Tone 2: Confident   \n",
       "1                                                      \n",
       "2                                                      \n",
       "3                                 Tone 1: Analytical   \n",
       "4                                        Tone 1: Joy   \n",
       "5               Tone 1: Analytical Tone 2: Confident   \n",
       "6                                        Tone 1: Joy   \n",
       "7                     Tone 1: Joy Tone 2: Analytical   \n",
       "8                                 Tone 1: Analytical   \n",
       "9                                                      \n",
       "10                                Tone 1: Analytical   \n",
       "11                                Tone 1: Analytical   \n",
       "12                                       Tone 1: Joy   \n",
       "13                                 Tone 1: Tentative   \n",
       "14                Tone 1: Sadness Tone 2: Analytical   \n",
       "15                                Tone 1: Analytical   \n",
       "16  Tone 1: Sadness Tone 2: Analytical Tone 3: Ten...  \n",
       "17                    Tone 1: Joy Tone 2: Analytical   "
      ]
     },
     "execution_count": 99,
     "metadata": {},
     "output_type": "execute_result"
    }
   ],
   "source": [
    "text_to_sentence_analysis(t)"
   ]
  },
  {
   "cell_type": "code",
   "execution_count": 100,
   "metadata": {
    "ExecuteTime": {
     "end_time": "2018-09-19T19:37:00.001225Z",
     "start_time": "2018-09-19T19:36:59.230751Z"
    }
   },
   "outputs": [],
   "source": [
    "tone_analysis = tone_analyzer.tone(\n",
    "    {'text': t},\n",
    "    'application/json').get_result()"
   ]
  },
  {
   "cell_type": "code",
   "execution_count": 101,
   "metadata": {
    "ExecuteTime": {
     "end_time": "2018-09-19T19:37:00.036073Z",
     "start_time": "2018-09-19T19:37:00.004725Z"
    }
   },
   "outputs": [
    {
     "data": {
      "text/plain": [
       "[{'score': 0.559715, 'tone_id': 'sadness', 'tone_name': 'Sadness'},\n",
       " {'score': 0.660207, 'tone_id': 'confident', 'tone_name': 'Confident'}]"
      ]
     },
     "execution_count": 101,
     "metadata": {},
     "output_type": "execute_result"
    }
   ],
   "source": [
    "tone_analysis['sentences_tone'][0]['tones']"
   ]
  },
  {
   "cell_type": "code",
   "execution_count": 102,
   "metadata": {
    "ExecuteTime": {
     "end_time": "2018-09-19T19:37:01.144691Z",
     "start_time": "2018-09-19T19:37:01.119798Z"
    }
   },
   "outputs": [],
   "source": [
    "def find_sentence_tone(tone_analysis, tone):\n",
    "    for d in tone_analysis['sentences_tone']:\n",
    "        if len(d['tones']) > 0:\n",
    "            for sent in d['tones']:\n",
    "                if sent['tone_name'] == tone:\n",
    "                    print(sent['score'])\n",
    "                else:\n",
    "                    print(f'This sentence was not {tone}')\n",
    "        else:\n",
    "            print(f'This sentence was not {tone}')"
   ]
  },
  {
   "cell_type": "code",
   "execution_count": 155,
   "metadata": {
    "ExecuteTime": {
     "end_time": "2018-09-19T20:00:30.131131Z",
     "start_time": "2018-09-19T20:00:30.051341Z"
    }
   },
   "outputs": [],
   "source": [
    "def find_sentence_tone(tone_analysis, tone):\n",
    "    for d in tone_analysis['sentences_tone']:\n",
    "        if len(d['tones']) > 0:\n",
    "            for sent in d['tones']:\n",
    "                if sent['tone_name'] == tone:\n",
    "                    sentence = d['text']\n",
    "                    score = sent['score']\n",
    "                    level = label_score(sent['score'])\n",
    "                    color = add_color(label_score(sent['score']), tone)\n",
    "                    yield {\n",
    "                        'sentence' : sentence,\n",
    "                        'score' : score,\n",
    "                        'level' : level,\n",
    "                        'color' : color\n",
    "                           }\n",
    "                else:\n",
    "                    sentence = d['text']\n",
    "                    level = 'Zero'\n",
    "                    yield {\n",
    "                        'sentence' : sentence,\n",
    "                        'score' : 0,\n",
    "                        'level' : 'Zero',\n",
    "                        'color' : add_color('Zero', tone)\n",
    "                           }\n",
    "        else:\n",
    "            sentence = d['text']\n",
    "            yield {\n",
    "                   'sentence' : sentence,\n",
    "                   'score' : 0,\n",
    "                   'level' : 'Zero',\n",
    "                   'color' : add_color('Zero', tone)\n",
    "                    }"
   ]
  },
  {
   "cell_type": "code",
   "execution_count": 187,
   "metadata": {
    "ExecuteTime": {
     "end_time": "2018-09-19T20:23:49.060299Z",
     "start_time": "2018-09-19T20:23:48.939182Z"
    }
   },
   "outputs": [],
   "source": [
    "def label_score(score):\n",
    "    if score < .5:\n",
    "        return 'Zero'\n",
    "    elif .5 <= score <= .75:\n",
    "        return 'Mid'\n",
    "    else:\n",
    "        return 'High'\n",
    "\n",
    "def add_color(level, tone):\n",
    "    if tone == 'Analytical':\n",
    "        if level == 'Zero':\n",
    "            return '#21252900'\n",
    "        elif level == 'Mid':\n",
    "            return '#afd5fd'\n",
    "        else:\n",
    "            return '#6eaff1'\n",
    "    if tone == 'Joy':\n",
    "        if level == 'Zero':\n",
    "            return '#21252900'\n",
    "        elif level == 'Mid':\n",
    "            return '#fffd9d'\n",
    "        else:\n",
    "            return '#f7f338'\n",
    "    if tone == 'Sadness':\n",
    "        if level == 'Zero':\n",
    "            return '#21252900'\n",
    "        elif level == 'Mid':\n",
    "            return '#eaebec'\n",
    "        else:\n",
    "            return '#cacaca'\n",
    "    if tone == 'Anger':\n",
    "            if level == 'Zero':\n",
    "                return '#21252900'\n",
    "            elif level == 'Mid':\n",
    "                return '#f3c9c9'\n",
    "            else:\n",
    "                return '#e28d8d'\n",
    "    if tone == 'Tentative':\n",
    "            if level == 'Zero':\n",
    "                return '#21252900'\n",
    "            elif level == 'Mid':\n",
    "                return '#e5cdf1'\n",
    "            else:\n",
    "                return '#cc97e6'\n",
    "    if tone == 'Confident':\n",
    "            if level == 'Zero':\n",
    "                return '#21252900'\n",
    "            elif level == 'Mid':\n",
    "                return '#bcf5c9'\n",
    "            else:\n",
    "                return '#44e268'\n",
    "    if tone == 'Fear':\n",
    "            if level == 'Zero':\n",
    "                return '#21252900'\n",
    "            elif level == 'Mid':\n",
    "                return '#f3dee7'\n",
    "            else:\n",
    "                return '#f1a6c6'"
   ]
  },
  {
   "cell_type": "code",
   "execution_count": 191,
   "metadata": {
    "ExecuteTime": {
     "end_time": "2018-09-19T20:29:48.724521Z",
     "start_time": "2018-09-19T20:29:48.577147Z"
    }
   },
   "outputs": [],
   "source": [
    "analytical_df = pd.DataFrame(list(find_sentence_tone(tone_analysis, 'Analytical')))"
   ]
  },
  {
   "cell_type": "code",
   "execution_count": 192,
   "metadata": {
    "ExecuteTime": {
     "end_time": "2018-09-19T20:29:49.082128Z",
     "start_time": "2018-09-19T20:29:49.049058Z"
    }
   },
   "outputs": [],
   "source": [
    "analytical_df.to_pickle(\"analytical.pkl\")"
   ]
  },
  {
   "cell_type": "code",
   "execution_count": 190,
   "metadata": {
    "ExecuteTime": {
     "end_time": "2018-09-19T20:23:55.228548Z",
     "start_time": "2018-09-19T20:23:55.195660Z"
    }
   },
   "outputs": [
    {
     "name": "stdout",
     "output_type": "stream",
     "text": [
      "#21252900\n",
      "#21252900\n",
      "#21252900\n",
      "#21252900\n",
      "#21252900\n",
      "#21252900\n",
      "#21252900\n",
      "#21252900\n",
      "#21252900\n",
      "#21252900\n",
      "#21252900\n",
      "#21252900\n",
      "#21252900\n",
      "#21252900\n",
      "#21252900\n",
      "#21252900\n",
      "#21252900\n",
      "#21252900\n",
      "#21252900\n",
      "#21252900\n",
      "#21252900\n",
      "#21252900\n",
      "#21252900\n",
      "#21252900\n",
      "#21252900\n"
     ]
    }
   ],
   "source": [
    "for i, d in analytical_df.iterrows():\n",
    "    print(d['color'])"
   ]
  },
  {
   "cell_type": "code",
   "execution_count": 186,
   "metadata": {
    "ExecuteTime": {
     "end_time": "2018-09-19T20:17:56.860863Z",
     "start_time": "2018-09-19T20:17:56.816083Z"
    }
   },
   "outputs": [
    {
     "data": {
      "text/html": [
       "<div>\n",
       "<style scoped>\n",
       "    .dataframe tbody tr th:only-of-type {\n",
       "        vertical-align: middle;\n",
       "    }\n",
       "\n",
       "    .dataframe tbody tr th {\n",
       "        vertical-align: top;\n",
       "    }\n",
       "\n",
       "    .dataframe thead th {\n",
       "        text-align: right;\n",
       "    }\n",
       "</style>\n",
       "<table border=\"1\" class=\"dataframe\">\n",
       "  <thead>\n",
       "    <tr style=\"text-align: right;\">\n",
       "      <th></th>\n",
       "      <th>color</th>\n",
       "      <th>level</th>\n",
       "      <th>score</th>\n",
       "      <th>sentence</th>\n",
       "    </tr>\n",
       "  </thead>\n",
       "  <tbody>\n",
       "    <tr>\n",
       "      <th>0</th>\n",
       "      <td>#eaebec</td>\n",
       "      <td>Mid</td>\n",
       "      <td>0.559715</td>\n",
       "      <td>In my 2nd year in university, my 2 study partn...</td>\n",
       "    </tr>\n",
       "    <tr>\n",
       "      <th>1</th>\n",
       "      <td>#21252900</td>\n",
       "      <td>Zero</td>\n",
       "      <td>0.000000</td>\n",
       "      <td>In my 2nd year in university, my 2 study partn...</td>\n",
       "    </tr>\n",
       "    <tr>\n",
       "      <th>2</th>\n",
       "      <td>#21252900</td>\n",
       "      <td>Zero</td>\n",
       "      <td>0.000000</td>\n",
       "      <td>We frequently discussed ways to make quantum c...</td>\n",
       "    </tr>\n",
       "    <tr>\n",
       "      <th>3</th>\n",
       "      <td>#21252900</td>\n",
       "      <td>Zero</td>\n",
       "      <td>0.000000</td>\n",
       "      <td>One that fascinated us was starting our own co...</td>\n",
       "    </tr>\n",
       "    <tr>\n",
       "      <th>4</th>\n",
       "      <td>#21252900</td>\n",
       "      <td>Zero</td>\n",
       "      <td>0.000000</td>\n",
       "      <td>One day we came up with an idea that would inc...</td>\n",
       "    </tr>\n",
       "    <tr>\n",
       "      <th>5</th>\n",
       "      <td>#21252900</td>\n",
       "      <td>Zero</td>\n",
       "      <td>0.000000</td>\n",
       "      <td>Each day, we polished our idea together for a ...</td>\n",
       "    </tr>\n",
       "    <tr>\n",
       "      <th>6</th>\n",
       "      <td>#21252900</td>\n",
       "      <td>Zero</td>\n",
       "      <td>0.000000</td>\n",
       "      <td>After 2 weeks, I decided to get outside feedback.</td>\n",
       "    </tr>\n",
       "    <tr>\n",
       "      <th>7</th>\n",
       "      <td>#21252900</td>\n",
       "      <td>Zero</td>\n",
       "      <td>0.000000</td>\n",
       "      <td>After 2 weeks, I decided to get outside feedback.</td>\n",
       "    </tr>\n",
       "    <tr>\n",
       "      <th>8</th>\n",
       "      <td>#21252900</td>\n",
       "      <td>Zero</td>\n",
       "      <td>0.000000</td>\n",
       "      <td>I looked for people who had at least 10 years ...</td>\n",
       "    </tr>\n",
       "    <tr>\n",
       "      <th>9</th>\n",
       "      <td>#21252900</td>\n",
       "      <td>Zero</td>\n",
       "      <td>0.000000</td>\n",
       "      <td>Finally, I convinced a friend, to connect me w...</td>\n",
       "    </tr>\n",
       "    <tr>\n",
       "      <th>10</th>\n",
       "      <td>#21252900</td>\n",
       "      <td>Zero</td>\n",
       "      <td>0.000000</td>\n",
       "      <td>Finally, I convinced a friend, to connect me w...</td>\n",
       "    </tr>\n",
       "    <tr>\n",
       "      <th>11</th>\n",
       "      <td>#21252900</td>\n",
       "      <td>Zero</td>\n",
       "      <td>0.000000</td>\n",
       "      <td>I presented our business model to the board me...</td>\n",
       "    </tr>\n",
       "    <tr>\n",
       "      <th>12</th>\n",
       "      <td>#21252900</td>\n",
       "      <td>Zero</td>\n",
       "      <td>0.000000</td>\n",
       "      <td>Over the next month, we went to one meeting af...</td>\n",
       "    </tr>\n",
       "    <tr>\n",
       "      <th>13</th>\n",
       "      <td>#21252900</td>\n",
       "      <td>Zero</td>\n",
       "      <td>0.000000</td>\n",
       "      <td>The responses varied from enthusiasm to skepti...</td>\n",
       "    </tr>\n",
       "    <tr>\n",
       "      <th>14</th>\n",
       "      <td>#21252900</td>\n",
       "      <td>Zero</td>\n",
       "      <td>0.000000</td>\n",
       "      <td>Each time, we improved our presentation accord...</td>\n",
       "    </tr>\n",
       "    <tr>\n",
       "      <th>15</th>\n",
       "      <td>#21252900</td>\n",
       "      <td>Zero</td>\n",
       "      <td>0.000000</td>\n",
       "      <td>Finally, I managed to set a meeting with the p...</td>\n",
       "    </tr>\n",
       "    <tr>\n",
       "      <th>16</th>\n",
       "      <td>#21252900</td>\n",
       "      <td>Zero</td>\n",
       "      <td>0.000000</td>\n",
       "      <td>He concluded our meeting with: “Guys, in my op...</td>\n",
       "    </tr>\n",
       "    <tr>\n",
       "      <th>17</th>\n",
       "      <td>#eaebec</td>\n",
       "      <td>Mid</td>\n",
       "      <td>0.516224</td>\n",
       "      <td>I couldn’t say if it was the pressure from sch...</td>\n",
       "    </tr>\n",
       "    <tr>\n",
       "      <th>18</th>\n",
       "      <td>#21252900</td>\n",
       "      <td>Zero</td>\n",
       "      <td>0.000000</td>\n",
       "      <td>I couldn’t say if it was the pressure from sch...</td>\n",
       "    </tr>\n",
       "    <tr>\n",
       "      <th>19</th>\n",
       "      <td>#21252900</td>\n",
       "      <td>Zero</td>\n",
       "      <td>0.000000</td>\n",
       "      <td>We consciously gave up. 2 years later, one of ...</td>\n",
       "    </tr>\n",
       "    <tr>\n",
       "      <th>20</th>\n",
       "      <td>#eaebec</td>\n",
       "      <td>Mid</td>\n",
       "      <td>0.671070</td>\n",
       "      <td>I think he expected me to feel disappointment.</td>\n",
       "    </tr>\n",
       "    <tr>\n",
       "      <th>21</th>\n",
       "      <td>#21252900</td>\n",
       "      <td>Zero</td>\n",
       "      <td>0.000000</td>\n",
       "      <td>I think he expected me to feel disappointment.</td>\n",
       "    </tr>\n",
       "    <tr>\n",
       "      <th>22</th>\n",
       "      <td>#21252900</td>\n",
       "      <td>Zero</td>\n",
       "      <td>0.000000</td>\n",
       "      <td>I think he expected me to feel disappointment.</td>\n",
       "    </tr>\n",
       "    <tr>\n",
       "      <th>23</th>\n",
       "      <td>#21252900</td>\n",
       "      <td>Zero</td>\n",
       "      <td>0.000000</td>\n",
       "      <td>Actually, I felt pride – my first business att...</td>\n",
       "    </tr>\n",
       "    <tr>\n",
       "      <th>24</th>\n",
       "      <td>#21252900</td>\n",
       "      <td>Zero</td>\n",
       "      <td>0.000000</td>\n",
       "      <td>Actually, I felt pride – my first business att...</td>\n",
       "    </tr>\n",
       "  </tbody>\n",
       "</table>\n",
       "</div>"
      ],
      "text/plain": [
       "        color level     score  \\\n",
       "0     #eaebec   Mid  0.559715   \n",
       "1   #21252900  Zero  0.000000   \n",
       "2   #21252900  Zero  0.000000   \n",
       "3   #21252900  Zero  0.000000   \n",
       "4   #21252900  Zero  0.000000   \n",
       "5   #21252900  Zero  0.000000   \n",
       "6   #21252900  Zero  0.000000   \n",
       "7   #21252900  Zero  0.000000   \n",
       "8   #21252900  Zero  0.000000   \n",
       "9   #21252900  Zero  0.000000   \n",
       "10  #21252900  Zero  0.000000   \n",
       "11  #21252900  Zero  0.000000   \n",
       "12  #21252900  Zero  0.000000   \n",
       "13  #21252900  Zero  0.000000   \n",
       "14  #21252900  Zero  0.000000   \n",
       "15  #21252900  Zero  0.000000   \n",
       "16  #21252900  Zero  0.000000   \n",
       "17    #eaebec   Mid  0.516224   \n",
       "18  #21252900  Zero  0.000000   \n",
       "19  #21252900  Zero  0.000000   \n",
       "20    #eaebec   Mid  0.671070   \n",
       "21  #21252900  Zero  0.000000   \n",
       "22  #21252900  Zero  0.000000   \n",
       "23  #21252900  Zero  0.000000   \n",
       "24  #21252900  Zero  0.000000   \n",
       "\n",
       "                                             sentence  \n",
       "0   In my 2nd year in university, my 2 study partn...  \n",
       "1   In my 2nd year in university, my 2 study partn...  \n",
       "2   We frequently discussed ways to make quantum c...  \n",
       "3   One that fascinated us was starting our own co...  \n",
       "4   One day we came up with an idea that would inc...  \n",
       "5   Each day, we polished our idea together for a ...  \n",
       "6   After 2 weeks, I decided to get outside feedback.  \n",
       "7   After 2 weeks, I decided to get outside feedback.  \n",
       "8   I looked for people who had at least 10 years ...  \n",
       "9   Finally, I convinced a friend, to connect me w...  \n",
       "10  Finally, I convinced a friend, to connect me w...  \n",
       "11  I presented our business model to the board me...  \n",
       "12  Over the next month, we went to one meeting af...  \n",
       "13  The responses varied from enthusiasm to skepti...  \n",
       "14  Each time, we improved our presentation accord...  \n",
       "15  Finally, I managed to set a meeting with the p...  \n",
       "16  He concluded our meeting with: “Guys, in my op...  \n",
       "17  I couldn’t say if it was the pressure from sch...  \n",
       "18  I couldn’t say if it was the pressure from sch...  \n",
       "19  We consciously gave up. 2 years later, one of ...  \n",
       "20     I think he expected me to feel disappointment.  \n",
       "21     I think he expected me to feel disappointment.  \n",
       "22     I think he expected me to feel disappointment.  \n",
       "23  Actually, I felt pride – my first business att...  \n",
       "24  Actually, I felt pride – my first business att...  "
      ]
     },
     "execution_count": 186,
     "metadata": {},
     "output_type": "execute_result"
    }
   ],
   "source": [
    "analytical_df"
   ]
  },
  {
   "cell_type": "code",
   "execution_count": null,
   "metadata": {},
   "outputs": [],
   "source": []
  }
 ],
 "metadata": {
  "kernelspec": {
   "display_name": "Python 3",
   "language": "python",
   "name": "python3"
  },
  "language_info": {
   "codemirror_mode": {
    "name": "ipython",
    "version": 3
   },
   "file_extension": ".py",
   "mimetype": "text/x-python",
   "name": "python",
   "nbconvert_exporter": "python",
   "pygments_lexer": "ipython3",
   "version": "3.6.5"
  }
 },
 "nbformat": 4,
 "nbformat_minor": 2
}

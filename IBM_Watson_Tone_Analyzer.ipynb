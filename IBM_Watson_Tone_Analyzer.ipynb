{
 "cells": [
  {
   "cell_type": "code",
   "execution_count": 19,
   "metadata": {
    "ExecuteTime": {
     "end_time": "2018-09-19T18:36:15.207598Z",
     "start_time": "2018-09-19T18:36:15.185728Z"
    }
   },
   "outputs": [],
   "source": [
    "from hidden import IBM_tone_analyzer_api\n",
    "import pandas as pd"
   ]
  },
  {
   "cell_type": "markdown",
   "metadata": {
    "ExecuteTime": {
     "end_time": "2018-09-15T15:08:48.232585Z",
     "start_time": "2018-09-15T15:08:47.927595Z"
    }
   },
   "source": [
    "# IBM Watson Tone Analyzer\n",
    "\n",
    "To read these notes directly from IBM, please visit this website: https://www.ibm.com/watson/developercloud/tone-analyzer/api/v3/python.html?python#error-handling. Otherwise, most of the notes seen bellow have been taken directly from the website above and placed here to aid the reader.\n",
    "\n",
    "The IBM Watson Tone Analyzer service uses linguistic analysis to detect emotional and language tones in written text. The service can analyze tone at both the **document** and **sentence levels**."
   ]
  },
  {
   "cell_type": "markdown",
   "metadata": {},
   "source": [
    "## Authentication"
   ]
  },
  {
   "cell_type": "markdown",
   "metadata": {
    "ExecuteTime": {
     "end_time": "2018-09-15T15:09:06.778844Z",
     "start_time": "2018-09-15T15:09:06.754257Z"
    }
   },
   "source": [
    "IBM Cloud is migrating to token-based Identity and Access Management (IAM) authentication. With some service instances, you authenticate to the API by using IAM. You can pass either a bearer token in an Authorization header or an API key. If you pass in the API key, the SDK manages the lifecycle of the tokens."
   ]
  },
  {
   "cell_type": "code",
   "execution_count": 8,
   "metadata": {
    "ExecuteTime": {
     "end_time": "2018-09-19T18:35:48.302084Z",
     "start_time": "2018-09-19T18:35:47.819475Z"
    }
   },
   "outputs": [],
   "source": [
    "from watson_developer_cloud import ToneAnalyzerV3"
   ]
  },
  {
   "cell_type": "code",
   "execution_count": 11,
   "metadata": {
    "ExecuteTime": {
     "end_time": "2018-09-19T18:35:57.945106Z",
     "start_time": "2018-09-19T18:35:57.920261Z"
    }
   },
   "outputs": [],
   "source": [
    "tone_analyzer = ToneAnalyzerV3(\n",
    "    version = '2017-09-21',\n",
    "    iam_apikey = IBM_tone_analyzer_api,\n",
    "    url = 'https://gateway-wdc.watsonplatform.net/tone-analyzer/api'\n",
    ")"
   ]
  },
  {
   "cell_type": "markdown",
   "metadata": {},
   "source": [
    "## Service endpoint"
   ]
  },
  {
   "cell_type": "markdown",
   "metadata": {},
   "source": [
    "The service endpoint is based on the location of the service instance. If your API endpoint URL differs from the default, you must set your endpoint. \n",
    "\n",
    "To find out which URL to use, view the service credentials by clicking the service instance on the Dashboard. Set the correct service ```URL``` by using the url parameter when you create the service instance or by calling the ```set_url()``` method of the service instance."
   ]
  },
  {
   "cell_type": "code",
   "execution_count": 12,
   "metadata": {
    "ExecuteTime": {
     "end_time": "2018-09-19T18:35:58.952483Z",
     "start_time": "2018-09-19T18:35:58.929232Z"
    }
   },
   "outputs": [],
   "source": [
    "url = 'https://gateway-wdc.watsonplatform.net/tone-analyzer/api'"
   ]
  },
  {
   "cell_type": "markdown",
   "metadata": {},
   "source": [
    "## Versioning"
   ]
  },
  {
   "cell_type": "markdown",
   "metadata": {},
   "source": [
    "API requests require a version parameter that takes a date in the format ```version=YYYY-MM-DD```. When IBM changes the API in a **backwards-incompatible** way, they release a new version date.\n",
    "\n",
    "Specify the version to use on API requests with the version parameter when you create the service instance. The service uses the API version for the date you specify, or the most recent version before that date. Don't default to the current date. Instead, specify a date that matches a version that is compatible with your app, and don't change it until your app is ready for a later version."
   ]
  },
  {
   "cell_type": "code",
   "execution_count": 13,
   "metadata": {
    "ExecuteTime": {
     "end_time": "2018-09-19T18:35:59.665805Z",
     "start_time": "2018-09-19T18:35:59.641822Z"
    }
   },
   "outputs": [],
   "source": [
    "version = '2017-09-21'"
   ]
  },
  {
   "cell_type": "markdown",
   "metadata": {},
   "source": [
    "## Data handling"
   ]
  },
  {
   "cell_type": "markdown",
   "metadata": {},
   "source": [
    "#### Data Collection\n",
    "By default, all Watson services log requests and their results. **Logging is done only to improve the services for future users. The logged data is not shared or made public.**\n",
    "\n",
    "To prevent IBM from accessing your data for general service improvements, set the ```X-Watson-Learning-Opt-Out``` header parameter to ```true``` when you create the service instance. (Any value other than false or 0 disables request logging.) You can set the header using the ```set_default_headers``` method of the service object."
   ]
  },
  {
   "cell_type": "code",
   "execution_count": 14,
   "metadata": {
    "ExecuteTime": {
     "end_time": "2018-09-19T18:36:00.414327Z",
     "start_time": "2018-09-19T18:36:00.390434Z"
    }
   },
   "outputs": [],
   "source": [
    "tone_analyzer.set_default_headers({'x-watson-learning-opt-out': \"true\"})"
   ]
  },
  {
   "cell_type": "markdown",
   "metadata": {},
   "source": [
    "## Methods"
   ]
  },
  {
   "cell_type": "markdown",
   "metadata": {},
   "source": [
    "#### Analyze general tone\n",
    "\n",
    "Use the general purpose endpoint to analyze the tone of your input content. **The service analyzes the content for emotional and language tones**. \n",
    "- The method always analyzes the tone of the **full document; by default**, it also analyzes the **tone of each individual sentence of the content**.\n",
    "\n",
    "You can submit no more than 128 KB of total input content and no more than 1000 individual sentences in JSON, plain text, or HTML format. The service analyzes the first 1000 sentences for document-level analysis and only the first 100 sentences for sentence-level analysis.\n",
    "\n",
    "Per the JSON specification, the default character encoding for JSON content is effectively always UTF-8; per the HTTP specification, the default encoding for plain text and HTML is ISO-8859-1 (effectively, the ASCII character set). When specifying a content type of plain text or HTML, include the charset parameter to indicate the character encoding of the input text; for example: Content-Type: text/plain;charset=utf-8. For text/html, the service removes HTML tags and analyzes only the textual content."
   ]
  },
  {
   "cell_type": "markdown",
   "metadata": {},
   "source": [
    "#### Request"
   ]
  },
  {
   "cell_type": "markdown",
   "metadata": {},
   "source": [
    "tone(self, tone_input, content_type, sentences=None, tones=None, content_language=None, accept_language=None, **kwargs)\n",
    "\n",
    "**ToneInput**:\n",
    "\n",
    "| Name        | Description     | \n",
    "| ------------- |:-------------:| \n",
    "| text (str):     | The input content that the service is to analyze. |\n",
    "\n"
   ]
  },
  {
   "cell_type": "code",
   "execution_count": 30,
   "metadata": {
    "ExecuteTime": {
     "end_time": "2018-09-19T18:37:50.474275Z",
     "start_time": "2018-09-19T18:37:49.793427Z"
    }
   },
   "outputs": [],
   "source": [
    "import json\n",
    "from watson_developer_cloud import ToneAnalyzerV3\n",
    "\n",
    "text = 'Team, I know that times are tough! Product '\\\n",
    "    'sales have been disappointing for the past three '\\\n",
    "    'quarters. We have a competitive product, but we '\\\n",
    "    'need to do a better job of selling it!'\n",
    "\n",
    "tone_analysis = tone_analyzer.tone(\n",
    "    {'text': text},\n",
    "    'application/json').get_result()\n",
    "j =(json.dumps(tone_analysis, indent=2))"
   ]
  },
  {
   "cell_type": "markdown",
   "metadata": {},
   "source": [
    "# Function to Distill the Overarching Document Tones Into a Pandas DF"
   ]
  },
  {
   "cell_type": "code",
   "execution_count": 16,
   "metadata": {
    "ExecuteTime": {
     "end_time": "2018-09-19T18:36:05.075567Z",
     "start_time": "2018-09-19T18:36:05.050270Z"
    }
   },
   "outputs": [],
   "source": [
    "def text_analysis_to_pd(tone_analysis):\n",
    "    return pd.DataFrame.from_dict(tone_analysis['document_tone']['tones'])"
   ]
  },
  {
   "cell_type": "markdown",
   "metadata": {},
   "source": [
    "#### example"
   ]
  },
  {
   "cell_type": "code",
   "execution_count": 20,
   "metadata": {
    "ExecuteTime": {
     "end_time": "2018-09-19T18:36:21.523579Z",
     "start_time": "2018-09-19T18:36:21.124257Z"
    }
   },
   "outputs": [
    {
     "data": {
      "text/html": [
       "<div>\n",
       "<style scoped>\n",
       "    .dataframe tbody tr th:only-of-type {\n",
       "        vertical-align: middle;\n",
       "    }\n",
       "\n",
       "    .dataframe tbody tr th {\n",
       "        vertical-align: top;\n",
       "    }\n",
       "\n",
       "    .dataframe thead th {\n",
       "        text-align: right;\n",
       "    }\n",
       "</style>\n",
       "<table border=\"1\" class=\"dataframe\">\n",
       "  <thead>\n",
       "    <tr style=\"text-align: right;\">\n",
       "      <th></th>\n",
       "      <th>score</th>\n",
       "      <th>tone_id</th>\n",
       "      <th>tone_name</th>\n",
       "    </tr>\n",
       "  </thead>\n",
       "  <tbody>\n",
       "    <tr>\n",
       "      <th>0</th>\n",
       "      <td>0.616500</td>\n",
       "      <td>sadness</td>\n",
       "      <td>Sadness</td>\n",
       "    </tr>\n",
       "    <tr>\n",
       "      <th>1</th>\n",
       "      <td>0.829888</td>\n",
       "      <td>analytical</td>\n",
       "      <td>Analytical</td>\n",
       "    </tr>\n",
       "  </tbody>\n",
       "</table>\n",
       "</div>"
      ],
      "text/plain": [
       "      score     tone_id   tone_name\n",
       "0  0.616500     sadness     Sadness\n",
       "1  0.829888  analytical  Analytical"
      ]
     },
     "execution_count": 20,
     "metadata": {},
     "output_type": "execute_result"
    }
   ],
   "source": [
    "text_analysis_to_pd(tone_analysis)"
   ]
  },
  {
   "cell_type": "markdown",
   "metadata": {},
   "source": [
    "# Functions to Distill the Sentence Tones Into a Pandas DF"
   ]
  },
  {
   "cell_type": "code",
   "execution_count": 23,
   "metadata": {
    "ExecuteTime": {
     "end_time": "2018-09-19T18:36:22.225459Z",
     "start_time": "2018-09-19T18:36:22.198074Z"
    }
   },
   "outputs": [],
   "source": [
    "def get_score(tones):\n",
    "    output = ''\n",
    "    for idx, score in enumerate(tones, 1):\n",
    "        output += f\"Score {idx}: {score['score']} \"\n",
    "    return output"
   ]
  },
  {
   "cell_type": "code",
   "execution_count": 24,
   "metadata": {
    "ExecuteTime": {
     "end_time": "2018-09-19T18:36:25.429971Z",
     "start_time": "2018-09-19T18:36:25.403693Z"
    }
   },
   "outputs": [],
   "source": [
    "def get_tone(tones):\n",
    "    output = ''\n",
    "    for idx, score in enumerate(tones, 1):\n",
    "        output += f\"Tone {idx}: {score['tone_name']} \"\n",
    "    return output"
   ]
  },
  {
   "cell_type": "code",
   "execution_count": 205,
   "metadata": {
    "ExecuteTime": {
     "end_time": "2018-09-19T21:34:51.940646Z",
     "start_time": "2018-09-19T21:34:51.909346Z"
    }
   },
   "outputs": [],
   "source": [
    "def tone_to_doc_analysis(tone_analysis):\n",
    "    df = text_analysis_to_pd(tone_analysis)\n",
    "    return df[['tone_name','score']]\n",
    "\n",
    "def text_to_sentence_analysis(text):\n",
    "    tone_analysis = tone_analyzer.tone(\n",
    "    {'text': text},\n",
    "    'application/json').get_result()\n",
    "    df = pd.DataFrame.from_dict(tone_analysis['sentences_tone'])\n",
    "    df['score'] = df['tones'].apply(get_score)\n",
    "    df['tone'] = df['tones'].apply(get_tone)\n",
    "    return df[['sentence_id', 'text', 'score', 'tone']]"
   ]
  },
  {
   "cell_type": "code",
   "execution_count": 21,
   "metadata": {
    "ExecuteTime": {
     "end_time": "2018-09-19T18:36:21.682494Z",
     "start_time": "2018-09-19T18:36:21.653267Z"
    }
   },
   "outputs": [],
   "source": [
    "df = pd.DataFrame.from_dict(tone_analysis['sentences_tone'])"
   ]
  },
  {
   "cell_type": "code",
   "execution_count": 26,
   "metadata": {
    "ExecuteTime": {
     "end_time": "2018-09-19T18:36:50.098722Z",
     "start_time": "2018-09-19T18:36:50.070707Z"
    }
   },
   "outputs": [],
   "source": [
    "df['score'] = df['tones'].apply(get_score)\n",
    "df['tone'] = df['tones'].apply(get_tone)"
   ]
  },
  {
   "cell_type": "markdown",
   "metadata": {},
   "source": [
    "# Sample Pipeline: MBA student's \"failure\" essay "
   ]
  },
  {
   "cell_type": "markdown",
   "metadata": {},
   "source": [
    "#### Student's Essay"
   ]
  },
  {
   "cell_type": "code",
   "execution_count": 98,
   "metadata": {
    "ExecuteTime": {
     "end_time": "2018-09-19T19:36:44.671615Z",
     "start_time": "2018-09-19T19:36:44.636731Z"
    }
   },
   "outputs": [],
   "source": [
    "t = \"\"\" In my 2nd year in university, my 2 study partners and I were all working for software companies. We frequently discussed ways to make quantum career leaps. One that fascinated us was starting our own company.\n",
    "\n",
    "One day we came up with an idea that would increase sales for consumer goods retailers and simultaneously decrease monthly consumer expenses. Each day, we polished our idea together for a couple hours.\n",
    "\n",
    "After 2 weeks, I decided to get outside feedback. I looked for people who had at least 10 years experience in consumer goods. Finally, I convinced a friend, to connect me with a board member of the 2nd largest consumer goods retailer in my country.\n",
    "\n",
    "I presented our business model to the board member, and he instructed his right-hand to set us meetings with managers who could evaluate our plans. Over the next month, we went to one meeting after another. The responses varied from enthusiasm to skepticism. Each time, we improved our presentation according to the feedback.\n",
    "\n",
    "Finally, I managed to set a meeting with the previous CEO of the largest consumer goods retailer. He concluded our meeting with: “Guys, in my opinion, it’s not going to work”.\n",
    "\n",
    "I couldn’t say if it was the pressure from school and work or the CEO’s negative feedback, but since that meeting, I wasn’t able to motivate the team to go on. We consciously gave up. 2 years later, one of my teammates called out of the blue: “check out this link…it works!”. I think he expected me to feel disappointment. Actually, I felt pride – my first business attempt was viable after all.\"\"\""
   ]
  },
  {
   "cell_type": "markdown",
   "metadata": {},
   "source": [
    "#### Overarching Document Tones"
   ]
  },
  {
   "cell_type": "code",
   "execution_count": 207,
   "metadata": {
    "ExecuteTime": {
     "end_time": "2018-09-19T21:35:04.110212Z",
     "start_time": "2018-09-19T21:35:04.074969Z"
    }
   },
   "outputs": [
    {
     "data": {
      "text/html": [
       "<div>\n",
       "<style scoped>\n",
       "    .dataframe tbody tr th:only-of-type {\n",
       "        vertical-align: middle;\n",
       "    }\n",
       "\n",
       "    .dataframe tbody tr th {\n",
       "        vertical-align: top;\n",
       "    }\n",
       "\n",
       "    .dataframe thead th {\n",
       "        text-align: right;\n",
       "    }\n",
       "</style>\n",
       "<table border=\"1\" class=\"dataframe\">\n",
       "  <thead>\n",
       "    <tr style=\"text-align: right;\">\n",
       "      <th></th>\n",
       "      <th>tone_name</th>\n",
       "      <th>score</th>\n",
       "    </tr>\n",
       "  </thead>\n",
       "  <tbody>\n",
       "    <tr>\n",
       "      <th>0</th>\n",
       "      <td>Joy</td>\n",
       "      <td>0.605044</td>\n",
       "    </tr>\n",
       "    <tr>\n",
       "      <th>1</th>\n",
       "      <td>Sadness</td>\n",
       "      <td>0.507810</td>\n",
       "    </tr>\n",
       "    <tr>\n",
       "      <th>2</th>\n",
       "      <td>Analytical</td>\n",
       "      <td>0.858529</td>\n",
       "    </tr>\n",
       "  </tbody>\n",
       "</table>\n",
       "</div>"
      ],
      "text/plain": [
       "    tone_name     score\n",
       "0         Joy  0.605044\n",
       "1     Sadness  0.507810\n",
       "2  Analytical  0.858529"
      ]
     },
     "execution_count": 207,
     "metadata": {},
     "output_type": "execute_result"
    }
   ],
   "source": [
    "tone_to_doc_analysis(tone_analysis)"
   ]
  },
  {
   "cell_type": "markdown",
   "metadata": {},
   "source": [
    "#### Sentence Tones"
   ]
  },
  {
   "cell_type": "code",
   "execution_count": 99,
   "metadata": {
    "ExecuteTime": {
     "end_time": "2018-09-19T19:36:54.899925Z",
     "start_time": "2018-09-19T19:36:49.767450Z"
    }
   },
   "outputs": [
    {
     "data": {
      "text/html": [
       "<div>\n",
       "<style scoped>\n",
       "    .dataframe tbody tr th:only-of-type {\n",
       "        vertical-align: middle;\n",
       "    }\n",
       "\n",
       "    .dataframe tbody tr th {\n",
       "        vertical-align: top;\n",
       "    }\n",
       "\n",
       "    .dataframe thead th {\n",
       "        text-align: right;\n",
       "    }\n",
       "</style>\n",
       "<table border=\"1\" class=\"dataframe\">\n",
       "  <thead>\n",
       "    <tr style=\"text-align: right;\">\n",
       "      <th></th>\n",
       "      <th>sentence_id</th>\n",
       "      <th>text</th>\n",
       "      <th>score</th>\n",
       "      <th>tone</th>\n",
       "    </tr>\n",
       "  </thead>\n",
       "  <tbody>\n",
       "    <tr>\n",
       "      <th>0</th>\n",
       "      <td>0</td>\n",
       "      <td>In my 2nd year in university, my 2 study partn...</td>\n",
       "      <td>Score 1: 0.559715 Score 2: 0.660207</td>\n",
       "      <td>Tone 1: Sadness Tone 2: Confident</td>\n",
       "    </tr>\n",
       "    <tr>\n",
       "      <th>1</th>\n",
       "      <td>1</td>\n",
       "      <td>We frequently discussed ways to make quantum c...</td>\n",
       "      <td></td>\n",
       "      <td></td>\n",
       "    </tr>\n",
       "    <tr>\n",
       "      <th>2</th>\n",
       "      <td>2</td>\n",
       "      <td>One that fascinated us was starting our own co...</td>\n",
       "      <td></td>\n",
       "      <td></td>\n",
       "    </tr>\n",
       "    <tr>\n",
       "      <th>3</th>\n",
       "      <td>3</td>\n",
       "      <td>One day we came up with an idea that would inc...</td>\n",
       "      <td>Score 1: 0.541591</td>\n",
       "      <td>Tone 1: Analytical</td>\n",
       "    </tr>\n",
       "    <tr>\n",
       "      <th>4</th>\n",
       "      <td>4</td>\n",
       "      <td>Each day, we polished our idea together for a ...</td>\n",
       "      <td>Score 1: 0.684799</td>\n",
       "      <td>Tone 1: Joy</td>\n",
       "    </tr>\n",
       "    <tr>\n",
       "      <th>5</th>\n",
       "      <td>5</td>\n",
       "      <td>After 2 weeks, I decided to get outside feedback.</td>\n",
       "      <td>Score 1: 0.901894 Score 2: 0.874372</td>\n",
       "      <td>Tone 1: Analytical Tone 2: Confident</td>\n",
       "    </tr>\n",
       "    <tr>\n",
       "      <th>6</th>\n",
       "      <td>6</td>\n",
       "      <td>I looked for people who had at least 10 years ...</td>\n",
       "      <td>Score 1: 0.508012</td>\n",
       "      <td>Tone 1: Joy</td>\n",
       "    </tr>\n",
       "    <tr>\n",
       "      <th>7</th>\n",
       "      <td>7</td>\n",
       "      <td>Finally, I convinced a friend, to connect me w...</td>\n",
       "      <td>Score 1: 0.772407 Score 2: 0.579367</td>\n",
       "      <td>Tone 1: Joy Tone 2: Analytical</td>\n",
       "    </tr>\n",
       "    <tr>\n",
       "      <th>8</th>\n",
       "      <td>8</td>\n",
       "      <td>I presented our business model to the board me...</td>\n",
       "      <td>Score 1: 0.503542</td>\n",
       "      <td>Tone 1: Analytical</td>\n",
       "    </tr>\n",
       "    <tr>\n",
       "      <th>9</th>\n",
       "      <td>9</td>\n",
       "      <td>Over the next month, we went to one meeting af...</td>\n",
       "      <td></td>\n",
       "      <td></td>\n",
       "    </tr>\n",
       "    <tr>\n",
       "      <th>10</th>\n",
       "      <td>10</td>\n",
       "      <td>The responses varied from enthusiasm to skepti...</td>\n",
       "      <td>Score 1: 0.801827</td>\n",
       "      <td>Tone 1: Analytical</td>\n",
       "    </tr>\n",
       "    <tr>\n",
       "      <th>11</th>\n",
       "      <td>11</td>\n",
       "      <td>Each time, we improved our presentation accord...</td>\n",
       "      <td>Score 1: 0.955445</td>\n",
       "      <td>Tone 1: Analytical</td>\n",
       "    </tr>\n",
       "    <tr>\n",
       "      <th>12</th>\n",
       "      <td>12</td>\n",
       "      <td>Finally, I managed to set a meeting with the p...</td>\n",
       "      <td>Score 1: 0.750001</td>\n",
       "      <td>Tone 1: Joy</td>\n",
       "    </tr>\n",
       "    <tr>\n",
       "      <th>13</th>\n",
       "      <td>13</td>\n",
       "      <td>He concluded our meeting with: “Guys, in my op...</td>\n",
       "      <td>Score 1: 0.88939</td>\n",
       "      <td>Tone 1: Tentative</td>\n",
       "    </tr>\n",
       "    <tr>\n",
       "      <th>14</th>\n",
       "      <td>14</td>\n",
       "      <td>I couldn’t say if it was the pressure from sch...</td>\n",
       "      <td>Score 1: 0.516224 Score 2: 0.519491</td>\n",
       "      <td>Tone 1: Sadness Tone 2: Analytical</td>\n",
       "    </tr>\n",
       "    <tr>\n",
       "      <th>15</th>\n",
       "      <td>15</td>\n",
       "      <td>We consciously gave up. 2 years later, one of ...</td>\n",
       "      <td>Score 1: 0.96251</td>\n",
       "      <td>Tone 1: Analytical</td>\n",
       "    </tr>\n",
       "    <tr>\n",
       "      <th>16</th>\n",
       "      <td>16</td>\n",
       "      <td>I think he expected me to feel disappointment.</td>\n",
       "      <td>Score 1: 0.67107 Score 2: 0.920855 Score 3: 0....</td>\n",
       "      <td>Tone 1: Sadness Tone 2: Analytical Tone 3: Ten...</td>\n",
       "    </tr>\n",
       "    <tr>\n",
       "      <th>17</th>\n",
       "      <td>17</td>\n",
       "      <td>Actually, I felt pride – my first business att...</td>\n",
       "      <td>Score 1: 0.588658 Score 2: 0.950868</td>\n",
       "      <td>Tone 1: Joy Tone 2: Analytical</td>\n",
       "    </tr>\n",
       "  </tbody>\n",
       "</table>\n",
       "</div>"
      ],
      "text/plain": [
       "    sentence_id                                               text  \\\n",
       "0             0  In my 2nd year in university, my 2 study partn...   \n",
       "1             1  We frequently discussed ways to make quantum c...   \n",
       "2             2  One that fascinated us was starting our own co...   \n",
       "3             3  One day we came up with an idea that would inc...   \n",
       "4             4  Each day, we polished our idea together for a ...   \n",
       "5             5  After 2 weeks, I decided to get outside feedback.   \n",
       "6             6  I looked for people who had at least 10 years ...   \n",
       "7             7  Finally, I convinced a friend, to connect me w...   \n",
       "8             8  I presented our business model to the board me...   \n",
       "9             9  Over the next month, we went to one meeting af...   \n",
       "10           10  The responses varied from enthusiasm to skepti...   \n",
       "11           11  Each time, we improved our presentation accord...   \n",
       "12           12  Finally, I managed to set a meeting with the p...   \n",
       "13           13  He concluded our meeting with: “Guys, in my op...   \n",
       "14           14  I couldn’t say if it was the pressure from sch...   \n",
       "15           15  We consciously gave up. 2 years later, one of ...   \n",
       "16           16     I think he expected me to feel disappointment.   \n",
       "17           17  Actually, I felt pride – my first business att...   \n",
       "\n",
       "                                                score  \\\n",
       "0                Score 1: 0.559715 Score 2: 0.660207    \n",
       "1                                                       \n",
       "2                                                       \n",
       "3                                  Score 1: 0.541591    \n",
       "4                                  Score 1: 0.684799    \n",
       "5                Score 1: 0.901894 Score 2: 0.874372    \n",
       "6                                  Score 1: 0.508012    \n",
       "7                Score 1: 0.772407 Score 2: 0.579367    \n",
       "8                                  Score 1: 0.503542    \n",
       "9                                                       \n",
       "10                                 Score 1: 0.801827    \n",
       "11                                 Score 1: 0.955445    \n",
       "12                                 Score 1: 0.750001    \n",
       "13                                  Score 1: 0.88939    \n",
       "14               Score 1: 0.516224 Score 2: 0.519491    \n",
       "15                                  Score 1: 0.96251    \n",
       "16  Score 1: 0.67107 Score 2: 0.920855 Score 3: 0....   \n",
       "17               Score 1: 0.588658 Score 2: 0.950868    \n",
       "\n",
       "                                                 tone  \n",
       "0                  Tone 1: Sadness Tone 2: Confident   \n",
       "1                                                      \n",
       "2                                                      \n",
       "3                                 Tone 1: Analytical   \n",
       "4                                        Tone 1: Joy   \n",
       "5               Tone 1: Analytical Tone 2: Confident   \n",
       "6                                        Tone 1: Joy   \n",
       "7                     Tone 1: Joy Tone 2: Analytical   \n",
       "8                                 Tone 1: Analytical   \n",
       "9                                                      \n",
       "10                                Tone 1: Analytical   \n",
       "11                                Tone 1: Analytical   \n",
       "12                                       Tone 1: Joy   \n",
       "13                                 Tone 1: Tentative   \n",
       "14                Tone 1: Sadness Tone 2: Analytical   \n",
       "15                                Tone 1: Analytical   \n",
       "16  Tone 1: Sadness Tone 2: Analytical Tone 3: Ten...  \n",
       "17                    Tone 1: Joy Tone 2: Analytical   "
      ]
     },
     "execution_count": 99,
     "metadata": {},
     "output_type": "execute_result"
    }
   ],
   "source": [
    "text_to_sentence_analysis(t)"
   ]
  },
  {
   "cell_type": "code",
   "execution_count": 227,
   "metadata": {
    "ExecuteTime": {
     "end_time": "2018-09-20T12:11:59.209377Z",
     "start_time": "2018-09-20T12:11:56.284749Z"
    }
   },
   "outputs": [],
   "source": [
    "tone_analysis = tone_analyzer.tone(\n",
    "    {'text': text},\n",
    "    'application/json').get_result()"
   ]
  },
  {
   "cell_type": "code",
   "execution_count": 101,
   "metadata": {
    "ExecuteTime": {
     "end_time": "2018-09-19T19:37:00.036073Z",
     "start_time": "2018-09-19T19:37:00.004725Z"
    }
   },
   "outputs": [
    {
     "data": {
      "text/plain": [
       "[{'score': 0.559715, 'tone_id': 'sadness', 'tone_name': 'Sadness'},\n",
       " {'score': 0.660207, 'tone_id': 'confident', 'tone_name': 'Confident'}]"
      ]
     },
     "execution_count": 101,
     "metadata": {},
     "output_type": "execute_result"
    }
   ],
   "source": [
    "tone_analysis['sentences_tone'][0]['tones']"
   ]
  },
  {
   "cell_type": "code",
   "execution_count": 102,
   "metadata": {
    "ExecuteTime": {
     "end_time": "2018-09-19T19:37:01.144691Z",
     "start_time": "2018-09-19T19:37:01.119798Z"
    }
   },
   "outputs": [],
   "source": [
    "def find_sentence_tone(tone_analysis, tone):\n",
    "    for d in tone_analysis['sentences_tone']:\n",
    "        if len(d['tones']) > 0:\n",
    "            for sent in d['tones']:\n",
    "                if sent['tone_name'] == tone:\n",
    "                    print(sent['score'])\n",
    "                else:\n",
    "                    print(f'This sentence was not {tone}')\n",
    "        else:\n",
    "            print(f'This sentence was not {tone}')"
   ]
  },
  {
   "cell_type": "code",
   "execution_count": 155,
   "metadata": {
    "ExecuteTime": {
     "end_time": "2018-09-19T20:00:30.131131Z",
     "start_time": "2018-09-19T20:00:30.051341Z"
    }
   },
   "outputs": [],
   "source": [
    "def find_sentence_tone(tone_analysis, tone):\n",
    "    for d in tone_analysis['sentences_tone']:\n",
    "        if len(d['tones']) > 0:\n",
    "            for sent in d['tones']:\n",
    "                if sent['tone_name'] == tone:\n",
    "                    sentence = d['text']\n",
    "                    score = sent['score']\n",
    "                    level = label_score(sent['score'])\n",
    "                    color = add_color(label_score(sent['score']), tone)\n",
    "                    yield {\n",
    "                        'sentence' : sentence,\n",
    "                        'score' : score,\n",
    "                        'level' : level,\n",
    "                        'color' : color\n",
    "                           }\n",
    "                else:\n",
    "                    sentence = d['text']\n",
    "                    level = 'Zero'\n",
    "                    yield {\n",
    "                        'sentence' : sentence,\n",
    "                        'score' : 0,\n",
    "                        'level' : 'Zero',\n",
    "                        'color' : add_color('Zero', tone)\n",
    "                           }\n",
    "        else:\n",
    "            sentence = d['text']\n",
    "            yield {\n",
    "                   'sentence' : sentence,\n",
    "                   'score' : 0,\n",
    "                   'level' : 'Zero',\n",
    "                   'color' : add_color('Zero', tone)\n",
    "                    }"
   ]
  },
  {
   "cell_type": "code",
   "execution_count": 187,
   "metadata": {
    "ExecuteTime": {
     "end_time": "2018-09-19T20:23:49.060299Z",
     "start_time": "2018-09-19T20:23:48.939182Z"
    }
   },
   "outputs": [],
   "source": [
    "def label_score(score):\n",
    "    if score < .5:\n",
    "        return 'Zero'\n",
    "    elif .5 <= score <= .75:\n",
    "        return 'Mid'\n",
    "    else:\n",
    "        return 'High'\n",
    "\n",
    "def add_color(level, tone):\n",
    "    if tone == 'Analytical':\n",
    "        if level == 'Zero':\n",
    "            return '#21252900'\n",
    "        elif level == 'Mid':\n",
    "            return '#afd5fd'\n",
    "        else:\n",
    "            return '#6eaff1'\n",
    "    if tone == 'Joy':\n",
    "        if level == 'Zero':\n",
    "            return '#21252900'\n",
    "        elif level == 'Mid':\n",
    "            return '#fffd9d'\n",
    "        else:\n",
    "            return '#f7f338'\n",
    "    if tone == 'Sadness':\n",
    "        if level == 'Zero':\n",
    "            return '#21252900'\n",
    "        elif level == 'Mid':\n",
    "            return '#eaebec'\n",
    "        else:\n",
    "            return '#cacaca'\n",
    "    if tone == 'Anger':\n",
    "            if level == 'Zero':\n",
    "                return '#21252900'\n",
    "            elif level == 'Mid':\n",
    "                return '#f3c9c9'\n",
    "            else:\n",
    "                return '#e28d8d'\n",
    "    if tone == 'Tentative':\n",
    "            if level == 'Zero':\n",
    "                return '#21252900'\n",
    "            elif level == 'Mid':\n",
    "                return '#e5cdf1'\n",
    "            else:\n",
    "                return '#cc97e6'\n",
    "    if tone == 'Confident':\n",
    "            if level == 'Zero':\n",
    "                return '#21252900'\n",
    "            elif level == 'Mid':\n",
    "                return '#bcf5c9'\n",
    "            else:\n",
    "                return '#44e268'\n",
    "    if tone == 'Fear':\n",
    "            if level == 'Zero':\n",
    "                return '#21252900'\n",
    "            elif level == 'Mid':\n",
    "                return '#f3dee7'\n",
    "            else:\n",
    "                return '#f1a6c6'"
   ]
  },
  {
   "cell_type": "code",
   "execution_count": 191,
   "metadata": {
    "ExecuteTime": {
     "end_time": "2018-09-19T20:29:48.724521Z",
     "start_time": "2018-09-19T20:29:48.577147Z"
    }
   },
   "outputs": [],
   "source": [
    "analytical_df = pd.DataFrame(list(find_sentence_tone(tone_analysis, 'Analytical')))"
   ]
  },
  {
   "cell_type": "code",
   "execution_count": 198,
   "metadata": {
    "ExecuteTime": {
     "end_time": "2018-09-19T21:23:25.933281Z",
     "start_time": "2018-09-19T21:23:25.882293Z"
    }
   },
   "outputs": [],
   "source": [
    "import pickle\n",
    "pickle.dump(tone_analysis, open(\"tone_analysis.p\", \"wb\")) "
   ]
  },
  {
   "cell_type": "code",
   "execution_count": 199,
   "metadata": {
    "ExecuteTime": {
     "end_time": "2018-09-19T21:23:51.502143Z",
     "start_time": "2018-09-19T21:23:51.465925Z"
    }
   },
   "outputs": [],
   "source": [
    "favorite_color = pickle.load(open(\"tone_analysis.p\", \"rb\"))"
   ]
  },
  {
   "cell_type": "code",
   "execution_count": 225,
   "metadata": {
    "ExecuteTime": {
     "end_time": "2018-09-20T00:15:40.806560Z",
     "start_time": "2018-09-20T00:15:40.778391Z"
    }
   },
   "outputs": [
    {
     "data": {
      "text/plain": [
       "'#6eaff1'"
      ]
     },
     "execution_count": 225,
     "metadata": {},
     "output_type": "execute_result"
    }
   ],
   "source": [
    "analytical_df[analytical_df['level'] == 'High'].values[0][0]"
   ]
  },
  {
   "cell_type": "code",
   "execution_count": 195,
   "metadata": {
    "ExecuteTime": {
     "end_time": "2018-09-19T20:38:51.656035Z",
     "start_time": "2018-09-19T20:38:50.498688Z"
    }
   },
   "outputs": [],
   "source": [
    "text_to_doc_analysis(t).to_pickle(\"doc.pkl\")"
   ]
  },
  {
   "cell_type": "code",
   "execution_count": 209,
   "metadata": {
    "ExecuteTime": {
     "end_time": "2018-09-19T22:44:10.540946Z",
     "start_time": "2018-09-19T22:44:08.973587Z"
    }
   },
   "outputs": [],
   "source": [
    "tone_analysis = tone_analyzer.tone(\n",
    "    {'text': text},\n",
    "    'application/json').get_result()"
   ]
  },
  {
   "cell_type": "code",
   "execution_count": 226,
   "metadata": {
    "ExecuteTime": {
     "end_time": "2018-09-20T12:11:36.351957Z",
     "start_time": "2018-09-20T12:11:36.105279Z"
    }
   },
   "outputs": [],
   "source": [
    "text = \"\"\"I am happy to join with you today in what will go down in history as the greatest demonstration for freedom in the history of our nation.\n",
    "\n",
    "Five score years ago, a great American, in whose symbolic shadow we stand today, signed the Emancipation Proclamation. This momentous decree came as a great beacon light of hope to millions of Negro slaves who had been seared in the flames of withering injustice. It came as a joyous daybreak to end the long night of their captivity.\n",
    "\n",
    "But one hundred years later, the Negro still is not free; one hundred years later, the life of the Negro is still sadly crippled by the manacles of segregation and the chains of discrimination; one hundred years later, the Negro lives on a lonely island of poverty in the midst of a vast ocean of material prosperity; one hundred years later, the Negro is still languished in the corners of American society and finds himself in exile in his own land.\n",
    "\n",
    "So we’ve come here today to dramatize a shameful condition. In a sense we’ve come to our nation’s capital to cash a check. When the architects of our republic wrote the magnificent words of the Constitution and the Declaration of Independence, they were signing a promissory note to which every American was to fall heir. This note was the promise that all men, yes, black men as well as white men, would be guaranteed the unalienable rights of life, liberty, and the pursuit of happiness.\n",
    "\n",
    "It is obvious today that America has defaulted on this promissory note in so far as her citizens of color are concerned. Instead of honoring this sacred obligation, America has given the Negro people a bad check, a check which has come back marked “insufficient funds.” But we refuse to believe that the bank of justice is bankrupt. We refuse to believe that there are insufficient funds in the great vaults of opportunity of this nation. And so we have come to cash this check, a check that will give us upon demand the riches of freedom and the security of justice.\n",
    "\n",
    "We have also come to this hallowed spot to remind America of the fierce urgency of now. This is no time to engage in the luxury of cooling off or to take the tranquilizing drug of gradualism. Now is the time to make real the promises of democracy; now is the time to rise from the dark and desolate valley of segregation to the sunlit path of racial justice; now is the time to lift our nation from the quicksands of racial injustice to the solid rock of brotherhood; now is the time to make justice a reality for all of God’s children. It would be fatal for the nation to overlook the urgency of the moment. This sweltering summer of the Negro’s legitimate discontent will not pass until there is an invigorating autumn of freedom and equality. Nineteen sixty-three is not an end, but a beginning. And those who hope that the Negro needed to blow off steam and will now be content, will have a rude awakening if the nation returns to business as usual. There will be neither rest nor tranquility in America until the Negro is granted his citizenship rights. The whirlwinds of revolt will continue to shake the foundations of our nation until the bright day of justice emerges.\n",
    "\n",
    "But there is something that I must say to my people, who stand on the worn threshold which leads into the palace of justice. In the process of gaining our rightful place, we must not be guilty of wrongful deeds. Let us not seek to satisfy our thirst for freedom by drinking from the cup of bitterness and hatred. We must forever conduct our struggle on the high plane of dignity and discipline. We must not allow our creative protests to degenerate into physical violence. Again and again we must rise to the majestic heights of meeting physical force with soul force. The marvelous new militancy, which has engulfed the Negro community, must not lead us to a distrust of all white people. For many of our white brothers, as evidenced by their presence here today, have come to realize that their destiny is tied up with our destiny. And they have come to realize that their freedom is inextricably bound to our freedom. We cannot walk alone. And as we walk, we must make the pledge that we shall always march ahead. We cannot turn back.\n",
    "\n",
    "There are those who are asking the devotees of Civil Rights, “When will you be satisfied?” We can never be satisfied as long as the Negro is the victim of the unspeakable horrors of police brutality; we can never be satisfied as long as our bodies, heavy with the fatigue of travel, cannot gain lodging in the motels of the highways and the hotels of the cities; we cannot be satisfied as long as the Negro’s basic mobility is from a smaller ghetto to a larger one; we can never be satisfied as long as our children are stripped of their selfhood and robbed of their dignity by signs stating “For Whites Only”; we cannot be satisfied as long as the Negro in Mississippi cannot vote, and the Negro in New York believes he has nothing for which to vote. No! no, we are not satisfied, and we will not be satisfied until “justice rolls down like waters and righteousness like a mighty stream.”\n",
    "\n",
    "I am not unmindful that some of you have come here out of great trials and tribulations.  Some of you have come fresh from narrow jail cells. Some of you have come from areas where your quest for freedom left you battered by the storms of persecution and staggered by the winds of police brutality. You have been the veterans of creative suffering. Continue to work with the faith that unearned suffering is redemptive. Go back to Mississippi. Go back to Alabama. Go back to South Carolina. Go back to Georgia. Go back to Louisiana. Go back to the slums and ghettos of our Northern cities, knowing that somehow this situation can and will be changed.  Let us not wallow in the valley of despair.\n",
    "\n",
    "I say to you today, my friends, so even though we face the difficulties of today and tomorrow, I still have a dream. It is a dream deeply rooted in the American dream. I have a dream that one day this nation will rise up and live out the true meaning of its creed, “We hold these truths to be self-evident, that all men are created equal.” I have a dream that one day on the red hills of Georgia, sons of former slaves and the sons of former slaveowners will be able to sit down together at the table of brotherhood. I have a dream that one day even the state of Mississippi, a state sweltering with the heat of injustice, sweltering with the heat of oppression, will be transformed into an oasis of freedom and justice. I have a dream that my four little children will one day live in a nation where they will not be judged by the color of their skin but by the content of their character.\n",
    "\n",
    "I HAVE A DREAM TODAY!\n",
    "\n",
    "I have a dream that one day down in Alabama — with its vicious racists, with its Governor having his lips dripping with the words of interposition and nullification — one day right there in Alabama, little black boys and black girls will be able to join hands with little white boys and white girls as sisters and brothers.\n",
    "\n",
    "I HAVE A DREAM TODAY!\n",
    "\n",
    "I have a dream that one day every valley shall be exalted, and every hill and mountain shall be made low. The rough places will be plain and the crooked places will be made straight, “and the glory of the Lord shall be revealed, and all flesh shall see it together.”\n",
    "\n",
    "This is our hope. This is the faith that I go back to the South with. With this faith we will be able to hew out of the mountain of despair a stone of hope.  With this faith we will be able to transform the jangling discords of our nation into a beautiful symphony of brother-hood. With this faith we will be able to work together, to pray together, to struggle together, to go to jail together, to stand up for freedom together, knowing that we will be free one day.  And this will be the day. This will be the day when all of God’s children will be able to sing with new meaning, “My country ’tis of thee, sweet land of liberty, of thee I sing. Land where my father died, land of the pilgrim’s pride, from every mountainside, let freedom ring.” And if America is to be a great nation, this must become true.\n",
    "\n",
    "So let freedom ring from the prodigious hilltops of New Hampshire; let freedom ring from the mighty mountains of New York; let freedom ring from the heightening Alleghenies of Pennsylvania; let freedom ring from the snow-capped Rockies of Colorado; let freedom ring from the curvaceous slopes of California. But not only that. Let freedom ring from Stone Mountain of Georgia; let freedom ring from Lookout Mountain of Tennessee; let freedom ring from every hill and mole hill of Mississippi. “From every mountainside, let freedom ring.”\n",
    "\n",
    "And when this happens, and when we allow freedom to ring, when we let it ring from every village and every hamlet, from every state and every city, we will be able to speed up that day when all of God’s children, black men and white men, Jews and Gentiles, Protestants and Catholics, will be able to join hands and sing in the words of the old Negro spiritual: “Free at last. Free at last. Thank God Almighty, we are free at last.”\"\"\""
   ]
  },
  {
   "cell_type": "code",
   "execution_count": 228,
   "metadata": {
    "ExecuteTime": {
     "end_time": "2018-09-20T12:12:02.651305Z",
     "start_time": "2018-09-20T12:12:02.607664Z"
    }
   },
   "outputs": [
    {
     "data": {
      "text/plain": [
       "{'document_tone': {'tones': [{'score': 0.517444,\n",
       "    'tone_id': 'sadness',\n",
       "    'tone_name': 'Sadness'},\n",
       "   {'score': 0.635536, 'tone_id': 'joy', 'tone_name': 'Joy'},\n",
       "   {'score': 0.629539, 'tone_id': 'confident', 'tone_name': 'Confident'}]},\n",
       " 'sentences_tone': [{'sentence_id': 0,\n",
       "   'text': 'I am happy to join with you today in what will go down in history as the greatest demonstration for freedom in the history of our nation.',\n",
       "   'tones': [{'score': 0.887421, 'tone_id': 'joy', 'tone_name': 'Joy'},\n",
       "    {'score': 0.574477, 'tone_id': 'analytical', 'tone_name': 'Analytical'}]},\n",
       "  {'sentence_id': 1,\n",
       "   'text': 'Five score years ago, a great American, in whose symbolic shadow we stand today, signed the Emancipation Proclamation.',\n",
       "   'tones': [{'score': 0.588023, 'tone_id': 'joy', 'tone_name': 'Joy'}]},\n",
       "  {'sentence_id': 2,\n",
       "   'text': 'This momentous decree came as a great beacon light of hope to millions of Negro slaves who had been seared in the flames of withering injustice.',\n",
       "   'tones': []},\n",
       "  {'sentence_id': 3,\n",
       "   'text': 'It came as a joyous daybreak to end the long night of their captivity.',\n",
       "   'tones': [{'score': 0.502313, 'tone_id': 'joy', 'tone_name': 'Joy'}]},\n",
       "  {'sentence_id': 4,\n",
       "   'text': 'But one hundred years later, the Negro still is not free; one hundred years later, the life of the Negro is still sadly crippled by the manacles of segregation and the chains of discrimination; one hundred years later, the Negro lives on a lonely island of poverty in the midst of a vast ocean of material prosperity; one hundred years later, the Negro is still languished in the corners of American society and finds himself in exile in his own land.',\n",
       "   'tones': [{'score': 0.745617,\n",
       "     'tone_id': 'sadness',\n",
       "     'tone_name': 'Sadness'}]},\n",
       "  {'sentence_id': 5,\n",
       "   'text': 'So we’ve come here today to dramatize a shameful condition.',\n",
       "   'tones': []},\n",
       "  {'sentence_id': 6,\n",
       "   'text': 'In a sense we’ve come to our nation’s capital to cash a check.',\n",
       "   'tones': [{'score': 0.589295,\n",
       "     'tone_id': 'analytical',\n",
       "     'tone_name': 'Analytical'}]},\n",
       "  {'sentence_id': 7,\n",
       "   'text': 'When the architects of our republic wrote the magnificent words of the Constitution and the Declaration of Independence, they were signing a promissory note to which every American was to fall heir.',\n",
       "   'tones': [{'score': 0.682143,\n",
       "     'tone_id': 'analytical',\n",
       "     'tone_name': 'Analytical'}]},\n",
       "  {'sentence_id': 8,\n",
       "   'text': 'This note was the promise that all men, yes, black men as well as white men, would be guaranteed the unalienable rights of life, liberty, and the pursuit of happiness.',\n",
       "   'tones': [{'score': 0.842768, 'tone_id': 'joy', 'tone_name': 'Joy'},\n",
       "    {'score': 0.645985, 'tone_id': 'confident', 'tone_name': 'Confident'}]},\n",
       "  {'sentence_id': 9,\n",
       "   'text': 'It is obvious today that America has defaulted on this promissory note in so far as her citizens of color are concerned.',\n",
       "   'tones': [{'score': 0.597565,\n",
       "     'tone_id': 'analytical',\n",
       "     'tone_name': 'Analytical'},\n",
       "    {'score': 0.598602, 'tone_id': 'confident', 'tone_name': 'Confident'}]},\n",
       "  {'sentence_id': 10,\n",
       "   'text': 'Instead of honoring this sacred obligation, America has given the Negro people a bad check, a check which has come back marked “insufficient funds.”',\n",
       "   'tones': [{'score': 0.664451,\n",
       "     'tone_id': 'analytical',\n",
       "     'tone_name': 'Analytical'}]},\n",
       "  {'sentence_id': 11,\n",
       "   'text': 'But we refuse to believe that the bank of justice is bankrupt.',\n",
       "   'tones': [{'score': 0.77172, 'tone_id': 'sadness', 'tone_name': 'Sadness'},\n",
       "    {'score': 0.75152, 'tone_id': 'tentative', 'tone_name': 'Tentative'}]},\n",
       "  {'sentence_id': 12,\n",
       "   'text': 'We refuse to believe that there are insufficient funds in the great vaults of opportunity of this nation.',\n",
       "   'tones': [{'score': 0.5538,\n",
       "     'tone_id': 'tentative',\n",
       "     'tone_name': 'Tentative'}]},\n",
       "  {'sentence_id': 13,\n",
       "   'text': 'And so we have come to cash this check, a check that will give us upon demand the riches of freedom and the security of justice.',\n",
       "   'tones': [{'score': 0.536636, 'tone_id': 'joy', 'tone_name': 'Joy'}]},\n",
       "  {'sentence_id': 14,\n",
       "   'text': 'We have also come to this hallowed spot to remind America of the fierce urgency of now.',\n",
       "   'tones': []},\n",
       "  {'sentence_id': 15,\n",
       "   'text': 'This is no time to engage in the luxury of cooling off or to take the tranquilizing drug of gradualism.',\n",
       "   'tones': [{'score': 0.754291, 'tone_id': 'joy', 'tone_name': 'Joy'}]},\n",
       "  {'sentence_id': 16,\n",
       "   'text': 'Now is the time to make real the promises of democracy; now is the time to rise from the dark and desolate valley of segregation to the sunlit path of racial justice; now is the time to lift our nation from the quicksands of racial injustice to the solid rock of brotherhood; now is the time to make justice a reality for all of God’s children.',\n",
       "   'tones': []},\n",
       "  {'sentence_id': 17,\n",
       "   'text': 'It would be fatal for the nation to overlook the urgency of the moment.',\n",
       "   'tones': []},\n",
       "  {'sentence_id': 18,\n",
       "   'text': 'This sweltering summer of the Negro’s legitimate discontent will not pass until there is an invigorating autumn of freedom and equality.',\n",
       "   'tones': [{'score': 0.530255, 'tone_id': 'joy', 'tone_name': 'Joy'}]},\n",
       "  {'sentence_id': 19,\n",
       "   'text': 'Nineteen sixty-three is not an end, but a beginning.',\n",
       "   'tones': []},\n",
       "  {'sentence_id': 20,\n",
       "   'text': 'And those who hope that the Negro needed to blow off steam and will now be content, will have a rude awakening if the nation returns to business as usual.',\n",
       "   'tones': [{'score': 0.749982, 'tone_id': 'anger', 'tone_name': 'Anger'}]},\n",
       "  {'sentence_id': 21,\n",
       "   'text': 'There will be neither rest nor tranquility in America until the Negro is granted his citizenship rights.',\n",
       "   'tones': []},\n",
       "  {'sentence_id': 22,\n",
       "   'text': 'The whirlwinds of revolt will continue to shake the foundations of our nation until the bright day of justice emerges.',\n",
       "   'tones': [{'score': 0.657003, 'tone_id': 'joy', 'tone_name': 'Joy'}]},\n",
       "  {'sentence_id': 23,\n",
       "   'text': 'But there is something that I must say to my people, who stand on the worn threshold which leads into the palace of justice.',\n",
       "   'tones': []},\n",
       "  {'sentence_id': 24,\n",
       "   'text': 'In the process of gaining our rightful place, we must not be guilty of wrongful deeds.',\n",
       "   'tones': []},\n",
       "  {'sentence_id': 25,\n",
       "   'text': 'Let us not seek to satisfy our thirst for freedom by drinking from the cup of bitterness and hatred.',\n",
       "   'tones': [{'score': 0.69822, 'tone_id': 'anger', 'tone_name': 'Anger'}]},\n",
       "  {'sentence_id': 26,\n",
       "   'text': 'We must forever conduct our struggle on the high plane of dignity and discipline.',\n",
       "   'tones': [{'score': 0.604654, 'tone_id': 'sadness', 'tone_name': 'Sadness'},\n",
       "    {'score': 0.801827, 'tone_id': 'analytical', 'tone_name': 'Analytical'},\n",
       "    {'score': 0.866237, 'tone_id': 'confident', 'tone_name': 'Confident'}]},\n",
       "  {'sentence_id': 27,\n",
       "   'text': 'We must not allow our creative protests to degenerate into physical violence.',\n",
       "   'tones': [{'score': 0.511975, 'tone_id': 'anger', 'tone_name': 'Anger'},\n",
       "    {'score': 0.620279, 'tone_id': 'analytical', 'tone_name': 'Analytical'},\n",
       "    {'score': 0.543112, 'tone_id': 'confident', 'tone_name': 'Confident'}]},\n",
       "  {'sentence_id': 28,\n",
       "   'text': 'Again and again we must rise to the majestic heights of meeting physical force with soul force.',\n",
       "   'tones': [{'score': 0.743104,\n",
       "     'tone_id': 'analytical',\n",
       "     'tone_name': 'Analytical'}]},\n",
       "  {'sentence_id': 29,\n",
       "   'text': 'The marvelous new militancy, which has engulfed the Negro community, must not lead us to a distrust of all white people.',\n",
       "   'tones': [{'score': 0.597406, 'tone_id': 'joy', 'tone_name': 'Joy'},\n",
       "    {'score': 0.751512, 'tone_id': 'confident', 'tone_name': 'Confident'}]},\n",
       "  {'sentence_id': 30,\n",
       "   'text': 'For many of our white brothers, as evidenced by their presence here today, have come to realize that their destiny is tied up with our destiny.',\n",
       "   'tones': [{'score': 0.555888, 'tone_id': 'joy', 'tone_name': 'Joy'}]},\n",
       "  {'sentence_id': 31,\n",
       "   'text': 'And they have come to realize that their freedom is inextricably bound to our freedom.',\n",
       "   'tones': [{'score': 0.511598, 'tone_id': 'joy', 'tone_name': 'Joy'},\n",
       "    {'score': 0.532616, 'tone_id': 'analytical', 'tone_name': 'Analytical'}]},\n",
       "  {'sentence_id': 32, 'text': 'We cannot walk alone.', 'tones': []},\n",
       "  {'sentence_id': 33,\n",
       "   'text': 'And as we walk, we must make the pledge that we shall always march ahead.',\n",
       "   'tones': [{'score': 0.533489, 'tone_id': 'joy', 'tone_name': 'Joy'},\n",
       "    {'score': 0.849827, 'tone_id': 'confident', 'tone_name': 'Confident'}]},\n",
       "  {'sentence_id': 34, 'text': 'We cannot turn back.', 'tones': []},\n",
       "  {'sentence_id': 35,\n",
       "   'text': 'There are those who are asking the devotees of Civil Rights, “When will you be satisfied?”',\n",
       "   'tones': [{'score': 0.540389, 'tone_id': 'joy', 'tone_name': 'Joy'}]},\n",
       "  {'sentence_id': 36,\n",
       "   'text': 'We can never be satisfied as long as the Negro is the victim of the unspeakable horrors of police brutality; we can never be satisfied as long as our bodies, heavy with the fatigue of travel, cannot gain lodging in the motels of the highways and the hotels of the cities; we cannot be satisfied as long as the Negro’s basic mobility is from a smaller ghetto to a larger one; we can never be satisfied as long as our children are stripped of their selfhood and robbed of their dignity by signs stating “For Whites Only”; we cannot be satisfied as long as the Negro in Mississippi cannot vote, and the Negro in New York believes he has nothing for which to vote.',\n",
       "   'tones': [{'score': 0.779001,\n",
       "     'tone_id': 'analytical',\n",
       "     'tone_name': 'Analytical'}]},\n",
       "  {'sentence_id': 37,\n",
       "   'text': 'No! no, we are not satisfied, and we will not be satisfied until “justice rolls down like waters and righteousness like a mighty stream.”',\n",
       "   'tones': []},\n",
       "  {'sentence_id': 38,\n",
       "   'text': 'I am not unmindful that some of you have come here out of great trials and tribulations.',\n",
       "   'tones': [{'score': 0.708182, 'tone_id': 'joy', 'tone_name': 'Joy'},\n",
       "    {'score': 0.58393, 'tone_id': 'tentative', 'tone_name': 'Tentative'}]},\n",
       "  {'sentence_id': 39,\n",
       "   'text': 'Some of you have come fresh from narrow jail cells.',\n",
       "   'tones': [{'score': 0.822231,\n",
       "     'tone_id': 'tentative',\n",
       "     'tone_name': 'Tentative'}]},\n",
       "  {'sentence_id': 40,\n",
       "   'text': 'Some of you have come from areas where your quest for freedom left you battered by the storms of persecution and staggered by the winds of police brutality.',\n",
       "   'tones': []},\n",
       "  {'sentence_id': 41,\n",
       "   'text': 'You have been the veterans of creative suffering.',\n",
       "   'tones': [{'score': 0.756521,\n",
       "     'tone_id': 'sadness',\n",
       "     'tone_name': 'Sadness'}]},\n",
       "  {'sentence_id': 42,\n",
       "   'text': 'Continue to work with the faith that unearned suffering is redemptive.',\n",
       "   'tones': [{'score': 0.651365, 'tone_id': 'joy', 'tone_name': 'Joy'},\n",
       "    {'score': 0.825035, 'tone_id': 'confident', 'tone_name': 'Confident'}]},\n",
       "  {'sentence_id': 43, 'text': 'Go back to Mississippi.', 'tones': []},\n",
       "  {'sentence_id': 44, 'text': 'Go back to Alabama.', 'tones': []},\n",
       "  {'sentence_id': 45, 'text': 'Go back to South Carolina.', 'tones': []},\n",
       "  {'sentence_id': 46, 'text': 'Go back to Georgia.', 'tones': []},\n",
       "  {'sentence_id': 47,\n",
       "   'text': 'Go back to Louisiana.',\n",
       "   'tones': [{'score': 0.611574,\n",
       "     'tone_id': 'sadness',\n",
       "     'tone_name': 'Sadness'}]},\n",
       "  {'sentence_id': 48,\n",
       "   'text': 'Go back to the slums and ghettos of our Northern cities, knowing that somehow this situation can and will be changed.',\n",
       "   'tones': [{'score': 0.598471,\n",
       "     'tone_id': 'sadness',\n",
       "     'tone_name': 'Sadness'}]},\n",
       "  {'sentence_id': 49,\n",
       "   'text': 'Let us not wallow in the valley of despair.',\n",
       "   'tones': []},\n",
       "  {'sentence_id': 50,\n",
       "   'text': 'I say to you today, my friends, so even though we face the difficulties of today and tomorrow, I still have a dream.',\n",
       "   'tones': [{'score': 0.538201,\n",
       "     'tone_id': 'sadness',\n",
       "     'tone_name': 'Sadness'}]},\n",
       "  {'sentence_id': 51,\n",
       "   'text': 'It is a dream deeply rooted in the American dream.',\n",
       "   'tones': [{'score': 0.601922, 'tone_id': 'joy', 'tone_name': 'Joy'}]},\n",
       "  {'sentence_id': 52,\n",
       "   'text': 'I have a dream that one day this nation will rise up and live out the true meaning of its creed, “We hold these truths to be self-evident, that all men are created equal.”',\n",
       "   'tones': [{'score': 0.528632, 'tone_id': 'joy', 'tone_name': 'Joy'},\n",
       "    {'score': 0.6821, 'tone_id': 'confident', 'tone_name': 'Confident'}]},\n",
       "  {'sentence_id': 53,\n",
       "   'text': 'I have a dream that one day on the red hills of Georgia, sons of former slaves and the sons of former slaveowners will be able to sit down together at the table of brotherhood.',\n",
       "   'tones': []},\n",
       "  {'sentence_id': 54,\n",
       "   'text': 'I have a dream that one day even the state of Mississippi, a state sweltering with the heat of injustice, sweltering with the heat of oppression, will be transformed into an oasis of freedom and justice.',\n",
       "   'tones': []},\n",
       "  {'sentence_id': 55,\n",
       "   'text': 'I have a dream that my four little children will one day live in a nation where they will not be judged by the color of their skin but by the content of their character.',\n",
       "   'tones': []},\n",
       "  {'sentence_id': 56,\n",
       "   'text': 'I HAVE A DREAM TODAY!',\n",
       "   'tones': [{'score': 0.683308, 'tone_id': 'joy', 'tone_name': 'Joy'}]},\n",
       "  {'sentence_id': 57,\n",
       "   'text': 'I have a dream that one day down in Alabama — with its vicious racists, with its Governor having his lips dripping with the words of interposition and nullification — one day right there in Alabama, little black boys and black girls will be able to join hands with little white boys and white girls as sisters and brothers.',\n",
       "   'tones': []},\n",
       "  {'sentence_id': 58,\n",
       "   'text': 'I HAVE A DREAM TODAY!',\n",
       "   'tones': [{'score': 0.683308, 'tone_id': 'joy', 'tone_name': 'Joy'}]},\n",
       "  {'sentence_id': 59,\n",
       "   'text': 'I have a dream that one day every valley shall be exalted, and every hill and mountain shall be made low.',\n",
       "   'tones': [{'score': 0.837444,\n",
       "     'tone_id': 'confident',\n",
       "     'tone_name': 'Confident'}]},\n",
       "  {'sentence_id': 60,\n",
       "   'text': 'The rough places will be plain and the crooked places will be made straight, “and the glory of the Lord shall be revealed, and all flesh shall see it together.”',\n",
       "   'tones': []},\n",
       "  {'sentence_id': 61,\n",
       "   'text': 'This is our hope.',\n",
       "   'tones': [{'score': 0.880435, 'tone_id': 'joy', 'tone_name': 'Joy'},\n",
       "    {'score': 0.984352, 'tone_id': 'tentative', 'tone_name': 'Tentative'}]},\n",
       "  {'sentence_id': 62,\n",
       "   'text': 'This is the faith that I go back to the South with.',\n",
       "   'tones': [{'score': 0.59889, 'tone_id': 'joy', 'tone_name': 'Joy'},\n",
       "    {'score': 0.80026, 'tone_id': 'confident', 'tone_name': 'Confident'}]},\n",
       "  {'sentence_id': 63,\n",
       "   'text': 'With this faith we will be able to hew out of the mountain of despair a stone of hope.',\n",
       "   'tones': [{'score': 0.775591, 'tone_id': 'joy', 'tone_name': 'Joy'}]},\n",
       "  {'sentence_id': 64,\n",
       "   'text': 'With this faith we will be able to transform the jangling discords of our nation into a beautiful symphony of brother-hood.',\n",
       "   'tones': [{'score': 0.900706, 'tone_id': 'joy', 'tone_name': 'Joy'},\n",
       "    {'score': 0.598602, 'tone_id': 'confident', 'tone_name': 'Confident'}]},\n",
       "  {'sentence_id': 65,\n",
       "   'text': 'With this faith we will be able to work together, to pray together, to struggle together, to go to jail together, to stand up for freedom together, knowing that we will be free one day.',\n",
       "   'tones': []},\n",
       "  {'sentence_id': 66, 'text': 'And this will be the day.', 'tones': []},\n",
       "  {'sentence_id': 67,\n",
       "   'text': 'This will be the day when all of God’s children will be able to sing with new meaning, “My country ’tis of thee, sweet land of liberty, of thee I sing.',\n",
       "   'tones': [{'score': 0.813734, 'tone_id': 'joy', 'tone_name': 'Joy'}]},\n",
       "  {'sentence_id': 68,\n",
       "   'text': 'Land where my father died, land of the pilgrim’s pride, from every mountainside, let freedom ring.”',\n",
       "   'tones': [{'score': 0.741641, 'tone_id': 'sadness', 'tone_name': 'Sadness'},\n",
       "    {'score': 0.704642, 'tone_id': 'confident', 'tone_name': 'Confident'}]},\n",
       "  {'sentence_id': 69,\n",
       "   'text': 'And if America is to be a great nation, this must become true.',\n",
       "   'tones': [{'score': 0.712895, 'tone_id': 'joy', 'tone_name': 'Joy'},\n",
       "    {'score': 0.589295, 'tone_id': 'analytical', 'tone_name': 'Analytical'},\n",
       "    {'score': 0.775702, 'tone_id': 'confident', 'tone_name': 'Confident'}]},\n",
       "  {'sentence_id': 70,\n",
       "   'text': 'So let freedom ring from the prodigious hilltops of New Hampshire; let freedom ring from the mighty mountains of New York; let freedom ring from the heightening Alleghenies of Pennsylvania; let freedom ring from the snow-capped Rockies of Colorado; let freedom ring from the curvaceous slopes of California.',\n",
       "   'tones': [{'score': 0.626216, 'tone_id': 'joy', 'tone_name': 'Joy'}]},\n",
       "  {'sentence_id': 71,\n",
       "   'text': 'But not only that.',\n",
       "   'tones': [{'score': 0.997482,\n",
       "     'tone_id': 'analytical',\n",
       "     'tone_name': 'Analytical'}]},\n",
       "  {'sentence_id': 72,\n",
       "   'text': 'Let freedom ring from Stone Mountain of Georgia; let freedom ring from Lookout Mountain of Tennessee; let freedom ring from every hill and mole hill of Mississippi.',\n",
       "   'tones': []},\n",
       "  {'sentence_id': 73,\n",
       "   'text': '“From every mountainside, let freedom ring.”',\n",
       "   'tones': [{'score': 0.942582,\n",
       "     'tone_id': 'confident',\n",
       "     'tone_name': 'Confident'}]},\n",
       "  {'sentence_id': 74,\n",
       "   'text': 'And when this happens, and when we allow freedom to ring, when we let it ring from every village and every hamlet, from every state and every city, we will be able to speed up that day when all of God’s children, black men and white men, Jews and Gentiles, Protestants and Catholics, will be able to join hands and sing in the words of the old Negro spiritual: “Free at last.',\n",
       "   'tones': [{'score': 0.746728,\n",
       "     'tone_id': 'confident',\n",
       "     'tone_name': 'Confident'}]},\n",
       "  {'sentence_id': 75,\n",
       "   'text': 'Free at last.',\n",
       "   'tones': [{'score': 0.994057,\n",
       "     'tone_id': 'analytical',\n",
       "     'tone_name': 'Analytical'}]},\n",
       "  {'sentence_id': 76,\n",
       "   'text': 'Thank God Almighty, we are free at last.”',\n",
       "   'tones': [{'score': 0.849741, 'tone_id': 'joy', 'tone_name': 'Joy'},\n",
       "    {'score': 0.895415, 'tone_id': 'analytical', 'tone_name': 'Analytical'}]}]}"
      ]
     },
     "execution_count": 228,
     "metadata": {},
     "output_type": "execute_result"
    }
   ],
   "source": [
    "tone_analysis"
   ]
  },
  {
   "cell_type": "code",
   "execution_count": 245,
   "metadata": {
    "ExecuteTime": {
     "end_time": "2018-09-20T12:29:12.951824Z",
     "start_time": "2018-09-20T12:29:12.836951Z"
    }
   },
   "outputs": [],
   "source": [
    "def find_doc_tones(tone_analysis):\n",
    "    tones = []\n",
    "    for d in tone_analysis['sentences_tone']:\n",
    "        if len(d['tones']) > 0:\n",
    "            for sent in d['tones']:\n",
    "                if sent['tone_name'] not in tones:\n",
    "                    tone = sent['tone_name']\n",
    "                    tones.append(tone)\n",
    "                    score = sent['score']\n",
    "                    level = label_score(sent['score'])\n",
    "                    color = add_color(label_score(sent['score']), tone)\n",
    "                    yield {\n",
    "                        'tone_name' : tone\n",
    "                           }\n",
    "                else:\n",
    "                    continue\n",
    "        else:\n",
    "            continue"
   ]
  },
  {
   "cell_type": "code",
   "execution_count": 246,
   "metadata": {
    "ExecuteTime": {
     "end_time": "2018-09-20T12:29:55.913484Z",
     "start_time": "2018-09-20T12:29:55.885577Z"
    }
   },
   "outputs": [],
   "source": [
    "def doc_tone_finder(tone_analysis):\n",
    "    return pd.DataFrame(list(find_doc_tones(tone_analysis)))"
   ]
  },
  {
   "cell_type": "code",
   "execution_count": 247,
   "metadata": {
    "ExecuteTime": {
     "end_time": "2018-09-20T12:30:00.978743Z",
     "start_time": "2018-09-20T12:30:00.940318Z"
    }
   },
   "outputs": [
    {
     "data": {
      "text/html": [
       "<div>\n",
       "<style scoped>\n",
       "    .dataframe tbody tr th:only-of-type {\n",
       "        vertical-align: middle;\n",
       "    }\n",
       "\n",
       "    .dataframe tbody tr th {\n",
       "        vertical-align: top;\n",
       "    }\n",
       "\n",
       "    .dataframe thead th {\n",
       "        text-align: right;\n",
       "    }\n",
       "</style>\n",
       "<table border=\"1\" class=\"dataframe\">\n",
       "  <thead>\n",
       "    <tr style=\"text-align: right;\">\n",
       "      <th></th>\n",
       "      <th>tone_name</th>\n",
       "    </tr>\n",
       "  </thead>\n",
       "  <tbody>\n",
       "    <tr>\n",
       "      <th>0</th>\n",
       "      <td>Joy</td>\n",
       "    </tr>\n",
       "    <tr>\n",
       "      <th>1</th>\n",
       "      <td>Analytical</td>\n",
       "    </tr>\n",
       "    <tr>\n",
       "      <th>2</th>\n",
       "      <td>Sadness</td>\n",
       "    </tr>\n",
       "    <tr>\n",
       "      <th>3</th>\n",
       "      <td>Confident</td>\n",
       "    </tr>\n",
       "    <tr>\n",
       "      <th>4</th>\n",
       "      <td>Tentative</td>\n",
       "    </tr>\n",
       "    <tr>\n",
       "      <th>5</th>\n",
       "      <td>Anger</td>\n",
       "    </tr>\n",
       "  </tbody>\n",
       "</table>\n",
       "</div>"
      ],
      "text/plain": [
       "    tone_name\n",
       "0         Joy\n",
       "1  Analytical\n",
       "2     Sadness\n",
       "3   Confident\n",
       "4   Tentative\n",
       "5       Anger"
      ]
     },
     "execution_count": 247,
     "metadata": {},
     "output_type": "execute_result"
    }
   ],
   "source": [
    "doc_tone_finder(tone_analysis)"
   ]
  },
  {
   "cell_type": "code",
   "execution_count": null,
   "metadata": {},
   "outputs": [],
   "source": []
  }
 ],
 "metadata": {
  "kernelspec": {
   "display_name": "Python 3",
   "language": "python",
   "name": "python3"
  },
  "language_info": {
   "codemirror_mode": {
    "name": "ipython",
    "version": 3
   },
   "file_extension": ".py",
   "mimetype": "text/x-python",
   "name": "python",
   "nbconvert_exporter": "python",
   "pygments_lexer": "ipython3",
   "version": "3.6.5"
  }
 },
 "nbformat": 4,
 "nbformat_minor": 2
}
